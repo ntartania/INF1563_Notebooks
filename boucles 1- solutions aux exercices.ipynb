{
 "cells": [
  {
   "cell_type": "markdown",
   "metadata": {},
   "source": [
    "# Boucles: Solutions aux exercices"
   ]
  },
  {
   "cell_type": "markdown",
   "metadata": {},
   "source": [
    "#### Exercice 1: \n",
    "Modifier la boucle pour afficher 10 fois \"bonjour\"."
   ]
  },
  {
   "cell_type": "code",
   "execution_count": null,
   "metadata": {},
   "outputs": [],
   "source": [
    "for (int i=0; i<5; ++i){\n",
    "    System.out.println(\"Bonjour\");\n",
    "}"
   ]
  },
  {
   "cell_type": "markdown",
   "metadata": {},
   "source": [
    "*Solution* :"
   ]
  },
  {
   "cell_type": "code",
   "execution_count": 1,
   "metadata": {},
   "outputs": [
    {
     "name": "stdout",
     "output_type": "stream",
     "text": [
      "Bonjour\n",
      "Bonjour\n",
      "Bonjour\n",
      "Bonjour\n",
      "Bonjour\n",
      "Bonjour\n",
      "Bonjour\n",
      "Bonjour\n",
      "Bonjour\n",
      "Bonjour\n"
     ]
    }
   ],
   "source": [
    "for (int i=0; i<10; ++i){\n",
    "    System.out.println(\"Bonjour\");\n",
    "}"
   ]
  },
  {
   "cell_type": "markdown",
   "metadata": {},
   "source": [
    " \n",
    " #### Exercice 2: les carrés\n",
    "Modifier la boucle précédente pour que afficher les *carrés* des nombres de 1 à 10:\n",
    "\n",
    "1\\\n",
    "4\\\n",
    "9\\\n",
    "16\\\n",
    "...\\\n",
    "100\n",
    "\n",
    "*Solution* :"
   ]
  },
  {
   "cell_type": "code",
   "execution_count": 2,
   "metadata": {},
   "outputs": [
    {
     "name": "stdout",
     "output_type": "stream",
     "text": [
      "1\n",
      "4\n",
      "9\n",
      "16\n",
      "25\n",
      "36\n",
      "49\n",
      "64\n",
      "81\n",
      "100\n"
     ]
    }
   ],
   "source": [
    "for (int i=1; i<=10; ++i){\n",
    "    System.out.println(i*i); \n",
    "}"
   ]
  },
  {
   "cell_type": "markdown",
   "metadata": {},
   "source": [
    "#### Exercice 3\n",
    "Pour afficher les nombres pairs entre 0 et 20, modifier la définition de la boucle pour que \n",
    "```i```commence à zéro et augmente de 2 en 2 jusqu'à 20."
   ]
  },
  {
   "cell_type": "code",
   "execution_count": null,
   "metadata": {},
   "outputs": [],
   "source": [
    "for (int i=1; i<=10; ++i){\n",
    "    System.out.println(i); \n",
    "}"
   ]
  },
  {
   "cell_type": "markdown",
   "metadata": {},
   "source": [
    "*Solution* :"
   ]
  },
  {
   "cell_type": "code",
   "execution_count": 4,
   "metadata": {},
   "outputs": [
    {
     "name": "stdout",
     "output_type": "stream",
     "text": [
      "0\n",
      "2\n",
      "4\n",
      "6\n",
      "8\n",
      "10\n",
      "12\n",
      "14\n",
      "16\n",
      "18\n",
      "20\n"
     ]
    }
   ],
   "source": [
    "for (int i=0; i<=20; i=i+2){\n",
    "    System.out.println(i); \n",
    "}"
   ]
  },
  {
   "cell_type": "markdown",
   "metadata": {},
   "source": [
    "#### Exercice 4: traduire une boucle ```for``` en boucle ```while```:\n",
    "\n",
    "Soit la boucle ```for``` de l'exemple 3:\n",
    "```java\n",
    "for (int i=10; i>0; --i){\n",
    "    System.out.println(i); \n",
    "}\n",
    "```\n",
    "Écrire une boucle ```while``` équivalente.\n",
    "\n",
    "*Solution* :"
   ]
  },
  {
   "cell_type": "code",
   "execution_count": 5,
   "metadata": {},
   "outputs": [
    {
     "name": "stdout",
     "output_type": "stream",
     "text": [
      "10\n",
      "9\n",
      "8\n",
      "7\n",
      "6\n",
      "5\n",
      "4\n",
      "3\n",
      "2\n",
      "1\n"
     ]
    }
   ],
   "source": [
    "int i=10; \n",
    "while (i>0){\n",
    "    System.out.println(i); \n",
    "    --i;\n",
    "}"
   ]
  },
  {
   "cell_type": "markdown",
   "metadata": {},
   "source": [
    "#### Exercice 5: traduire une boucle ```for``` en boucle ```do while```:\n",
    "\n",
    "On continue à utiliser la boucle for de l'exemple 3.\n",
    "Écrire maintenant une boucle ```do while``` équivalente.\n"
   ]
  },
  {
   "cell_type": "code",
   "execution_count": 7,
   "metadata": {},
   "outputs": [
    {
     "name": "stdout",
     "output_type": "stream",
     "text": [
      "10\n",
      "9\n",
      "8\n",
      "7\n",
      "6\n",
      "5\n",
      "4\n",
      "3\n",
      "2\n",
      "1\n"
     ]
    }
   ],
   "source": [
    "int i=10; \n",
    "do{\n",
    "    System.out.println(i); \n",
    "    --i;\n",
    "} while (i>0);"
   ]
  },
  {
   "cell_type": "markdown",
   "metadata": {},
   "source": [
    "#### Exercice 6: trouver la racine entière d'un nombre:\n",
    "\n",
    "On veut trouver la racine carrée d'un nombre *n*, si elle est entière. Pour ceci, on va simplement parcourir l'intervalle \\[0, n\\] et tester chaque nombre pour voir si il donne *n* quand on l'élève au carré. Si on ne trouve pas de racine entière, on affichera un message indiquant cela.\n",
    "\n",
    "*Solution* :"
   ]
  },
  {
   "cell_type": "code",
   "execution_count": 10,
   "metadata": {},
   "outputs": [
    {
     "name": "stdout",
     "output_type": "stream",
     "text": [
      "Entrer un entier positif pour obtenir sa racine carrée:\n",
      "144\n",
      "La racine carrée du nombre est 12\n"
     ]
    }
   ],
   "source": [
    "Scanner clavier = new Scanner(System.in);\n",
    "int nombre;\n",
    "do {\n",
    "    System.out.println(\"Entrer un entier positif pour obtenir sa racine carrée:\");\n",
    "    nombre = clavier.nextInt();\n",
    "} while (nombre <0); // pour s'assurer que le nombre est positif\n",
    "\n",
    "int racine = -1;\n",
    "for (int i=0; i<=nombre; i++ ){ // boucle pour chercher la racine dans l'intervalle [0, nombre]\n",
    "    if (i*i==nombre){\n",
    "        racine = i;\n",
    "        break;\n",
    "    }\n",
    "}\n",
    "\n",
    "if (racine == -1){\n",
    "    System.out.println(\"La racine carrée du nombre n'est pas entière\");\n",
    "} else {\n",
    "    System.out.println(\"La racine carrée du nombre est \"+ racine);\n",
    "}"
   ]
  }
 ],
 "metadata": {
  "kernelspec": {
   "display_name": "Java",
   "language": "java",
   "name": "java"
  },
  "language_info": {
   "codemirror_mode": "java",
   "file_extension": ".jshell",
   "mimetype": "text/x-java-source",
   "name": "Java",
   "pygments_lexer": "java",
   "version": "14.0.1+7"
  }
 },
 "nbformat": 4,
 "nbformat_minor": 4
}
