{
 "cells": [
  {
   "cell_type": "markdown",
   "metadata": {},
   "source": [
    "# Types et Expressions numériques\n",
    "\n",
    "En programmation on manipule de l'information principalement numérique, et on doit donc écrire des calculs en utilisant les opérateurs arithmétiques offerts par le langage qu'on utilise.\n",
    "\n",
    "On peut écrire des expressions directement avec des nombres, comme on ferait sur une calculatrice (note: ce format interactif utilise la console JShell et n'est pas la manière habituelle d'utiliser le langage Java):"
   ]
  },
  {
   "cell_type": "code",
   "execution_count": 1,
   "metadata": {},
   "outputs": [
    {
     "data": {
      "text/plain": [
       "5"
      ]
     },
     "execution_count": 1,
     "metadata": {},
     "output_type": "execute_result"
    }
   ],
   "source": [
    "3 + 2"
   ]
  },
  {
   "cell_type": "markdown",
   "metadata": {},
   "source": [
    "En Java, on utilise les symboles ```+```, ```-```, ```*```, ```/``` pour les quatre opérations de base. La sémantique des 3 premiers est la sémantique habituelle en mathématiques, et pour la division, le résultat diffère selon si les opérandes sont entiers ou décimaux: une division entre deux entiers est la division entière, qui donne le quotient de la division. Pour obtenir le *reste* de la division, on utilise l'opération *modulo*, représentée par le symbole ```%```. \n",
    "\n",
    "**Note**: la distinction entre entiers et décimaux est très importante, et on y reviendra un peu plus loin."
   ]
  },
  {
   "cell_type": "code",
   "execution_count": 2,
   "metadata": {},
   "outputs": [
    {
     "data": {
      "text/plain": [
       "0.75"
      ]
     },
     "execution_count": 2,
     "metadata": {},
     "output_type": "execute_result"
    }
   ],
   "source": [
    "1.5 / 2"
   ]
  },
  {
   "cell_type": "code",
   "execution_count": 3,
   "metadata": {},
   "outputs": [
    {
     "data": {
      "text/plain": [
       "7"
      ]
     },
     "execution_count": 3,
     "metadata": {},
     "output_type": "execute_result"
    }
   ],
   "source": [
    "15 / 2"
   ]
  },
  {
   "cell_type": "code",
   "execution_count": 4,
   "metadata": {},
   "outputs": [
    {
     "data": {
      "text/plain": [
       "1"
      ]
     },
     "execution_count": 4,
     "metadata": {},
     "output_type": "execute_result"
    }
   ],
   "source": [
    "15 % 2"
   ]
  },
  {
   "cell_type": "markdown",
   "metadata": {},
   "source": [
    "La principale utilisation de l'opérateur modulo est pour déterminer si un nombre est multiple d'un autre.\n",
    "\n",
    "Par exemple: 205 est-il multiple de 41? 151 est-il multiple de 9?"
   ]
  },
  {
   "cell_type": "code",
   "execution_count": 5,
   "metadata": {},
   "outputs": [
    {
     "data": {
      "text/plain": [
       "0"
      ]
     },
     "execution_count": 5,
     "metadata": {},
     "output_type": "execute_result"
    }
   ],
   "source": [
    "205 % 41"
   ]
  },
  {
   "cell_type": "markdown",
   "metadata": {},
   "source": [
    "Le reste est zéro, donc 205 est multiple de 41. "
   ]
  },
  {
   "cell_type": "code",
   "execution_count": 6,
   "metadata": {},
   "outputs": [
    {
     "data": {
      "text/plain": [
       "7"
      ]
     },
     "execution_count": 6,
     "metadata": {},
     "output_type": "execute_result"
    }
   ],
   "source": [
    "151 % 9"
   ]
  },
  {
   "cell_type": "markdown",
   "metadata": {},
   "source": [
    "Le reste est différent de zéro, donc 151 n'est pas multiple de 9.\n",
    "\n",
    "On peut aussi écrire des expressions plus longues, utiliser des nombres négatifs, et grouper les opérations en utilisant des parenthèses:"
   ]
  },
  {
   "cell_type": "code",
   "execution_count": 7,
   "metadata": {},
   "outputs": [
    {
     "data": {
      "text/plain": [
       "-12.446575342465755"
      ]
     },
     "execution_count": 7,
     "metadata": {},
     "output_type": "execute_result"
    }
   ],
   "source": [
    "(12.8 + 117) * (-3.5) / (47.5 - 11)"
   ]
  },
  {
   "cell_type": "markdown",
   "metadata": {},
   "source": [
    "La précédence des opérateurs est celle qu'on connaît en mathématiques (multiplications et divisions sont exécutées avant les additions et soustractions), et les parenthèses jouent le même rôle:"
   ]
  },
  {
   "cell_type": "code",
   "execution_count": 8,
   "metadata": {},
   "outputs": [
    {
     "data": {
      "text/plain": [
       "17"
      ]
     },
     "execution_count": 8,
     "metadata": {},
     "output_type": "execute_result"
    }
   ],
   "source": [
    "2 + 5 * 3"
   ]
  },
  {
   "cell_type": "code",
   "execution_count": 9,
   "metadata": {},
   "outputs": [
    {
     "data": {
      "text/plain": [
       "21"
      ]
     },
     "execution_count": 9,
     "metadata": {},
     "output_type": "execute_result"
    }
   ],
   "source": [
    "(2 + 5) * 3"
   ]
  },
  {
   "cell_type": "markdown",
   "metadata": {},
   "source": [
    "Les opérations de même précédence sont effectuées de gauche à droite:"
   ]
  },
  {
   "cell_type": "code",
   "execution_count": 10,
   "metadata": {},
   "outputs": [
    {
     "data": {
      "text/plain": [
       "8"
      ]
     },
     "execution_count": 10,
     "metadata": {},
     "output_type": "execute_result"
    }
   ],
   "source": [
    "12 / 3 * 2"
   ]
  },
  {
   "cell_type": "markdown",
   "metadata": {},
   "source": [
    "On a d'abord divisé 12 par 3 puis multiplié le résultat par 2. On peut changer l'ordre avec des parenthèses:"
   ]
  },
  {
   "cell_type": "code",
   "execution_count": 11,
   "metadata": {},
   "outputs": [
    {
     "data": {
      "text/plain": [
       "2"
      ]
     },
     "execution_count": 11,
     "metadata": {},
     "output_type": "execute_result"
    }
   ],
   "source": [
    "12 / (3 * 2)"
   ]
  },
  {
   "cell_type": "markdown",
   "metadata": {},
   "source": [
    "## Le codage des nombres\n",
    "Sur un ordinateur, toutes les informations (numériques en particulier) sont représentées en binaire. Pour représenter des entiers, c'est simple: on utilise la représentation en base 2.\n",
    "\n",
    "Le nombre 5 (en base 10) est donc représenté 101 en binaire (base 2). Mais comment représenter des nombres à virgule? des nombres négatifs? des réels donc la représentation décimale est infinie (pi)? \n",
    "\n",
    "En Java et dans la plupart des langages, il existe plusieurs façon de représenter les nombres (au moins une manière pour les entiers et une pour les nombres à virgule), et pour chaque valeur numérique utilisée dans un programme, on associe à cette valeur un *type*, qui indique comment la valeur est codée en mémoire. Le programme peut ainsi correctement écrire le nombre en mémoire, et correctement interpréter une information binaire pour l'afficher (en base 10) à l'utilisateur. \n",
    "\n",
    "### Les entiers\n",
    "Un entier est représenté par deux informations: le signe et la valeur absolue du nombre. Pour représenter un entier en mémoire, on réserve un certain nombre de *bits* (32 pour le type ```int``` de Java): un bit représente le signe, et les autres la valeur aboslue du nombre. À cause de la place limitée qu'on utilise, on ne peut pas représenter des nombres arbitrairement grands. Par exemple, le type ```int``` permet de représenter des nombres seulement entre -2147483648 et 2147483647.\n",
    "\n",
    "### Les décimaux\n",
    "Pour les décimaux (nombre à virgule), on représente chaque nombre par trois informations. On représente la suite de chiffres qui le compose comme si c'était un entier (donc avec signe + valeur absolue) et on rajoute une information qui est la position de la virgule. Techniquement, on appelle ces trois informations le *signe*, la *mantisse*, et l'*exposant*.\n",
    "\n",
    "Par exemple, le nombre -0.5 est représenté par le signe moins, la mantisse 5 et l'exposant -1, qui veut dire que la \n",
    "virgule est décalée d'une position vers la gauche. \n",
    "\n",
    "L'idée qu'on puisse juste décaler la virgule à gauche ou à droite a donné l'expression \"virgule flottante\" et le nom de type ```float``` utilisé dans de nombreux langages. \n",
    "\n",
    "Le fait d'utiliser un espace limité (32 bits pour le type ```float```de Java, 64 bits pour le type ```double```) signifie que les nombres à virgule seront représentés avec une *précision* limitée, ce qui peut introduire de petites erreurs dans la représentation des nombres réels, et donc dans les calculs. En général cela ne pose pas problème, mais il faut en être conscient.\n",
    "\n",
    "### Interprétation des nombres littéraux\n",
    "\n",
    "Quand on écrit un nombre littéral en Java (une suite de chiffres), Java interprête le nombre comme suit: si le nombre ne contient pas de point, Java l'interprêtera comme un ```int``` (entier codé sur 32 bits), et on écrit le nombre contient un point, Java l'interprêtera comme un ```double``` (décimal \"double précision\", codé sur 64 bits).\n",
    "\n",
    "Par exemple ```1``` sera considéré un ```int```, et ```1.0``` sera considéré un ```double```. \n",
    "\n",
    "Si on veut utiliser le type ```long``` (entier codé sur 64 bits, permettant de représenter des nombres plus grands), il faut écrire le nombre suivi de la lettre L (majuscule, pour éviter la confusion avec le chiffre un): ```1L``` est donc le nombre 1 codé sur 64 bits.\n",
    "\n",
    "De même, si on veut utiliser le type ```float``` (nombre à virgule codé sur 32 bits) on doit écrire le nombre suivi de la lettre f (minuscule). Exemple: ```1.5f```. \n",
    "\n",
    "A noter que Java offre aussi des types de nombres entiers codés sur 8 ou 16 bits (```byte``` et ```short```). En général, la représentation \"par défaut\" avec les types ```int``` et ```double``` convient très bien, et on n'utilise les autres types numériques que de manière très ponctuelle (par exemple pour manipuler des grands nombres, ou pour économiser de la mémoire dans un système embarqué). \n",
    "\n",
    "Dans ce cours on utilisera toujours les types ```int``` et ```double```, sauf exceptions.\n",
    "\n",
    "#### Les divisions\n",
    "Une des conséquences de la distinction entre entiers et décimaux est la distinction entre division entière et la division \"exacte\":"
   ]
  },
  {
   "cell_type": "code",
   "execution_count": 16,
   "metadata": {},
   "outputs": [
    {
     "data": {
      "text/plain": [
       "1"
      ]
     },
     "execution_count": 16,
     "metadata": {},
     "output_type": "execute_result"
    }
   ],
   "source": [
    "3 / 2"
   ]
  },
  {
   "cell_type": "code",
   "execution_count": 17,
   "metadata": {},
   "outputs": [
    {
     "data": {
      "text/plain": [
       "1.5"
      ]
     },
     "execution_count": 17,
     "metadata": {},
     "output_type": "execute_result"
    }
   ],
   "source": [
    "3.0 / 2.0"
   ]
  },
  {
   "cell_type": "markdown",
   "metadata": {},
   "source": [
    "En mathématiques, ces deux expressions seraient équivalentes. Mais ici, on a des types différents et des opératiosn différentes. Le résultat est donc différent, en type **et** en valeur.\n",
    "\n",
    "**Note**: La division entière est une importante source d'erreurs dans des programmes Java.\n",
    "\n",
    "## Conversion de types\n",
    "\n",
    "La distinction entre entiers et décimaux crée des complications quand on veut combiner de nombres de types différents dans une une expression: le résultat est aussi une information qui doit être stockée en mémoire, elle doit donc avoir un type et une représentation. \n",
    "\n",
    "Chaque expression arithmétique est interprétée comme une séquence d'opérations binaires (à deux opérandes). Par exemple, l'addition 1 + 2 + 3 + 4 sera exécutée de gauche à droite, ce sera donc la somme de ((1 + 2) + 3 ) à laquelle on ajoutera 4. Par conséquent, le problème de combiner des types se fait toujours dans le contexte d'une opération binaire: on a toujours un opérateur, et deux opérandes qui peuvent être de types différents. \n",
    "\n",
    "Il y a alors deux questions à se poser: la première, est-ce que cette opération est bien définie pour les deux types en question? et deuxièmement, quel est le type du résultat? \n",
    "\n",
    "### Conversions automatiques de types\n",
    "\n",
    "Les opérations arithmétiques de base ```+```, ```-```, et ```*``` sont bien définies, et de manière identique pour les entiers et les décimaux. On pourrait donc imaginer additionner directement les deux nombres. \n",
    "\n",
    "Mais en mémoire, ces deux nombres sont représentés différemment, et il faudrait voir comment le processeur pourra effectuer l'opération (par exemple une addition) sur deux nombres avec des codages binaires différents... et comment coder le résultat? autrement dit, quel sera le type du résultat? \n",
    "\n",
    "Des exemples nous montrent que le choix d'un type pour le résultat est souvent assez clair: par exemple si on additionne un entier et un décimal le résultat devra être un décimal (exemple 1 + 0.5 = 1.5). Mais si on ajoute un entier *double précision* avec un décimal *simple précision*, quel sera alors le type du résultat? Ça se complique.\n",
    "\n",
    "En fait dans une situation où on écrit une expression qui combine deux types numériques différents, Java va choisir un des deux types, et **convertir automatiquement** l'autre opérande vers ce type.\n",
    "\n",
    "Donc si on écrit  ```1 + 0.5```, soit une addition d'un ```int``` et d'un ```double```, Java va **choisir** le type ```double```, **convertir** le ```1``` au type ```double```, et **ensuite exécuter** l'addition entre les deux ```double```s. Le résultat sera donc de type ```double```. \n",
    "\n",
    "#### Comment choisir un type?\n",
    "\n",
    "Quand Java doit choisir un type pour une opération (entre ```int``` et ```double```, dans notre exemple), il y a une règle claire, qui est partagée par la majorité des langages de programmation: Java va choisir le type **le moins contraignant** entre les types des deux opérandes.\n",
    "\n",
    "Qu'est-ce qu'un type \"contraignant\"? En général, si on a deux types différents (par exemple ```int``` et ```double```), un des deux types peut représenter des nombres que l'autre ne peut pas représenter. Pour notre exemple,  le type ```int``` est *plus contraignant* que le type ```double```, parce qu'il ne peut pas représenter des nombres comme 0.5 ou -12.543, alors que tout entier peut être représenté par un ```double```: ```1``` est représenté par ```1.0```. \n",
    "\n",
    "Un type \"à virgule flottante\" est moins contraignant qu'un type \"entier\", et un type représenté sur plus de bits (ex. 64 bits) est moins contraignant qu'un type représenté sur moins de bits (ex 32). Les conversions se feront donc des types entiers vers les types à virgule flottante, et des types codés sur moins de bits vers les types codés sur plus de bits.\n",
    "\n",
    "Exemple:"
   ]
  },
  {
   "cell_type": "code",
   "execution_count": 18,
   "metadata": {},
   "outputs": [
    {
     "data": {
      "text/plain": [
       "4.0"
      ]
     },
     "execution_count": 18,
     "metadata": {},
     "output_type": "execute_result"
    }
   ],
   "source": [
    "1.0 + 3"
   ]
  },
  {
   "cell_type": "markdown",
   "metadata": {},
   "source": [
    "#### Les divisions\n",
    "\n",
    "Contrairement aux opérations ```+```, ```-```, et ```*```, la division, elle, est définie **différemment** pour les entiers et les décimaux: une division entre deux décimaux sera \"exacte\" alors qu'une division entre deux entiers sera la division entière, c'est à dire elle donnera le quotient de la division euclidienne entre les opérandes.\n",
    "\n",
    "Le mécanisme décrit ci-dessus (choix d'un type - conversion d'un opérande - exécution) reste le même, mais la conséquence est une source importante d'erreurs: on s'attend naturellement à ce que le résultat soit \"exact\", et on oublie que si les deux opérandes sont entiers, aucune conversion ne se fait et la division donne seulement le quotient.\n",
    "\n",
    "La solution est de prêter particulièrement attention aux divisions dans les calculs, et de *contraindre* la conversion, en utilisant un opérande décimal:"
   ]
  },
  {
   "cell_type": "code",
   "execution_count": 27,
   "metadata": {},
   "outputs": [
    {
     "data": {
      "text/plain": [
       "0"
      ]
     },
     "execution_count": 27,
     "metadata": {},
     "output_type": "execute_result"
    }
   ],
   "source": [
    "1 / 2"
   ]
  },
  {
   "cell_type": "code",
   "execution_count": 20,
   "metadata": {},
   "outputs": [
    {
     "data": {
      "text/plain": [
       "0.5"
      ]
     },
     "execution_count": 20,
     "metadata": {},
     "output_type": "execute_result"
    }
   ],
   "source": [
    "1.0 / 2"
   ]
  },
  {
   "cell_type": "code",
   "execution_count": 21,
   "metadata": {},
   "outputs": [
    {
     "data": {
      "text/plain": [
       "0.5"
      ]
     },
     "execution_count": 21,
     "metadata": {},
     "output_type": "execute_result"
    }
   ],
   "source": [
    "1 / 2.0"
   ]
  },
  {
   "cell_type": "code",
   "execution_count": 22,
   "metadata": {},
   "outputs": [
    {
     "data": {
      "text/plain": [
       "1.5"
      ]
     },
     "execution_count": 22,
     "metadata": {},
     "output_type": "execute_result"
    }
   ],
   "source": [
    "(1 + 2) / (4 - 2.0)"
   ]
  },
  {
   "cell_type": "markdown",
   "metadata": {},
   "source": [
    "Attention: le fait d'avoir un nombre à virgule quelque part dans une expression n'est pas suffisant pour qu'une division soit nécessairement \"exacte\", il faut tenir compte de l'ordre des opérations:"
   ]
  },
  {
   "cell_type": "code",
   "execution_count": 24,
   "metadata": {},
   "outputs": [
    {
     "data": {
      "text/plain": [
       "6.0"
      ]
     },
     "execution_count": 24,
     "metadata": {},
     "output_type": "execute_result"
    }
   ],
   "source": [
    "7 / 2 * 2.0"
   ]
  },
  {
   "cell_type": "code",
   "execution_count": 25,
   "metadata": {},
   "outputs": [
    {
     "data": {
      "text/plain": [
       "7.0"
      ]
     },
     "execution_count": 25,
     "metadata": {},
     "output_type": "execute_result"
    }
   ],
   "source": [
    "2.0 * 7 / 2"
   ]
  },
  {
   "cell_type": "markdown",
   "metadata": {},
   "source": [
    "Dans l'expression ci-dessus, la division et la multiplication sont de même précédence; les opérations sont donc exécutées de gauche à droite. Dans le premier cas, la division entre les deux ```int``` est entière et donne 3, puis la multiplication par le ```double``` ```2.0``` donne ```6.0```. Dans le deuxième cas, la multiplication est effectuée en premier, et donne un ```double```, ```14.0```; et la division est \"exacte\" car le premier opérande est de type ```double```.\n",
    "\n",
    "#### Le cas du modulo\n",
    "\n",
    "L'opération modulo (```%```) est bien définie autant pour les entiers et les décimaux, mais sa sémantique avec les décimaux peut être source de confusion. Il est préférable de l'utiliser uniquement avec des entiers."
   ]
  },
  {
   "cell_type": "markdown",
   "metadata": {},
   "source": [
    "#### Exercice 1\n",
    "\n",
    "Donner le type (```int``` ou ```double```) et la valeur des expressions suivantes:"
   ]
  },
  {
   "cell_type": "code",
   "execution_count": null,
   "metadata": {},
   "outputs": [],
   "source": [
    "3 - 1 + 1.0"
   ]
  },
  {
   "cell_type": "code",
   "execution_count": null,
   "metadata": {},
   "outputs": [],
   "source": [
    "(5 + 1.0) / 3"
   ]
  },
  {
   "cell_type": "code",
   "execution_count": null,
   "metadata": {},
   "outputs": [],
   "source": [
    "3.0 + 2 * 5"
   ]
  },
  {
   "cell_type": "code",
   "execution_count": null,
   "metadata": {},
   "outputs": [],
   "source": [
    "3.0 * (1 / 3)"
   ]
  },
  {
   "cell_type": "code",
   "execution_count": null,
   "metadata": {},
   "outputs": [],
   "source": [
    "4.0 / 2 / 4"
   ]
  },
  {
   "cell_type": "markdown",
   "metadata": {},
   "source": [
    "### Conversion forcée de type (cast)\n",
    "\n",
    "En plus de la conversion automatique de type, on peut aussi \"forcer\" la conversion d'une valeur vers un type particulier.\n",
    "\n",
    "Cette opération de conversion forcée (*casting* en anglais) s'écrit en plaçant le type voulu entre parenthèses, avant l'élément à convertir:"
   ]
  },
  {
   "cell_type": "code",
   "execution_count": 28,
   "metadata": {},
   "outputs": [
    {
     "data": {
      "text/plain": [
       "3.0"
      ]
     },
     "execution_count": 28,
     "metadata": {},
     "output_type": "execute_result"
    }
   ],
   "source": [
    "(double) 3"
   ]
  },
  {
   "cell_type": "markdown",
   "metadata": {},
   "source": [
    "On peut utiliser un cast pour forcer la conversion d'un opérande vers le type double quand on veut s'assurer qu'une division sera \"exacte\":"
   ]
  },
  {
   "cell_type": "code",
   "execution_count": 29,
   "metadata": {},
   "outputs": [
    {
     "data": {
      "text/plain": [
       "1.5"
      ]
     },
     "execution_count": 29,
     "metadata": {},
     "output_type": "execute_result"
    }
   ],
   "source": [
    "(double) 3 / 2"
   ]
  },
  {
   "cell_type": "markdown",
   "metadata": {},
   "source": [
    "À noter que le cast est \"prioritaire\" sur les opérations arithmétiques: le cast s'applique ici au 3 seulement, et non pas au résultat de la division. Si on veut être sur l'élément auquel s'applique le cast, on peut utiliser des parenthèses:"
   ]
  },
  {
   "cell_type": "code",
   "execution_count": 34,
   "metadata": {},
   "outputs": [
    {
     "data": {
      "text/plain": [
       "4.0"
      ]
     },
     "execution_count": 34,
     "metadata": {},
     "output_type": "execute_result"
    }
   ],
   "source": [
    "((double) 5 + 3) / 2"
   ]
  },
  {
   "cell_type": "markdown",
   "metadata": {},
   "source": [
    "On peut utiliser un cast vers le type ```int``` pour obtenir la partie entière d'un nombre:"
   ]
  },
  {
   "cell_type": "code",
   "execution_count": 30,
   "metadata": {},
   "outputs": [
    {
     "data": {
      "text/plain": [
       "4"
      ]
     },
     "execution_count": 30,
     "metadata": {},
     "output_type": "execute_result"
    }
   ],
   "source": [
    "(int) 4.3"
   ]
  },
  {
   "cell_type": "markdown",
   "metadata": {},
   "source": [
    "Mais attention: un cast n'arrondit pas à l'entier le plus proche, il tronque:"
   ]
  },
  {
   "cell_type": "code",
   "execution_count": 32,
   "metadata": {},
   "outputs": [
    {
     "data": {
      "text/plain": [
       "3"
      ]
     },
     "execution_count": 32,
     "metadata": {},
     "output_type": "execute_result"
    }
   ],
   "source": [
    "(int) 3.999"
   ]
  },
  {
   "cell_type": "markdown",
   "metadata": {},
   "source": [
    "Noter que la troncature se fait en valeur absolue:"
   ]
  },
  {
   "cell_type": "code",
   "execution_count": 33,
   "metadata": {},
   "outputs": [
    {
     "data": {
      "text/plain": [
       "-2"
      ]
     },
     "execution_count": 33,
     "metadata": {},
     "output_type": "execute_result"
    }
   ],
   "source": [
    "(int) -2.2"
   ]
  },
  {
   "cell_type": "markdown",
   "metadata": {},
   "source": [
    "#### Exercice 2\n",
    "\n",
    "Donner le type (```int``` ou ```double```) et la valeur des expressions suivantes:"
   ]
  },
  {
   "cell_type": "code",
   "execution_count": null,
   "metadata": {},
   "outputs": [],
   "source": [
    "(double) 3 + 5"
   ]
  },
  {
   "cell_type": "code",
   "execution_count": null,
   "metadata": {},
   "outputs": [],
   "source": [
    "1 + 5 / (double) 2 "
   ]
  },
  {
   "cell_type": "code",
   "execution_count": null,
   "metadata": {},
   "outputs": [],
   "source": [
    "(double) (5/2)"
   ]
  },
  {
   "cell_type": "code",
   "execution_count": null,
   "metadata": {},
   "outputs": [],
   "source": [
    "(int) 5.0 / 2 + 2"
   ]
  },
  {
   "cell_type": "code",
   "execution_count": null,
   "metadata": {},
   "outputs": [],
   "source": [
    "(int) (5.0 / 2) * 3.0"
   ]
  }
 ],
 "metadata": {
  "kernelspec": {
   "display_name": "Java",
   "language": "java",
   "name": "java"
  },
  "language_info": {
   "codemirror_mode": "java",
   "file_extension": ".jshell",
   "mimetype": "text/x-java-source",
   "name": "Java",
   "pygments_lexer": "java",
   "version": "14.0.1+7"
  }
 },
 "nbformat": 4,
 "nbformat_minor": 2
}
