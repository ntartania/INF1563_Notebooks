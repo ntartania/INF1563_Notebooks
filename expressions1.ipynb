{
 "cells": [
  {
   "cell_type": "markdown",
   "metadata": {},
   "source": [
    "**Note:**\n",
    "Le présent document est un *Jupyter Notebook*, un format interactif qui permet de combiner du code avec du texte. \n",
    "\n",
    "Il peut être visionné comme une page HTML ordinaire, ou \"exécuté\" à l'aide d'un serveur Jupyter: vous pouvez cliquer sur le lien en haut à droite pour lancer une session interactive sur la plate-forme infonuagique mybinder.\n",
    "\n",
    "Le but de ce format est d'expliquer la programmation et d'intercaler des exemples de code que les utilisateurs peuvent eux-même exécuter. Ici, le code présenté est du code Java, qui est exécuté à l'aide de l'interpréteur JShell. \n",
    "Chaque case \"In\" contient un fragment de code, et la ligne \"out\" en-dessous affiche le résultat de l'exécution. \n",
    "\n",
    "**Attention!** Il y a une différence entre la programmation interactive, où les résultats sont affichés comme sur une calculatrice, et la problématique d'afficher un résultat à l'écran en utilisant une instruction d'affichage (```System.out.println```). \n",
    "\n",
    "JShell, et le code présenté ici, nous affiche systématiquement la valeur des *expressions* qu'on insère dans les cases \"In\". Si ce qu'on entre n'est pas une expression, il n'y a pas de case \"Out\".\n",
    "\n",
    "# Expressions numériques\n",
    "\n",
    "\n",
    "En programmation on manipule de l'information principalement numérique, et on doit donc écrire des calculs en utilisant les opérateurs arithmétiques offerts par le langage qu'on utilise.\n",
    "\n",
    "## Opérateurs arithmétiques de base\n",
    "En Java, comme dans la plupart des langages, on peut écrire des expressions directement avec des nombres et les opérateurs arithmétiques de base: ces quatres opérateurs de base (addition, soustraction, multiplication et division) s'écrivent ```+```, ```-```, ```*```, ```/```. À ces quatre opérations usuelles on ajoutera le modulo, écrit ```%```.\n",
    "\n",
    "Les opérations ```+```, ```-``` et ```*``` ont la sémantique habituelle qu'on connait en mathématiques:"
   ]
  },
  {
   "cell_type": "code",
   "execution_count": 1,
   "metadata": {},
   "outputs": [
    {
     "data": {
      "text/plain": [
       "5"
      ]
     },
     "execution_count": 1,
     "metadata": {},
     "output_type": "execute_result"
    }
   ],
   "source": [
    "3 + 2"
   ]
  },
  {
   "cell_type": "code",
   "execution_count": 2,
   "metadata": {},
   "outputs": [
    {
     "data": {
      "text/plain": [
       "4.5"
      ]
     },
     "execution_count": 2,
     "metadata": {},
     "output_type": "execute_result"
    }
   ],
   "source": [
    "6 - 1.5"
   ]
  },
  {
   "cell_type": "code",
   "execution_count": 3,
   "metadata": {},
   "outputs": [
    {
     "data": {
      "text/plain": [
       "1.5"
      ]
     },
     "execution_count": 3,
     "metadata": {},
     "output_type": "execute_result"
    }
   ],
   "source": [
    "0.1 * 15"
   ]
  },
  {
   "cell_type": "markdown",
   "metadata": {},
   "source": [
    "L'opération de division (```/```) et le modulo (```%```) ont des subtilités qu'il vaut la peine d'explorer en plus de détail.\n",
    "\n",
    "### Division et division entière\n",
    "\n",
    "Pour la division, le résultat diffère selon si les opérandes sont des nombres *entiers* ou *décimaux*.\n",
    "La distinction entre entiers et décimaux est très importante, et on y reviendra un peu plus loin. D'ici là, considérons que les nombres entiers sont ceux dont l'écriture de comporte pas le point décimal, et les nombres décimaux sont écrits avec un point décimal, même si la partie décimale vaut zéro: par exemple, ```3``` et ```-8675``` sont des nombres entiers, ```3.0``` et ```8.4323``` sont des décimaux.\n",
    "\n",
    "#### Division \"normale\"\n",
    "\n",
    "La division entre des nombres *décimaux* donne des résultats conformes à la sémantique habituelle de la division:"
   ]
  },
  {
   "cell_type": "code",
   "execution_count": 4,
   "metadata": {},
   "outputs": [
    {
     "data": {
      "text/plain": [
       "3.0"
      ]
     },
     "execution_count": 4,
     "metadata": {},
     "output_type": "execute_result"
    }
   ],
   "source": [
    "4.5 / 1.5"
   ]
  },
  {
   "cell_type": "code",
   "execution_count": 5,
   "metadata": {},
   "outputs": [
    {
     "data": {
      "text/plain": [
       "2.5"
      ]
     },
     "execution_count": 5,
     "metadata": {},
     "output_type": "execute_result"
    }
   ],
   "source": [
    "5.0 / 2.0"
   ]
  },
  {
   "cell_type": "markdown",
   "metadata": {},
   "source": [
    "En fait, on verra un peut plus loin qu'il suffit qu'un des deux opérandes soit décimal pour que le résultat soit conforme à ce qu'on attend:"
   ]
  },
  {
   "cell_type": "code",
   "execution_count": 6,
   "metadata": {},
   "outputs": [
    {
     "data": {
      "text/plain": [
       "2.5"
      ]
     },
     "execution_count": 6,
     "metadata": {},
     "output_type": "execute_result"
    }
   ],
   "source": [
    "5/2.0"
   ]
  },
  {
   "cell_type": "code",
   "execution_count": 7,
   "metadata": {},
   "outputs": [
    {
     "data": {
      "text/plain": [
       "2.5"
      ]
     },
     "execution_count": 7,
     "metadata": {},
     "output_type": "execute_result"
    }
   ],
   "source": [
    "5.0/2"
   ]
  },
  {
   "cell_type": "markdown",
   "metadata": {},
   "source": [
    "#### Division entière et modulo\n",
    "\n",
    "Lorsque les opérandes sont entiers, la sémantique de la division change. Le résultat est tronqué pour être aussi un entier:"
   ]
  },
  {
   "cell_type": "code",
   "execution_count": 8,
   "metadata": {},
   "outputs": [
    {
     "data": {
      "text/plain": [
       "2"
      ]
     },
     "execution_count": 8,
     "metadata": {},
     "output_type": "execute_result"
    }
   ],
   "source": [
    "5/2"
   ]
  },
  {
   "cell_type": "markdown",
   "metadata": {},
   "source": [
    "Autrement dit, la division entre deux entiers (appelée simplement *division entière*) est donne le *quotient* de la division euclidienne (la division telle qu'on la définit à l'école élémentaire). \n",
    "\n",
    "L'opérateur modulo (```%```), lui, donne le *reste* de la division euclidienne. \n",
    "\n",
    "Exemple: si on divise 22 par 5 en suivant la méthode de la division euclidienne (comme à l'école élémentaire), on obtient un quotient de 4 et un reste de 2: $22 = 4 \\times 5 + 2$.\n",
    "\n",
    "En Java, on obtient ces résultats comme ceci:"
   ]
  },
  {
   "cell_type": "code",
   "execution_count": 9,
   "metadata": {},
   "outputs": [
    {
     "data": {
      "text/plain": [
       "4"
      ]
     },
     "execution_count": 9,
     "metadata": {},
     "output_type": "execute_result"
    }
   ],
   "source": [
    "22/5"
   ]
  },
  {
   "cell_type": "code",
   "execution_count": 10,
   "metadata": {},
   "outputs": [
    {
     "data": {
      "text/plain": [
       "2"
      ]
     },
     "execution_count": 10,
     "metadata": {},
     "output_type": "execute_result"
    }
   ],
   "source": [
    "22%5"
   ]
  },
  {
   "cell_type": "markdown",
   "metadata": {},
   "source": [
    "La division entière est une source d'erreurs fréquentes: on utilise fréquemment des fractions comme $1/2$ ou $4/3$ en oubliant que le résultat du calcul (en Java) donnera le quotient de la division au lieu du résultat exact:"
   ]
  },
  {
   "cell_type": "code",
   "execution_count": 11,
   "metadata": {},
   "outputs": [
    {
     "data": {
      "text/plain": [
       "0"
      ]
     },
     "execution_count": 11,
     "metadata": {},
     "output_type": "execute_result"
    }
   ],
   "source": [
    "1/2"
   ]
  },
  {
   "cell_type": "code",
   "execution_count": 12,
   "metadata": {},
   "outputs": [
    {
     "data": {
      "text/plain": [
       "1"
      ]
     },
     "execution_count": 12,
     "metadata": {},
     "output_type": "execute_result"
    }
   ],
   "source": [
    "4/3"
   ]
  },
  {
   "cell_type": "markdown",
   "metadata": {},
   "source": [
    "Comme on l'a vu au-dessus, la solution pour éviter ces erreurs est d'écrire (au moins) un des nombres sous forme décimale, c'est à dire suivi de ```.0``` s'il est entier:"
   ]
  },
  {
   "cell_type": "code",
   "execution_count": 13,
   "metadata": {},
   "outputs": [
    {
     "data": {
      "text/plain": [
       "1.3333333333333333"
      ]
     },
     "execution_count": 13,
     "metadata": {},
     "output_type": "execute_result"
    }
   ],
   "source": [
    "4.0/3"
   ]
  },
  {
   "cell_type": "markdown",
   "metadata": {},
   "source": [
    "### Utilisations du modulo\n",
    "\n",
    "Le modulo est une opération mathématique qu'on utilise assez peu dans la vie courante, et il est utile de voir ici quelques unes de ses principales utilisations. \n",
    "\n",
    "Une utilisation notable est de convertir des valeurs décimales en d'autres bases. \n",
    "\n",
    "#### Exemple \n",
    "Pour le temps (heures, minutes, secondes) on utilise la base 60. Pour utiliser ces unités correctement, il sera utile d'utiliser la division entière et le modulo: \n",
    "\n",
    "Par exemple, convertissons 7653 secondes en heures / minutes / secondes:"
   ]
  },
  {
   "cell_type": "code",
   "execution_count": 14,
   "metadata": {},
   "outputs": [
    {
     "data": {
      "text/plain": [
       "127"
      ]
     },
     "execution_count": 14,
     "metadata": {},
     "output_type": "execute_result"
    }
   ],
   "source": [
    "7653/60"
   ]
  },
  {
   "cell_type": "code",
   "execution_count": 15,
   "metadata": {},
   "outputs": [
    {
     "data": {
      "text/plain": [
       "33"
      ]
     },
     "execution_count": 15,
     "metadata": {},
     "output_type": "execute_result"
    }
   ],
   "source": [
    "7653%60"
   ]
  },
  {
   "cell_type": "markdown",
   "metadata": {},
   "source": [
    "7653 secondes sont 127 minutes et 33 secondes. On convertit maintenant 127 minutes en heures/minutes:"
   ]
  },
  {
   "cell_type": "code",
   "execution_count": 16,
   "metadata": {},
   "outputs": [
    {
     "data": {
      "text/plain": [
       "2"
      ]
     },
     "execution_count": 16,
     "metadata": {},
     "output_type": "execute_result"
    }
   ],
   "source": [
    "127/60"
   ]
  },
  {
   "cell_type": "code",
   "execution_count": 17,
   "metadata": {},
   "outputs": [
    {
     "data": {
      "text/plain": [
       "7"
      ]
     },
     "execution_count": 17,
     "metadata": {},
     "output_type": "execute_result"
    }
   ],
   "source": [
    "127%60"
   ]
  },
  {
   "cell_type": "markdown",
   "metadata": {},
   "source": [
    "On obtient donc: 7653 secondes = 2 heures, 7 minutes, 33 secondes.\n",
    "\n",
    "#### Exercice 1\n",
    "Sachant qu'un pied (unité de longueur) vaut 12 pouces, convertir 41 pouces en pieds/pouces.\n",
    "(il y a deux opérations à faire)"
   ]
  },
  {
   "cell_type": "code",
   "execution_count": null,
   "metadata": {},
   "outputs": [],
   "source": []
  },
  {
   "cell_type": "code",
   "execution_count": null,
   "metadata": {},
   "outputs": [],
   "source": []
  },
  {
   "cell_type": "markdown",
   "metadata": {},
   "source": [
    "### Modulo et multiples\n",
    "Bien que l'opérateur modulo soit défini comme 'le reste de la division euclidienne', en pratique la principale utilisation de modulo est pour déterminer si un nombre est multiple d'un autre.\n",
    "\n",
    "Typiquement, on va vérifier qu'un nombre est pair (multiple de 2) en écrivant:"
   ]
  },
  {
   "cell_type": "code",
   "execution_count": 18,
   "metadata": {},
   "outputs": [
    {
     "data": {
      "text/plain": [
       "0"
      ]
     },
     "execution_count": 18,
     "metadata": {},
     "output_type": "execute_result"
    }
   ],
   "source": [
    "46%2"
   ]
  },
  {
   "cell_type": "markdown",
   "metadata": {},
   "source": [
    "Si le résultat est zéro, le premier nombre est multiple du deuxième, et donc dans ce cas 46 est pair.\n",
    "\n",
    "De même, on peut vérifier que 250 est multiple de 10 en écrivant:"
   ]
  },
  {
   "cell_type": "code",
   "execution_count": 19,
   "metadata": {},
   "outputs": [
    {
     "data": {
      "text/plain": [
       "0"
      ]
     },
     "execution_count": 19,
     "metadata": {},
     "output_type": "execute_result"
    }
   ],
   "source": [
    "250%10"
   ]
  },
  {
   "cell_type": "markdown",
   "metadata": {},
   "source": [
    "Ou à l'inverse on peut voir que 151 n'est pas multiple de 9:"
   ]
  },
  {
   "cell_type": "code",
   "execution_count": 20,
   "metadata": {},
   "outputs": [
    {
     "data": {
      "text/plain": [
       "7"
      ]
     },
     "execution_count": 20,
     "metadata": {},
     "output_type": "execute_result"
    }
   ],
   "source": [
    "151 % 9"
   ]
  },
  {
   "cell_type": "markdown",
   "metadata": {},
   "source": [
    "(le reste est différent de zéro, donc 151 n'est pas multiple de 9)."
   ]
  },
  {
   "cell_type": "markdown",
   "metadata": {},
   "source": [
    "#### Exercice 2\n",
    "\n",
    "Écrire une expression pour vérifier si 205 est multiple de 41."
   ]
  },
  {
   "cell_type": "code",
   "execution_count": null,
   "metadata": {},
   "outputs": [],
   "source": []
  },
  {
   "cell_type": "markdown",
   "metadata": {},
   "source": [
    "### Modulo et décimaux\n",
    "\n",
    "L'opération modulo (```%```) est bien définie autant pour les entiers et les décimaux, mais sa sémantique avec les décimaux peut être source de confusion. Il est préférable de l'utiliser uniquement avec des entiers."
   ]
  },
  {
   "cell_type": "markdown",
   "metadata": {},
   "source": [
    "## Expressions complexes\n",
    "\n",
    "Comme en mathématiques, on peut aussi écrire des expressions plus complexes, avec plusieurs opérations, et grouper les opérations en utilisant des parenthèses:"
   ]
  },
  {
   "cell_type": "code",
   "execution_count": 21,
   "metadata": {},
   "outputs": [
    {
     "data": {
      "text/plain": [
       "-46"
      ]
     },
     "execution_count": 21,
     "metadata": {},
     "output_type": "execute_result"
    }
   ],
   "source": [
    "(12 + 11) * (-32) / (47 - 31)"
   ]
  },
  {
   "cell_type": "markdown",
   "metadata": {},
   "source": [
    "On sera amené à écrire de telles expressions dans nos programmes. Pour pouvoir écrire des expressions correctes, il faut comprendre comment elles seront interprétées en Java.\n",
    "\n",
    "La précédence des opérateurs est celle qu'on connaît en mathématiques (multiplications et divisions sont exécutées avant les additions et soustractions), et les parenthèses jouent le même rôle:"
   ]
  },
  {
   "cell_type": "code",
   "execution_count": 22,
   "metadata": {},
   "outputs": [
    {
     "data": {
      "text/plain": [
       "17"
      ]
     },
     "execution_count": 22,
     "metadata": {},
     "output_type": "execute_result"
    }
   ],
   "source": [
    "2 + 5 * 3"
   ]
  },
  {
   "cell_type": "code",
   "execution_count": 23,
   "metadata": {},
   "outputs": [
    {
     "data": {
      "text/plain": [
       "21"
      ]
     },
     "execution_count": 23,
     "metadata": {},
     "output_type": "execute_result"
    }
   ],
   "source": [
    "(2 + 5) * 3"
   ]
  },
  {
   "cell_type": "markdown",
   "metadata": {},
   "source": [
    "Dans le premier cas, on a effectué le produit ```5*3``` avant la somme, et dans le deuxième cas on a effectué la somme en premier, à cause des parenthèses.\n",
    "\n",
    "Les opérations de même précédence sont effectuées de gauche à droite:"
   ]
  },
  {
   "cell_type": "code",
   "execution_count": 24,
   "metadata": {},
   "outputs": [
    {
     "data": {
      "text/plain": [
       "8"
      ]
     },
     "execution_count": 24,
     "metadata": {},
     "output_type": "execute_result"
    }
   ],
   "source": [
    "12 / 3 * 2"
   ]
  },
  {
   "cell_type": "markdown",
   "metadata": {},
   "source": [
    "On a d'abord divisé 12 par 3 puis multiplié le résultat par 2. On peut changer l'ordre avec des parenthèses:"
   ]
  },
  {
   "cell_type": "code",
   "execution_count": 25,
   "metadata": {},
   "outputs": [
    {
     "data": {
      "text/plain": [
       "2"
      ]
     },
     "execution_count": 25,
     "metadata": {},
     "output_type": "execute_result"
    }
   ],
   "source": [
    "12 / (3 * 2)"
   ]
  },
  {
   "cell_type": "markdown",
   "metadata": {},
   "source": [
    "#### Exercice 3\n",
    "\n",
    "Écrire une expression Java équivalente à l'expression mathématique suivante:\n",
    "\n",
    "$\\frac{32 - 7}{\\frac{15}{3} \\times 5}$\n",
    "\n",
    "Utiliser seulement des entiers. Le résultat doit valoir 1."
   ]
  },
  {
   "cell_type": "code",
   "execution_count": null,
   "metadata": {},
   "outputs": [],
   "source": []
  },
  {
   "cell_type": "markdown",
   "metadata": {},
   "source": [
    "Les exemples ci-dessus utilisent seulement des entiers et des opérations entières. On a vu plus haut qu'il est parfois nécessaire de mélanger les types: par exemple, utiliser un point décimal dans l'écriture d'un entier (ex: ```2.0```) pour qu'une division soit exacte.\n",
    "\n",
    "Pour bien comprendre cet aspect, il nous faut introduire la notion de *type*, qui est liée au codage des nombres dans la mémoire de l'ordinateur."
   ]
  },
  {
   "cell_type": "markdown",
   "metadata": {},
   "source": [
    "## Les types et le codage des nombres\n",
    "Dans la mémoire d'un ordinateur, toutes les informations (numériques en particulier) sont représentées en binaire: des séquences de uns et de zéros. \n",
    "\n",
    "Pour représenter des entiers, c'est simple: on utilise la représentation en base 2. par exemple, le nombre cinq est représenté 101 en binaire (base 2). Mais comment représenter des nombres à virgule? des nombres négatifs? des réels donc la représentation décimale est infinie (pi)? \n",
    "\n",
    "En Java et dans la plupart des langages, il existe plusieurs façon de représenter les nombres (au moins une manière pour les entiers et une pour les nombres à virgule), et pour chaque valeur numérique utilisée dans un programme, on associe à cette valeur un *type*, qui indique comment la valeur est codée en mémoire. Le programme peut ainsi correctement écrire le nombre en mémoire, et correctement interpréter une information binaire (lue dans la mémoire) pour l'afficher (en base 10) à l'utilisateur. \n",
    "\n",
    "### Les entiers\n",
    "Un entier est représenté par deux informations: le signe et la valeur absolue du nombre. Pour représenter un entier en mémoire, on réserve un certain nombre de *bits* (32 pour le type ```int``` de Java): un bit représente le signe, et les autres la valeur absolue du nombre. À cause de la place limitée qu'on utilise, on ne peut pas représenter des nombres arbitrairement grands. Par exemple, le type ```int``` permet de représenter des nombres seulement entre -2147483648 et 2147483647. \n",
    "\n",
    "#### Erreurs de débordement\n",
    "Si on fait des calculs dont les résultats dépassent (mathématiquement) cette limite, alors la valeur du résultat ne peut pas être représentée dans une \"case mémoire\" pour un entier. Le résutlat renvoyé par le calcul sera donc faux: on appelle ceci une erreur de \"débordement\". \n",
    "\n",
    "La valeur qui sera donnée dans le calcul est très difficile à prévoir:"
   ]
  },
  {
   "cell_type": "code",
   "execution_count": 26,
   "metadata": {},
   "outputs": [
    {
     "data": {
      "text/plain": [
       "1000000000"
      ]
     },
     "execution_count": 26,
     "metadata": {},
     "output_type": "execute_result"
    }
   ],
   "source": [
    "1000000*(1000000/1000)"
   ]
  },
  {
   "cell_type": "code",
   "execution_count": 27,
   "metadata": {},
   "outputs": [
    {
     "data": {
      "text/plain": [
       "-727379"
      ]
     },
     "execution_count": 27,
     "metadata": {},
     "output_type": "execute_result"
    }
   ],
   "source": [
    "(1000000*1000000)/1000"
   ]
  },
  {
   "cell_type": "markdown",
   "metadata": {},
   "source": [
    "Le gros problème ici est que l'erreur n'a pas été détectée par le système, et donc lorsqu'une telle opération se fait dans un calcul intermédiaire, elle peut passer complètement inaperçue et fausser des résultats bien plus loin dans le programme.\n",
    "\n",
    "### Les décimaux\n",
    "Pour les décimaux (nombre à virgule), on représente chaque nombre par trois informations. On représente la suite de chiffres qui le compose comme si c'était un entier (donc avec signe + valeur absolue) et on rajoute une information qui est la position de la virgule. Techniquement, on appelle ces trois informations le *signe*, la *mantisse*, et l'*exposant*.\n",
    "\n",
    "Par exemple, le nombre -0.5 est représenté par le signe moins, la mantisse 5 et l'exposant -1, qui veut dire que la \n",
    "virgule est décalée d'une position vers la gauche. \n",
    "\n",
    "L'idée qu'on puisse juste décaler la virgule à gauche ou à droite a donné l'expression \"virgule flottante\" et le nom de type ```float``` utilisé dans de nombreux langages. "
   ]
  },
  {
   "cell_type": "markdown",
   "metadata": {},
   "source": [
    "#### Limitations de la représentation des décimaux\n",
    "\n",
    "Tout comme pour les entiers, l'espace limité qu'on utilise pour représenter les décimaux (32 bits pour le type ```float``` de Java, 64 bits pour le type ```double```) implique des limitations dans leur interprétation mathématique. \n",
    "\n",
    "Le fait de représenter séparément l'exposant permet de représenter des nombres beaucoup plus grands qu'avec les types entiers: avec le type double, on peut représenter des nombres de l'ordre de $10^300$.\n",
    "\n",
    "Cependant, il est évident qu'avec 64 bits de mémoire on ne peut pas représenter tous les chiffres d'un tel nombre. La représentation aura le bon ordre de grandeur, mais seulement un petit nombre de chiffres seront exacts. Autrement dit, la *précision* des décimaux est limitée."
   ]
  },
  {
   "cell_type": "code",
   "execution_count": 28,
   "metadata": {
    "scrolled": false
   },
   "outputs": [
    {
     "data": {
      "text/plain": [
       "0.3333333333333333"
      ]
     },
     "execution_count": 28,
     "metadata": {},
     "output_type": "execute_result"
    }
   ],
   "source": [
    "1/3.0"
   ]
  },
  {
   "cell_type": "markdown",
   "metadata": {},
   "source": [
    "Ici l'erreur n'est pas visible, mais allons voir ce qui se passe une dizaine de chiffres après la virgule:"
   ]
  },
  {
   "cell_type": "code",
   "execution_count": 29,
   "metadata": {},
   "outputs": [
    {
     "data": {
      "text/plain": [
       "0.3333333333139308"
      ]
     },
     "execution_count": 29,
     "metadata": {},
     "output_type": "execute_result"
    }
   ],
   "source": [
    "(1000000/3.0) - 333333"
   ]
  },
  {
   "cell_type": "markdown",
   "metadata": {},
   "source": [
    "Ces erreurs d'approximation ont en général peu de conséquences, mais dans des calculs scientifiques il faut en tenir compte. \n",
    "\n",
    "D'autre part, la représentation par mantisse/exposant oblige de faire des calculs de puissances de dix en binaire, ce qui peut introduire aussi de petites erreurs d'arrondi.\n",
    "Ces erreurs sont très difficiles à prévoir:"
   ]
  },
  {
   "cell_type": "code",
   "execution_count": 30,
   "metadata": {},
   "outputs": [
    {
     "data": {
      "text/plain": [
       "271.20000000000005"
      ]
     },
     "execution_count": 30,
     "metadata": {},
     "output_type": "execute_result"
    }
   ],
   "source": [
    "11.3*24"
   ]
  },
  {
   "cell_type": "markdown",
   "metadata": {},
   "source": [
    "Ainsi, on peut avoir des surprises lorsqu'on fait des comparaisons entre des expressions décimales. \n",
    "Par exemple, les expressions ```10*11.3*24``` et ```11.3*24*10``` devraient donner le même résultat (on a juste changé l'ordre des opérandes)... mais:"
   ]
  },
  {
   "cell_type": "code",
   "execution_count": 31,
   "metadata": {
    "scrolled": true
   },
   "outputs": [
    {
     "data": {
      "text/plain": [
       "2712.0"
      ]
     },
     "execution_count": 31,
     "metadata": {},
     "output_type": "execute_result"
    }
   ],
   "source": [
    "10*11.3*24"
   ]
  },
  {
   "cell_type": "code",
   "execution_count": 32,
   "metadata": {},
   "outputs": [
    {
     "data": {
      "text/plain": [
       "2712.0000000000005"
      ]
     },
     "execution_count": 32,
     "metadata": {},
     "output_type": "execute_result"
    }
   ],
   "source": [
    "11.3*24*10"
   ]
  },
  {
   "cell_type": "markdown",
   "metadata": {},
   "source": [
    "Ceci s'explique par l'ordre d'évaluation des opérations (de gauche à droite): la multiplication problématique ```11.3*24``` n'apparaît pas dans la première expression. \n",
    "\n",
    "Il faut donc se méfier des erreurs d'approximation. Concrètement:\n",
    "* Garder en tête que même si un résultat est affiché avec de nombreux chiffres après la virgule, ces chiffres ne sont pas forcément tous exacts\n",
    "* Éviter les comparaisons (égalité) entre deux nombres décimaux"
   ]
  },
  {
   "cell_type": "markdown",
   "metadata": {},
   "source": [
    "### Interprétation des nombres littéraux\n",
    "\n",
    "Quand on écrit un nombre littéral en Java (une suite de chiffres), Java interprète le nombre comme suit: \n",
    "* si le nombre ne contient pas de point, Java l'interprètera comme un ```int``` (entier codé sur 32 bits);\n",
    "* si le nombre contient un point, Java l'interprètera comme un ```double``` (décimal \"double précision\", codé sur 64 bits).\n",
    "\n",
    "Par exemple ```1``` sera considéré un ```int```, et ```1.0``` sera considéré un ```double```. \n",
    "\n",
    "Si on veut utiliser le type ```long``` (entier codé sur 64 bits, permettant de représenter des nombres plus grands), il faut écrire le nombre suivi de la lettre L (majuscule, pour éviter la confusion avec le chiffre un): ```1L``` est donc le nombre 1 codé sur 64 bits.\n",
    "\n",
    "De même, si on veut utiliser le type ```float``` (nombre à virgule codé sur 32 bits) on doit écrire le nombre suivi de la lettre f (minuscule). Exemple: ```1.5f```. \n",
    "\n",
    "A noter que Java offre aussi des types de nombres entiers codés sur 8 ou 16 bits (```byte``` et ```short```). En général, la représentation \"par défaut\" avec les types ```int``` et ```double``` convient très bien, et on n'utilise les autres types numériques que de manière très ponctuelle (par exemple pour manipuler des grands nombres, ou pour économiser de la mémoire dans un système embarqué). \n",
    "\n",
    "Dans ce cours on utilisera toujours les types ```int``` et ```double```, sauf exceptions."
   ]
  },
  {
   "cell_type": "markdown",
   "metadata": {},
   "source": [
    "## Conversion entre types numérique\n",
    "\n",
    "La distinction entre entiers et décimaux crée des complications quand on veut combiner de nombres de types différents dans une une expression.\n",
    "\n",
    "Supposons par exemple qu'on veuille additionner ```2``` (un entier) et ```2.0``` (un décimal, selon Java).  \n",
    "Mathématiquement, il n'y a aucun problème: on ajoute 2 et 2, et le résutlat vaut 4. Mais dans la mémoire de l'ordinateur, les nombres entiers et décimaux sont codés différemment. Il faudrait donc voir comment le processeur pourrait faire l'opération (une addition), entre deux opérandes de codage différents. D'autre part, comment devrait-il encoder le résultat? devrait-il être représenté comme un entier ou comme un décimal? \n",
    "\n",
    "### Conversions automatiques de types\n",
    "De façon générale, lorsqu'on fait une opération qui combine des valeurs de deux types différents, il y a deux questions à se poser: premièrement, est-ce que cette opération est bien définie pour les deux types en question? et deuxièmement, quel est le type du résultat? \n",
    "\n",
    "Les réponses à ces questions sont dictées par les règles de *conversion automatique de types*.\n",
    "\n",
    "Avant d'entrer dans les détails de ces règles, il faut d'abord noter que chaque expression arithmétique est interprétée comme une séquence d'opérations *binaires* (à deux opérandes). Par exemple, l'addition 1 + 2 + 3 + 4 sera exécutée de gauche à droite, ce sera donc la somme de (1 + 2), à laquelle on ajoutera 3, puis on ajoutera 4 au résultat. Par conséquent, le problème de combiner des types se fait toujours dans le contexte d'une opération binaire: on a toujours un opérateur, et deux opérandes qui peuvent être de types différents. \n",
    "\n",
    "Mais en mémoire, ces deux nombres sont représentés différemment, et il faudrait voir comment le processeur pourra effectuer l'opération (par exemple une addition) sur deux nombres avec des codages binaires différents... et comment coder le résultat? autrement dit, quel sera le type du résultat? \n",
    "\n",
    "Des exemples nous montrent que le choix d'un type pour le résultat est souvent assez clair. Par exemple, si on additionne ```1``` et ```0.5```, alors le résultat devrait être le décimal ```1.5```. Mais que faire si la somme de deux décimaux donne un entier? ou si un opérande est représenté en *simple précision* et l'autre en *double précision*? Ça se complique.\n",
    "\n",
    "Les règles générales sont les suivantes (rappelons qu'on considère toujours des opérations binaires):\n",
    "* Si les opérandes sont de même type, le résultat sera en général du même type. Ceci explique le choix de la division entière pour l'opérateur ```/```.\n",
    "* Si les opérandes sont de type différents, Java va choisir le type d'un des opérandes, et **convertir automatiquement** l'autre opérande vers ce type. On obtient alors une opération entre deux opérandes de même type, et le résultat sera du même type.\n",
    "* Pour choisir entre deux types numériques, Java choisira toujours le type le **moins contraignant**. Cette règle est partagée par la majorité des langages de programmation.\n",
    "\n",
    "\n",
    "#### Que signifie qu'un type soit plus ou moins \"contraignant\"?\n",
    "En général, si on a deux types différents (par exemple ```int``` et ```double```), un des deux types peut représenter des nombres que l'autre ne peut pas représenter. Pour notre exemple,  le type ```int``` est *plus contraignant* que le type ```double```, parce qu'il ne peut pas représenter des nombres comme 0.5 ou -12.543, alors que tout entier peut être représenté par un ```double```: ```1``` est représenté par ```1.0```. \n",
    "\n",
    "Donc si on écrit  ```1 + 0.5```, soit une addition d'un ```int``` et d'un ```double```, Java va **choisir** le type ```double```, **convertir** le ```1``` au type ```double```, et **ensuite exécuter** l'addition entre les deux ```double```s. Le résultat sera donc de type ```double```.\n",
    "\n",
    "De façon générale, un type \"à virgule flottante\" est moins contraignant qu'un type \"entier\", et un type représenté sur plus de bits (ex. 64 bits) est moins contraignant qu'un type représenté sur moins de bits (ex 32). Les conversions se feront donc des types entiers vers les types à virgule flottante, et des types codés sur moins de bits vers les types codés sur plus de bits.\n",
    "\n",
    "Exemple:"
   ]
  },
  {
   "cell_type": "code",
   "execution_count": 33,
   "metadata": {},
   "outputs": [
    {
     "data": {
      "text/plain": [
       "4.0"
      ]
     },
     "execution_count": 33,
     "metadata": {},
     "output_type": "execute_result"
    }
   ],
   "source": [
    "1.0 + 3"
   ]
  },
  {
   "cell_type": "markdown",
   "metadata": {},
   "source": [
    "#### Les divisions\n",
    "\n",
    "Contrairement aux opérations ```+```, ```-```, et ```*```, la division, elle, est définie **différemment** pour les entiers et les décimaux: une division entre deux décimaux sera \"exacte\" alors qu'une division entre deux entiers sera la division entière, c'est à dire elle donnera le quotient de la division euclidienne entre les opérandes.\n",
    "\n",
    "Le mécanisme décrit ci-dessus (choix d'un type - conversion d'un opérande - exécution) reste le même, mais la conséquence est une source importante d'erreurs: on s'attend naturellement à ce que le résultat soit \"exact\", et on oublie que si les deux opérandes sont entiers, aucune conversion ne se fait et la division donne seulement le quotient.\n",
    "\n",
    "La solution est de prêter particulièrement attention aux divisions dans les calculs, et de *contraindre* la conversion, en utilisant un opérande décimal:"
   ]
  },
  {
   "cell_type": "code",
   "execution_count": 34,
   "metadata": {},
   "outputs": [
    {
     "data": {
      "text/plain": [
       "0"
      ]
     },
     "execution_count": 34,
     "metadata": {},
     "output_type": "execute_result"
    }
   ],
   "source": [
    "1 / 2"
   ]
  },
  {
   "cell_type": "code",
   "execution_count": 35,
   "metadata": {},
   "outputs": [
    {
     "data": {
      "text/plain": [
       "0.5"
      ]
     },
     "execution_count": 35,
     "metadata": {},
     "output_type": "execute_result"
    }
   ],
   "source": [
    "1.0 / 2"
   ]
  },
  {
   "cell_type": "code",
   "execution_count": 36,
   "metadata": {},
   "outputs": [
    {
     "data": {
      "text/plain": [
       "0.5"
      ]
     },
     "execution_count": 36,
     "metadata": {},
     "output_type": "execute_result"
    }
   ],
   "source": [
    "1 / 2.0"
   ]
  },
  {
   "cell_type": "markdown",
   "metadata": {},
   "source": [
    "Maintenant qu'on connait l'ordre d'exécution des opérations, et les règles de conversion, on peut interpréter correctement des expressions complexes:"
   ]
  },
  {
   "cell_type": "code",
   "execution_count": 37,
   "metadata": {},
   "outputs": [
    {
     "data": {
      "text/plain": [
       "2.0"
      ]
     },
     "execution_count": 37,
     "metadata": {},
     "output_type": "execute_result"
    }
   ],
   "source": [
    "(1 + 2) / (4 - 2) * 2.0"
   ]
  },
  {
   "attachments": {
    "arbre.png": {
     "image/png": "[encoded data removed]"
    }
   },
   "cell_type": "markdown",
   "metadata": {},
   "source": [
    "L'expression est évaluée dans l'ordre exprimé par l'arbre suivant:\n",
    "![arbre.png](attachment:arbre.png)"
   ]
  },
  {
   "cell_type": "markdown",
   "metadata": {},
   "source": [
    "**Attention:** le fait d'avoir un nombre à virgule quelque part dans une expression n'est pas suffisant pour qu'une division soit nécessairement \"exacte\", il faut tenir compte de l'ordre des opérations:"
   ]
  },
  {
   "cell_type": "code",
   "execution_count": 38,
   "metadata": {},
   "outputs": [
    {
     "data": {
      "text/plain": [
       "6.0"
      ]
     },
     "execution_count": 38,
     "metadata": {},
     "output_type": "execute_result"
    }
   ],
   "source": [
    "7 / 2 * 2.0"
   ]
  },
  {
   "cell_type": "code",
   "execution_count": 39,
   "metadata": {},
   "outputs": [
    {
     "data": {
      "text/plain": [
       "7.0"
      ]
     },
     "execution_count": 39,
     "metadata": {},
     "output_type": "execute_result"
    }
   ],
   "source": [
    "2.0 * 7 / 2"
   ]
  },
  {
   "cell_type": "markdown",
   "metadata": {},
   "source": [
    "Dans l'expression ci-dessus, la division et la multiplication sont de même précédence; les opérations sont donc exécutées de gauche à droite. Dans le premier cas, la division entre les deux ```int``` est entière et donne 3, puis la multiplication par le ```double``` ```2.0``` donne ```6.0```. Dans le deuxième cas, la multiplication est effectuée en premier, et donne un ```double```, ```14.0```; et la division est \"exacte\" car le premier opérande est de type ```double```."
   ]
  },
  {
   "cell_type": "markdown",
   "metadata": {},
   "source": [
    "#### Exercice 4\n",
    "\n",
    "Donner le type (```int``` ou ```double```) et la valeur des expressions suivantes (il est utile de dessiner un arbre pour bien interpréter les expressions et identifier les conversions nécessaires):"
   ]
  },
  {
   "cell_type": "code",
   "execution_count": null,
   "metadata": {},
   "outputs": [],
   "source": [
    "3 - 1 + 1.0"
   ]
  },
  {
   "cell_type": "code",
   "execution_count": null,
   "metadata": {},
   "outputs": [],
   "source": [
    "(5 + 1.0) / 3"
   ]
  },
  {
   "cell_type": "code",
   "execution_count": null,
   "metadata": {},
   "outputs": [],
   "source": [
    "3.0 + 2 * 5"
   ]
  },
  {
   "cell_type": "code",
   "execution_count": null,
   "metadata": {},
   "outputs": [],
   "source": [
    "3.0 * (1 / 3)"
   ]
  },
  {
   "cell_type": "code",
   "execution_count": null,
   "metadata": {},
   "outputs": [],
   "source": [
    "4.0 / 2 / 4"
   ]
  },
  {
   "cell_type": "markdown",
   "metadata": {},
   "source": [
    "### Conversion forcée de type (cast)\n",
    "\n",
    "En plus de la conversion automatique de type, on peut aussi \"forcer\" la conversion d'une valeur vers un type particulier.\n",
    "\n",
    "Cette opération de conversion forcée (*casting* en anglais) s'écrit en plaçant le type voulu entre parenthèses, avant l'élément à convertir:"
   ]
  },
  {
   "cell_type": "code",
   "execution_count": 40,
   "metadata": {},
   "outputs": [
    {
     "data": {
      "text/plain": [
       "3.0"
      ]
     },
     "execution_count": 40,
     "metadata": {},
     "output_type": "execute_result"
    }
   ],
   "source": [
    "(double) 3"
   ]
  },
  {
   "cell_type": "markdown",
   "metadata": {},
   "source": [
    "On peut utiliser un cast pour forcer la conversion d'un opérande vers le type double quand on veut s'assurer qu'une division sera \"exacte\":"
   ]
  },
  {
   "cell_type": "code",
   "execution_count": 41,
   "metadata": {},
   "outputs": [
    {
     "data": {
      "text/plain": [
       "1.5"
      ]
     },
     "execution_count": 41,
     "metadata": {},
     "output_type": "execute_result"
    }
   ],
   "source": [
    "(double) 3 / 2"
   ]
  },
  {
   "cell_type": "markdown",
   "metadata": {},
   "source": [
    "À noter que le cast est \"prioritaire\" sur les opérations arithmétiques: le cast s'applique ici au 3 seulement, et non pas au résultat de la division. Si on veut être sur l'élément auquel s'applique le cast, on peut utiliser des parenthèses:"
   ]
  },
  {
   "cell_type": "code",
   "execution_count": 42,
   "metadata": {},
   "outputs": [
    {
     "data": {
      "text/plain": [
       "4.0"
      ]
     },
     "execution_count": 42,
     "metadata": {},
     "output_type": "execute_result"
    }
   ],
   "source": [
    "((double) 5 + 3) / 2"
   ]
  },
  {
   "cell_type": "markdown",
   "metadata": {},
   "source": [
    "On peut utiliser un cast vers le type ```int``` pour obtenir la partie entière d'un nombre:"
   ]
  },
  {
   "cell_type": "code",
   "execution_count": 43,
   "metadata": {},
   "outputs": [
    {
     "data": {
      "text/plain": [
       "4"
      ]
     },
     "execution_count": 43,
     "metadata": {},
     "output_type": "execute_result"
    }
   ],
   "source": [
    "(int) 4.3"
   ]
  },
  {
   "cell_type": "markdown",
   "metadata": {},
   "source": [
    "Mais attention: un cast n'arrondit pas à l'entier le plus proche, il tronque:"
   ]
  },
  {
   "cell_type": "code",
   "execution_count": 44,
   "metadata": {},
   "outputs": [
    {
     "data": {
      "text/plain": [
       "3"
      ]
     },
     "execution_count": 44,
     "metadata": {},
     "output_type": "execute_result"
    }
   ],
   "source": [
    "(int) 3.999"
   ]
  },
  {
   "cell_type": "markdown",
   "metadata": {},
   "source": [
    "Noter que la troncature se fait en valeur absolue (on n'arrondit pas vers -infini):"
   ]
  },
  {
   "cell_type": "code",
   "execution_count": 45,
   "metadata": {},
   "outputs": [
    {
     "data": {
      "text/plain": [
       "-2"
      ]
     },
     "execution_count": 45,
     "metadata": {},
     "output_type": "execute_result"
    }
   ],
   "source": [
    "(int) -2.2"
   ]
  },
  {
   "cell_type": "markdown",
   "metadata": {},
   "source": [
    "#### Exercice 5\n",
    "\n",
    "Donner le type (```int``` ou ```double```) et la valeur des expressions suivantes:"
   ]
  },
  {
   "cell_type": "code",
   "execution_count": null,
   "metadata": {},
   "outputs": [],
   "source": [
    "(double) 3 + 5"
   ]
  },
  {
   "cell_type": "code",
   "execution_count": null,
   "metadata": {},
   "outputs": [],
   "source": [
    "1 + 5 / (double) 2 "
   ]
  },
  {
   "cell_type": "code",
   "execution_count": null,
   "metadata": {},
   "outputs": [],
   "source": [
    "(double) (5/2)"
   ]
  },
  {
   "cell_type": "code",
   "execution_count": null,
   "metadata": {},
   "outputs": [],
   "source": [
    "(int) 5.0 / 2 + 2"
   ]
  },
  {
   "cell_type": "code",
   "execution_count": null,
   "metadata": {},
   "outputs": [],
   "source": [
    "(int) (5.0 / 2) * 3.0"
   ]
  }
 ],
 "metadata": {
  "kernelspec": {
   "display_name": "Java",
   "language": "java",
   "name": "java"
  },
  "language_info": {
   "codemirror_mode": "java",
   "file_extension": ".jshell",
   "mimetype": "text/x-java-source",
   "name": "Java",
   "pygments_lexer": "java",
   "version": "14.0.1+7"
  }
 },
 "nbformat": 4,
 "nbformat_minor": 2
}
