{
 "cells": [
  {
   "cell_type": "markdown",
   "metadata": {},
   "source": [
    "# Entrées et Sorties\n",
    "\n",
    "\n",
    "## Entrées et sorties d'un problème\n",
    "Un programme informatique a en général pour but d'automatiser la résolution d'un problème, qui peut en général se formuler par une correspondance entre des données d'\"entrée\" et des données de \"sortie\". \n",
    "\n",
    "Par exemple, dans le problème de calculer la vitesse moyenne d'un marathonien, on a en entrée le temps de course, sous forme de trois valeurs numérique (heures, minutes, secondes), et en sortie la vitesse, une seule valeur numérique. \n",
    "\n",
    "Le programme qui calcule cette vitesse peut être vu comme une boîte noire à laquelle on fournit les entrées et qui recrache les sorties, après un certain temps de calcul (négligeable dans notre exemple). L'intérête de cette automatisation est de pouvoir réutiliser la boîte noire en question avec de nouvelles données (le temps d'un second coureur, d'un troisième, etc.).\n",
    "\n",
    "Il existe plusieurs mécanismes possibles pour fournir les données d'entrée au programme, et plusieurs mécanismes pour que le programme nous donne les données de sortie. \n",
    "\n",
    "Quelques mécanismes d'entrée:\n",
    "* lire les données dans un fichier\n",
    "* lire les données via une interface utilisateur (exemple une fenêtre avec une boite de texte)\n",
    "* recevoir les données par la commande d'exécution du programme\n",
    "\n",
    "Quelques mécanismes de sortie:\n",
    "* écrire les données de sortie dans un fichier\n",
    "* afficher les données de sortie à l'écran -- à la console ou via une interface (pop-up...)\n",
    "* passer les données automatiquement à un autre programme lancé en même temps\n",
    "\n",
    "Pour l'instant on va voir simplement les entrées et sortie \"standard\", c'est-à-dire la lecture au clavier via la console et et l'affichage à la console. Par \"console\" on comprend une interface texte de type \"ligne de commande\", comme le \"terminal\" linux / mac, l'interface \"cmd\" de Windows, ou la console intégrée à Eclipse.  Pour ce Notebook Jupyter, une sorte de console est intégrée. \n",
    "\n",
    "**Important:**  \n",
    "À noter que le mode interactif où on écrit une juste expression dans une boîte ```In[...]``` et on voit le résultat s'afficher après ```Out[...]``` est une spécificité des notebooks Jupyter et n'est pas utilisée dans un programme classique.\n",
    "\n",
    "## Sortie standard\n",
    "\n",
    "La sortie standard permet d'afficher des information en mode \"texte\" à l'utilisateur.\n",
    "\n",
    "La commande pour ceci est ```print()```, un appel de fonction où on met l'information à afficher dans les parenthèses. La syntaxe complète est ```System.out.print()```, où ```System.out``` est une sorte de variable spéciale qui référence la sortie standard; dans le contexte de ce notebook cette \"sortie standard\" est redirigée vers l'espace en dessous de la boîte ```In[]```. Clairement, ce n'est pas une variable de type numérique ni texte, on verra plus tard que c'est un *objet* d'un autre type."
   ]
  },
  {
   "cell_type": "code",
   "execution_count": 2,
   "metadata": {},
   "outputs": [
    {
     "name": "stdout",
     "output_type": "stream",
     "text": [
      "Hello"
     ]
    }
   ],
   "source": [
    "System.out.print(\"Hello\");"
   ]
  },
  {
   "cell_type": "markdown",
   "metadata": {},
   "source": [
    "Remarquer qu'on utilise le séparateur ```;``` à la fin de l'instruction.\n",
    "\n",
    "Ce qu'on place dans les parenthèses doit être une **expression**, et peut être de n'importe quel type; pour l'instant on va juste voir comment ```print``` gère les nombres et les String:"
   ]
  },
  {
   "cell_type": "code",
   "execution_count": 3,
   "metadata": {},
   "outputs": [
    {
     "name": "stdout",
     "output_type": "stream",
     "text": [
      "5"
     ]
    }
   ],
   "source": [
    "System.out.print(3 + 2);"
   ]
  },
  {
   "cell_type": "code",
   "execution_count": 6,
   "metadata": {},
   "outputs": [
    {
     "name": "stdout",
     "output_type": "stream",
     "text": [
      "Je marche dans la rue"
     ]
    }
   ],
   "source": [
    "System.out.print(\"Je marche \" + \"dans la rue\");"
   ]
  },
  {
   "cell_type": "code",
   "execution_count": 11,
   "metadata": {},
   "outputs": [
    {
     "name": "stdout",
     "output_type": "stream",
     "text": [
      "Je suis haut comme 3.54 pommes"
     ]
    }
   ],
   "source": [
    "System.out.print(\"Je suis haut comme \"+ 3.54 + \" pommes\");"
   ]
  },
  {
   "cell_type": "code",
   "execution_count": 12,
   "metadata": {},
   "outputs": [
    {
     "name": "stdout",
     "output_type": "stream",
     "text": [
      "Avec un tabouret j'atteinds 32 pommes!"
     ]
    }
   ],
   "source": [
    "System.out.print(\"Avec un tabouret j'atteinds \"+ 3 + 2 + \" pommes!\");"
   ]
  },
  {
   "cell_type": "markdown",
   "metadata": {},
   "source": [
    "On a ici exactement les mécanismes de combinaison des string et des nombres vus précédemment. L'expression à l'intérieur des parenthèses est calculée, convertie en String (si elle n'en est pas déjà un), et enfin affichée à l'écran.\n",
    "### println()\n",
    "En pratique on utilise plus souvent une autre fonction, qui s'appelle ```println()``` (les derniers caractères sont LN minuscules, pour \"line\"), et qui affiche un retour à la ligne après le texte affiché. Son fonctionnement est identique, hormis le retour à la ligne en question:"
   ]
  },
  {
   "cell_type": "code",
   "execution_count": 16,
   "metadata": {},
   "outputs": [
    {
     "name": "stdout",
     "output_type": "stream",
     "text": [
      "dans la chambre le thé aussi chaud que ta peau - il commence à neiger"
     ]
    }
   ],
   "source": [
    "System.out.print(\"dans la chambre \");\n",
    "System.out.print(\"le thé aussi chaud que ta peau - \");\n",
    "System.out.print(\"il commence à neiger\");"
   ]
  },
  {
   "cell_type": "code",
   "execution_count": 18,
   "metadata": {},
   "outputs": [
    {
     "name": "stdout",
     "output_type": "stream",
     "text": [
      "dans la chambre \n",
      "le thé aussi chaud que ta peau - \n",
      "il commence à neiger\n"
     ]
    }
   ],
   "source": [
    "System.out.println(\"dans la chambre \");\n",
    "System.out.println(\"le thé aussi chaud que ta peau - \");\n",
    "System.out.println(\"il commence à neiger\");"
   ]
  },
  {
   "cell_type": "markdown",
   "metadata": {},
   "source": [
    "*haiku de [Jeanne Painchaud](http://www.jeannepainchaud.ca/mots_a_lire.html), bien mieux sur plusieurs lignes!"
   ]
  },
  {
   "cell_type": "code",
   "execution_count": 19,
   "metadata": {},
   "outputs": [
    {
     "name": "stdout",
     "output_type": "stream",
     "text": [
      "Hélas, hélas, 100 fois hélas !\n"
     ]
    }
   ],
   "source": [
    "System.out.println(\"Hélas, hélas, \"+ 5 * 20 + \" fois hélas !\");"
   ]
  },
  {
   "cell_type": "markdown",
   "metadata": {},
   "source": [
    "#### Exercice 1\n",
    "\n",
    "Ajouter des instructions ```print``` ou ```println``` pour afficher la bannière suivante:\n",
    "\n",
    "```\n",
    "-----------------------------\n",
    "***** VIVE LE KETCHUP ! *****\n",
    "-----------------------------\n",
    "```"
   ]
  },
  {
   "cell_type": "code",
   "execution_count": 45,
   "metadata": {},
   "outputs": [],
   "source": [
    "System.out.println(\"-----------------------------\");\n",
    "    //une instruction ici\n",
    "System.out.print(\"VIVE LE KETCHUP !\");\n",
    "    //une instruction ici\n",
    "System.out.println(\"-----------------------------\");"
   ]
  },
  {
   "cell_type": "markdown",
   "metadata": {},
   "source": [
    "#### Exercice 2\n",
    "\n",
    "On donne les variables ```pommes``` et ```bananes```. Écrire une instruction ```println``` qui affiche le texte suivant:\n",
    "```\n",
    "J'ai 3 pommes et 2 bananes.\n",
    "```\n",
    "L'instruction doit utiliser les variables données."
   ]
  },
  {
   "cell_type": "code",
   "execution_count": null,
   "metadata": {},
   "outputs": [],
   "source": [
    "int pommes =3, bananes = 2;\n",
    "System.out.println(  /// compléter ici );"
   ]
  },
  {
   "cell_type": "code",
   "execution_count": null,
   "metadata": {},
   "outputs": [],
   "source": [
    "int pieds, pouces;\n",
    "double metres;\n",
    "\n",
    "System.out.println(\"Entrez la longueur en pieds et pouces (nombre de pieds suivi d'un espace puis nombre de pouces):\");\n",
    "\n",
    "//..."
   ]
  }
 ],
 "metadata": {
  "kernelspec": {
   "display_name": "Java",
   "language": "java",
   "name": "java"
  },
  "language_info": {
   "codemirror_mode": "java",
   "file_extension": ".jshell",
   "mimetype": "text/x-java-source",
   "name": "Java",
   "pygments_lexer": "java",
   "version": "14.0.1+7"
  }
 },
 "nbformat": 4,
 "nbformat_minor": 2
}
