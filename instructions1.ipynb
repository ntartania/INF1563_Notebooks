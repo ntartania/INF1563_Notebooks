{
 "cells": [
  {
   "cell_type": "markdown",
   "metadata": {},
   "source": [
    "# Variables, Instructions et séquences d'instructions\n",
    "\n",
    "Dans le notebook précedent on a utilisé l'utilitaire JShell comme une calculatrice. On peut ainsi résoudre des problèmes simples. Un langage de programmation comme Java permet d'aller beaucoup plus loin: on peut enregistrer des *séquences* de calculs et ainsi *automatiser* la résolution des problèmes.\n",
    "\n",
    "## Exemple de résolution de problème\n",
    "\n",
    "Prenons un exemple de problème simple. Le vainqueur du Marathon de New York en 2018 a couru la distance en 2h05'59\". Quelle est sa vitesse moyenne?\n",
    "\n",
    "On va d'abord résoudre le problème façon \"calculatrice\". La vitesse se calcule en divisant la distance par le temps.\n",
    "\n",
    "Calculons d'abord le temps total en secondes (il y a 60 secondes par minute et 3600 secondes par heure):"
   ]
  },
  {
   "cell_type": "code",
   "execution_count": 1,
   "metadata": {},
   "outputs": [
    {
     "data": {
      "text/plain": [
       "7559"
      ]
     },
     "execution_count": 1,
     "metadata": {},
     "output_type": "execute_result"
    }
   ],
   "source": [
    "2*3600 + 5*60 + 59"
   ]
  },
  {
   "cell_type": "markdown",
   "metadata": {},
   "source": [
    "La distance d'un marathon est de 42.195km. Divisons la distance em mètres par le temps en secondes, ce qui nous donnera la vitesse en m/s:"
   ]
  },
  {
   "cell_type": "code",
   "execution_count": 2,
   "metadata": {},
   "outputs": [
    {
     "data": {
      "text/plain": [
       "5"
      ]
     },
     "execution_count": 2,
     "metadata": {},
     "output_type": "execute_result"
    }
   ],
   "source": [
    "42195/7559"
   ]
  },
  {
   "cell_type": "markdown",
   "metadata": {},
   "source": [
    "Attention! on a fait une disivion entière! On essaye à nouveau en utilisant le type ```double``` pour un opérande:"
   ]
  },
  {
   "cell_type": "code",
   "execution_count": 3,
   "metadata": {},
   "outputs": [
    {
     "data": {
      "text/plain": [
       "5.5820875777219205"
      ]
     },
     "execution_count": 3,
     "metadata": {},
     "output_type": "execute_result"
    }
   ],
   "source": [
    "42195.0/7559"
   ]
  },
  {
   "cell_type": "markdown",
   "metadata": {},
   "source": [
    "Voilà qui est mieux. Pour finir, on va convertir le résultat en km/h, une unité plus familière. La conversion est: 1 m/s = 3.6km/h"
   ]
  },
  {
   "cell_type": "code",
   "execution_count": 4,
   "metadata": {},
   "outputs": [
    {
     "data": {
      "text/plain": [
       "20.0952"
      ]
     },
     "execution_count": 4,
     "metadata": {},
     "output_type": "execute_result"
    }
   ],
   "source": [
    "5.582 * 3.6"
   ]
  },
  {
   "cell_type": "markdown",
   "metadata": {},
   "source": [
    "Et voilà le résultat final: **la vitesse moyenne du vainqueur de la course est de 20.0952 km/h**. Remarquer qu'on a perdu un peu de précision, parce qu'à l'étape précédente on n'a pas recopié tous les chiffres de la vitesse en m/s. \n",
    "\n",
    "## Automatiser la résolution de problèmes\n",
    "\n",
    "Si on devait calculer ainsi la vitesse des autres coureurs (les 52,812 autres finissants!), un par un, on aurait bien du travail.\n",
    "\n",
    "Une bien meilleure solution est d'*automatiser* cette séquence de calculs. On peut représenter le problème avec trois entrées (les heures, minutes, secondes) et une sortie (le résultat). Ensuite on va représenter le cheminement de l'entrée à la sortie par une séquence de calculs écrits de manière abstraite, c'est à dire avec des **variables** à la place des nombres. \n",
    "\n",
    "### Variables, déclarations, affectations\n",
    "Une **variable** est un **nom** qui représente une valeur dans un calcul. On peut choisir à peu près n'importe quel nom, et habituellement on prend des noms qui décrivent le sens de la valeur\n",
    "Une variable correspond à une petite case dans la mémoire de l'ordinateur, où on peut placer une valeur pour s'en resservir plus tard.\n",
    "\n",
    "En Java, chaque variable est associée à un *type*, et peut stocker des valeurs de ce type. Pour associer une variable à un type, on *déclare* la variable, en écrivant un type, et le nom de la variable. On termine la ligne avec le séparateur ```;```.\n",
    "\n",
    "Par exemple, on peut déclarer une variable ```compte``` pour recevoir des valeurs entières, comme ceci:"
   ]
  },
  {
   "cell_type": "code",
   "execution_count": 5,
   "metadata": {},
   "outputs": [],
   "source": [
    "int compte;"
   ]
  },
  {
   "cell_type": "markdown",
   "metadata": {},
   "source": [
    "Pour l'instant on ne lui a pas encore donné une valeur: on peut lui donner une valeur en utilisant une **affectation**. Une affectation s'écrit en utilisant le symbole ```=```. Par exemple, ici on va donner la valeur zéro à notre variable compte; on termine ensuite par un point-virgule."
   ]
  },
  {
   "cell_type": "code",
   "execution_count": 6,
   "metadata": {},
   "outputs": [],
   "source": [
    "compte = 0;"
   ]
  },
  {
   "cell_type": "markdown",
   "metadata": {},
   "source": [
    "On peut modifier la valeur de ```compte```, en lui inscrivant une nouvelle valeur:"
   ]
  },
  {
   "cell_type": "code",
   "execution_count": 7,
   "metadata": {},
   "outputs": [],
   "source": [
    "compte =2;"
   ]
  },
  {
   "cell_type": "markdown",
   "metadata": {},
   "source": [
    "On peut aussi utiliser la valeur de ```compte``` dans une expression, et l'expression sera calculée en remplaçant ```compte``` par sa valeur:"
   ]
  },
  {
   "cell_type": "code",
   "execution_count": 8,
   "metadata": {},
   "outputs": [
    {
     "data": {
      "text/plain": [
       "7"
      ]
     },
     "execution_count": 8,
     "metadata": {},
     "output_type": "execute_result"
    }
   ],
   "source": [
    "2 * compte + 3"
   ]
  },
  {
   "cell_type": "markdown",
   "metadata": {},
   "source": [
    "Enfin, on peut stocker dans une variable le résultat d'un calcul: "
   ]
  },
  {
   "cell_type": "code",
   "execution_count": 9,
   "metadata": {},
   "outputs": [],
   "source": [
    "compte = 3 * 6 - 1;"
   ]
  },
  {
   "cell_type": "markdown",
   "metadata": {},
   "source": [
    "Souvent on réutilise la valeur courante d'une variable pour la modifier. Par exemple, au milieu d'un programme on ne sait pas forcément quel est la valeur actuelle de compte, mais on veut y rajouter 1. On écrit alors:"
   ]
  },
  {
   "cell_type": "code",
   "execution_count": 10,
   "metadata": {},
   "outputs": [],
   "source": [
    "compte = compte + 1;"
   ]
  },
  {
   "cell_type": "markdown",
   "metadata": {},
   "source": [
    "En mathématiques ceci serait une absurdité. Mais une affectation n'est pas une équation mathématique: c'est une opération qui consiste à copier une **valeur** (la partie droite) dans une **variable** (la partie gauche). La partie gauche est toujours une variable, mais la partie droite peut être n'importe quelle expression qui peut être calculée et donner une valeur. "
   ]
  },
  {
   "cell_type": "markdown",
   "metadata": {},
   "source": [
    "### Calcul de la vitesse d'un coureur\n",
    "On va maintenant reprendre l'exemple de résolution de problème ci-=dessus, en utilisant cette fois des variables. Pour l'instant on va continuer à utiliser le mode interactif de JShell, et on verra plus loin comment en faire un programme Java complet.\n",
    "\n",
    "Les instructions ci-dessus montrent que les calculs vont se faire avec des entiers *et* des décimaux. On devra donc déclarer des variables de type ```int``` et des variables de type ```double```.\n",
    "\n",
    "On va commencer par déclarer trois variables pour les heures, minutes, secondes, ce sont des entiers et on utilise donc le type ```int```:"
   ]
  },
  {
   "cell_type": "code",
   "execution_count": 11,
   "metadata": {},
   "outputs": [],
   "source": [
    "int heures;"
   ]
  },
  {
   "cell_type": "markdown",
   "metadata": {},
   "source": [
    "On peut en fait déclarer plusieurs variables sur la même ligne, séparées par des virgules:"
   ]
  },
  {
   "cell_type": "code",
   "execution_count": 12,
   "metadata": {},
   "outputs": [],
   "source": [
    "int minutes, secondes;"
   ]
  },
  {
   "cell_type": "markdown",
   "metadata": {},
   "source": [
    "Pour l'instant on n'a pas encore vu les entrées et sorties alors on va juste écrire les valeurs des variables directement dans le programme:"
   ]
  },
  {
   "cell_type": "code",
   "execution_count": 13,
   "metadata": {},
   "outputs": [],
   "source": [
    "heures = 2;\n",
    "minutes = 5;\n",
    "secondes = 59;"
   ]
  },
  {
   "cell_type": "markdown",
   "metadata": {},
   "source": [
    "Cette instruction est une *affectation*, qui consiste à donner une valeur à une variable: la variable peut être vue comme une petite case dans la mémoire de l'ordinateur, et une affectation consiste à écrie une valeur dans cette case mémoire. Comme pour les déclarations, on termine chaque affectation par un ```;```.\n",
    "\n",
    "On va maintenant calculer le temps total de course en secondes. Pour ceci on déclare une nouvelle variable ```tempsTotal```, et on calcule sa valeur à partir du nombre d'heures, de minutes, et de secondes:"
   ]
  },
  {
   "cell_type": "code",
   "execution_count": 14,
   "metadata": {},
   "outputs": [],
   "source": [
    "int tempsTotal;\n",
    "tempsTotal = 3600 * heures + 60 * minutes + secondes;"
   ]
  },
  {
   "cell_type": "markdown",
   "metadata": {},
   "source": [
    "La première ligne est à nouveau une déclaration, la seconde est une affectation, dont la partie droite est une expression. \n",
    "\n",
    "On reconnait ici le calcul qu'on avait fait plus haut \"façon calculatrice\": ici on a remplacé les valeurs (heures, minutes, secondes) par des variables, et on stocke le résultat (le temps total) dans une nouvelle variable.\n",
    "\n",
    "Attention: l'affectation ici n'est pas une façon d'établir une correspondance entre les valeurs des différentes variables: on fait un calcul, et on écrit le résultat dans la case tempsTotal. Pour faire le calcul, toutes les variables sont remplacées par leurs valeurs."
   ]
  },
  {
   "cell_type": "code",
   "execution_count": 15,
   "metadata": {},
   "outputs": [
    {
     "data": {
      "text/plain": [
       "7559"
      ]
     },
     "execution_count": 15,
     "metadata": {},
     "output_type": "execute_result"
    }
   ],
   "source": [
    "tempsTotal"
   ]
  },
  {
   "cell_type": "markdown",
   "metadata": {},
   "source": [
    "Si on modifie les valeurs des variables ```heures```, ```minutes```, ```secondes```, ```tempsTotal``` ne va **pas** être automatiquement recalculé (comme ce serait le cas avec une formule excel par exemple):"
   ]
  },
  {
   "cell_type": "code",
   "execution_count": 16,
   "metadata": {},
   "outputs": [],
   "source": [
    "heures = 0;"
   ]
  },
  {
   "cell_type": "code",
   "execution_count": 17,
   "metadata": {},
   "outputs": [
    {
     "data": {
      "text/plain": [
       "7559"
      ]
     },
     "execution_count": 17,
     "metadata": {},
     "output_type": "execute_result"
    }
   ],
   "source": [
    "tempsTotal"
   ]
  },
  {
   "cell_type": "markdown",
   "metadata": {},
   "source": [
    "On a donc calculé le temps total de l'athlète en secondes. Comme précédemment on va maintenant diviser la distance parcourue (en mètres) par le temps (en secondes), pour calculer la vitesse (en m/s). On déclare une nouvelle variable ```vitesseMS``` (cette fois de type double, parce qu'on s'attend à ne pas avoir un nombre entier comme résultat) pour stocker le résultat. \n",
    "\n",
    "Remarquer ici comment la variable est déclarée sur la même ligne que le calcul, et la notation ```.0``` pour s'assurer que la division sera entière (il faut pour cela un opérande de type ```double```):"
   ]
  },
  {
   "cell_type": "code",
   "execution_count": 18,
   "metadata": {},
   "outputs": [],
   "source": [
    "double vitesseMS = 42195.0 / tempsTotal;"
   ]
  },
  {
   "cell_type": "code",
   "execution_count": 19,
   "metadata": {},
   "outputs": [
    {
     "data": {
      "text/plain": [
       "5.5820875777219205"
      ]
     },
     "execution_count": 19,
     "metadata": {},
     "output_type": "execute_result"
    }
   ],
   "source": [
    "vitesseMS"
   ]
  },
  {
   "cell_type": "markdown",
   "metadata": {},
   "source": [
    "On retrouve le même résultat pour la vitesse en m/s, et à nouveau on la convertit en km/h:"
   ]
  },
  {
   "cell_type": "code",
   "execution_count": 20,
   "metadata": {},
   "outputs": [
    {
     "data": {
      "text/plain": [
       "20.095515279798914"
      ]
     },
     "execution_count": 20,
     "metadata": {},
     "output_type": "execute_result"
    }
   ],
   "source": [
    "double vitesseKMH = vitesseMS * 3.6;\n",
    "vitesseKMH"
   ]
  },
  {
   "cell_type": "markdown",
   "metadata": {},
   "source": [
    "Nous sommes arrivés à nouveau au même résultat.\n",
    "\n",
    "À noter que le mode interactif nous permet d'écrire une expression ou le nom d'une variable et voir sa valeur affichée (après ```Out[..]```).\n",
    "\n",
    "On peut en fait réunir toutes les lignes du calcul et en faire un *programme*:"
   ]
  },
  {
   "cell_type": "code",
   "execution_count": 21,
   "metadata": {},
   "outputs": [],
   "source": [
    "int heures, minutes, secondes;\n",
    "heures = 2;\n",
    "minutes = 5;\n",
    "secondes = 59;\n",
    "\n",
    "int tempsTotal = 3600 * heures + 60 * minutes + secondes;\n",
    "double vitesseMS = 42195.0 / tempsTotal;\n",
    "double vitesseKMH = vitesseMS * 3.6;"
   ]
  },
  {
   "cell_type": "markdown",
   "metadata": {},
   "source": [
    "On vérifie que le résultat est le même:"
   ]
  },
  {
   "cell_type": "code",
   "execution_count": 22,
   "metadata": {},
   "outputs": [
    {
     "data": {
      "text/plain": [
       "20.095515279798914"
      ]
     },
     "execution_count": 22,
     "metadata": {},
     "output_type": "execute_result"
    }
   ],
   "source": [
    "vitesseKMH"
   ]
  },
  {
   "cell_type": "markdown",
   "metadata": {},
   "source": [
    "#### Exercice 4\n",
    "\n",
    "Il existe une épreuve d'endurance qui consiste à courir la plus grande distance possible en 24h. Un athlète a couru à la vitesse moyenne de 11.3 km/h sur la durée de l'épreuve. On veut écrire un programme qui calcule la distance parcourue par cet athlète. \n",
    "\n",
    "Déclarer des variables des types numériques appropriés pour la durée, la vitesse et la distance:"
   ]
  },
  {
   "cell_type": "code",
   "execution_count": null,
   "metadata": {},
   "outputs": [],
   "source": []
  },
  {
   "cell_type": "markdown",
   "metadata": {},
   "source": [
    "Écrire les valeurs des données d'entrée dans les variables correspondantes:"
   ]
  },
  {
   "cell_type": "code",
   "execution_count": null,
   "metadata": {},
   "outputs": [],
   "source": []
  },
  {
   "cell_type": "markdown",
   "metadata": {},
   "source": [
    "Écrire le calcul de la donnée de sortie (distance) en utilisant ces variables:"
   ]
  },
  {
   "cell_type": "code",
   "execution_count": null,
   "metadata": {},
   "outputs": [],
   "source": []
  },
  {
   "cell_type": "markdown",
   "metadata": {},
   "source": [
    "#### Exercice 5\n",
    "\n",
    "Un automobiliste utilise toujours sa voiture pour se rendre sur son lieu de travail, situé à 12km de son domicile. Il travaille quatre jours par semaine, 22 semaines par an. Son véhicule consomme 8 litres d'essence au 100km, et le prix moyen de l'essence est de $1.20/L. \n",
    "\n",
    "On veut écrire un programme pour calculer ses dépenses annuelles en essence. \n",
    "\n",
    "Déclarer les variables pour les données d'entrées, en les initialisant avec les valeurs fournies:"
   ]
  },
  {
   "cell_type": "code",
   "execution_count": null,
   "metadata": {},
   "outputs": [],
   "source": []
  },
  {
   "cell_type": "markdown",
   "metadata": {},
   "source": [
    "Calculer la distance totale parcourue par année dans une nouvelle variable:"
   ]
  },
  {
   "cell_type": "code",
   "execution_count": null,
   "metadata": {},
   "outputs": [],
   "source": []
  },
  {
   "cell_type": "markdown",
   "metadata": {},
   "source": [
    "Calculer la quantité d'essence nécessaire (dans une nouvelle variable): "
   ]
  },
  {
   "cell_type": "code",
   "execution_count": null,
   "metadata": {},
   "outputs": [],
   "source": []
  },
  {
   "cell_type": "markdown",
   "metadata": {},
   "source": [
    "Calculer le coût de cette essence:"
   ]
  },
  {
   "cell_type": "code",
   "execution_count": null,
   "metadata": {},
   "outputs": [],
   "source": []
  }
 ],
 "metadata": {
  "kernelspec": {
   "display_name": "Java",
   "language": "java",
   "name": "java"
  },
  "language_info": {
   "codemirror_mode": "java",
   "file_extension": ".jshell",
   "mimetype": "text/x-java-source",
   "name": "Java",
   "pygments_lexer": "java",
   "version": "14.0.1+7"
  }
 },
 "nbformat": 4,
 "nbformat_minor": 2
}
