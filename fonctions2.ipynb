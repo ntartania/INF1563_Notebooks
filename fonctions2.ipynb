{
 "cells": [
  {
   "cell_type": "markdown",
   "metadata": {},
   "source": [
    "# Spécifier, écrire, tester une fonction\n",
    "\n",
    "Dans la partie précédente on a vu comment appeler une fonction. Jusqu'à maintenant, on a appelé seulement des fonctions de bibliothèque, en particulier des fonctions mathématiques fournies par la bibliothèque ```Math```.\n",
    "\n",
    "Dans cette partie on va voir comment créer une nouvelle fonction.\n",
    "\n",
    "## Spéficier une fonction\n",
    "\n",
    "Supposons pour commencer que la bibliothèque ```Math``` n'existe pas et qu'on veuille créer notre propre fonction *valeur absolue*.\n",
    "\n",
    "Voici la déclaration d'une telle fonction (il y aurait plusieurs façons de l'écrire, nous allons prendre celle-ci comme example et l'analyser):"
   ]
  },
  {
   "cell_type": "code",
   "execution_count": 1,
   "metadata": {},
   "outputs": [],
   "source": [
    "double valeurAbsolue(double nombre){\n",
    "    double absolue;\n",
    "    if(nombre>=0){\n",
    "        absolue = nombre;\n",
    "    } else {\n",
    "        absolue = -nombre;\n",
    "    }\n",
    "    return absolue;\n",
    "}"
   ]
  },
  {
   "cell_type": "markdown",
   "metadata": {},
   "source": [
    "### En-tête d'une déclaration de fonction\n",
    "Dans cette déclaration on peut reconnaitre un *en-tête* (première ligne de la déclaration) similaire à ce qu'on a vu dans la documentation de la bibliothèque ```Math```. L'en-tête indique comment la fonction sera utilisée.\n",
    "\n",
    "```java\n",
    "double valeurAbsolue(double nombre)    { \n",
    " //...\n",
    " \n",
    "}\n",
    "\n",
    "\n",
    "```\n",
    "* Le premier élément de la déclaration (```double```) est le type de retour, c'est-à-dire le type du résultat du calcul. \n",
    "* Le deuxième élément (```valeurAbsolue```) est le nom de la fonction, un nom qui peut être choisi librement (il existe quelques contraintes en termes de caractères admissibles, et de réutilisation de noms).\n",
    "* On a ensuite des parenthèses où sont listés les *paramètres formels* de la fonction: ici il y a un seul paramètre ```double nombre```: le type vient en premier, suivi du nom (libre) du paramètre. Les paramètres formels sont les données d'entrée de la fonction.\n",
    "\n",
    "Cet en-tête nous indique qu'on peut appeler cette fonction en lui passant un ```double``` en argument, et que le résultat du calcul sera lui-aussi un ```double```:"
   ]
  },
  {
   "cell_type": "code",
   "execution_count": 2,
   "metadata": {},
   "outputs": [],
   "source": [
    "double x = valeurAbsolue(13.5 - 15.2);"
   ]
  },
  {
   "cell_type": "code",
   "execution_count": 3,
   "metadata": {},
   "outputs": [
    {
     "data": {
      "text/plain": [
       "1.6999999999999993"
      ]
     },
     "execution_count": 3,
     "metadata": {},
     "output_type": "execute_result"
    }
   ],
   "source": [
    "x"
   ]
  },
  {
   "cell_type": "markdown",
   "metadata": {},
   "source": [
    "L'en-tête d'une fonction représente aussi une vision \"boîte noire\" de la fonction, c'est-à-dire qu'elle est vue comme une machine abstraite qui prend certaines données en entrée et renvoie une autre donnée en sortie. \n",
    "\n",
    "Ici notre problème (calculer la valeur absolue d'une nombre) peut se formuler comme suit: la boîte prend en entrée un nombre quelconque, et nous donne en sortie un autre nombre, sa valeur absolue. Les informations pertinentes à ce stade sont les *types* des données en entrée et en sortie: ici, la fonction peut marcher pour n'importe quel type numérique (```int```, ```float```, ```double```...), alors on peut choisir le type le plus \"général\" pour un nombre, soit le type ```double```. Le type de l'information en sortie sera aussi ```double```. Enfin, il faut choisir le nom de la fonction: idéalement, le nom doit refléter ce que produit la fonction: ici on l'a nommée ```valeurAbsolue```.\n",
    "\n",
    "Ces informations (liste des données d'entrée avec leurs types, type de la donnée de sortie, nom de la fonction), permettent d'écrire l'en-tête de la fonction.\n",
    "\n",
    "**Note:** on se débrouille toujours pour avoir une seule donnée en sortie. Pour des problèmes qui nécessitent de renvoyer plusieurs données en sortie, on écrit plusieurs fonctions, ou on groupe les données de sortie dans un *objet*, ceci sera abordé dans la programmation orientée objet.\n",
    "\n",
    "#### Exercice 8\n",
    "\n",
    "Écrire **les en-têtes (seulement)** des fonctions spécifiées ci-dessous:\n",
    "* Une fonction ```longueur``` qui prend en entrée une chaine de caractères renvoie la longueur (nombre de caractères) de cette chaîne de caractères.\n",
    "\n",
    "* Une fonction ```estPair``` qui prend en entrée un entier et retourne ```true``` si ce nombre est pair, sinon ```false```.\n",
    "\n",
    "* Une fonction ```minimum``` qui prend en entrée deux nombres quelconques et renvoie le minimum des différentes valeurs."
   ]
  },
  {
   "cell_type": "markdown",
   "metadata": {},
   "source": [
    "### Corps de la fonction\n",
    "\n",
    "Au moment de définir les entrées et sortie d'une fonction, on ne se préoccupe pas de savoir comment on va les relier. Faire le lien entre les entrées et sorties est l'étape suivante.\n",
    "\n",
    "On reprend l'exemple de la fonction ```valeurAbsolue```:\n",
    "```java\n",
    "double valeurAbsolue(double nombre){\n",
    "    if(nombre>=0){\n",
    "        absolue = nombre;\n",
    "    } else {\n",
    "        absolue = -nombre;\n",
    "    }\n",
    "    return absolue;\n",
    "}\n",
    "```\n",
    "\n",
    "Le *corps* de la fonction calcule la valeur absolue du nombre ```nombre```: le résultat est dans la variable locale ```absolue```: pour *retourner* cette valeur, on utise le mot-clef ```return```: ```return``` doit être suivi de la valeur à retourner, qui peut être une variable, un littéral, ou une expression.\n",
    "\n",
    "#### Exemple: fonction ```cube```:\n",
    "\n",
    "Prenons un problème simple: on veut une fonction qui prend en entrée un entier et retourne le cube de cet entier (le nombre multiplié par lui-même deux fois). \n",
    "\n",
    "Commençons par l'en-tête: en entrée on aura un entier (donné par l'énoncé), et en sortie on aura un autre entier (multiplier des entiers donne des entiers). Pour le nom de la fonction, on peut simplement choisir \"cube\": ça nous indique bien ce que renvoie la fonction.\n",
    "\n",
    "On obtient donc l'en-tête suivant:\n",
    "\n",
    "```java\n",
    "int cube(int x)\n",
    "```\n",
    "\n",
    "On doit ensuite calculer la valeur de sortie à partir de la valeur d'entrée. Élever un nombre au cube consiste simplement à le multiplier par lui-même deux fois. Ici la donnée d'entrée est ```x``` (on aurait pu choisir n'importe quel autre nom), et la donnée de sortie est donc la valeur ```x * x * x```.\n",
    "\n",
    "On peut donc écrire:"
   ]
  },
  {
   "cell_type": "code",
   "execution_count": 4,
   "metadata": {},
   "outputs": [],
   "source": [
    "int cube(int x){\n",
    "    int resultat = x * x * x;\n",
    "    return resultat;\n",
    "}"
   ]
  },
  {
   "cell_type": "markdown",
   "metadata": {},
   "source": [
    "À noter qu'on aurait pu se passer de la variable ```resultat```, et avoir une fonction dont le corps aurait une seule ligne: \n",
    "```java\n",
    "int cube(int x){\n",
    "    return x * x * x;\n",
    "    }\n",
    "```"
   ]
  },
  {
   "cell_type": "markdown",
   "metadata": {},
   "source": [
    "#### Exercice 9\n",
    "\n",
    "Compléter la déclaration de fonction suivante, qui prend un entier (```int```) en entrée et renvoie en sortie la moitié de ce nombre (attention à la division entière: on veut que le résultat soit exact):"
   ]
  },
  {
   "cell_type": "code",
   "execution_count": null,
   "metadata": {},
   "outputs": [],
   "source": [
    "... moitie (... ){\n",
    "\n",
    "\n",
    "}"
   ]
  },
  {
   "cell_type": "markdown",
   "metadata": {},
   "source": [
    "### Fonctions sans paramètres\n",
    "\n",
    "Il est possible d'écrire des fonctions qui ne prennent pas de paramètres. La liste de paramètres formels de la fonction est alors vide:"
   ]
  },
  {
   "cell_type": "code",
   "execution_count": 6,
   "metadata": {},
   "outputs": [],
   "source": [
    "int trois(){\n",
    "    return 3;\n",
    "}"
   ]
  },
  {
   "cell_type": "markdown",
   "metadata": {},
   "source": [
    "Comme la fonction n'a pas de paramètres (et donc pas de données d'entrée), elle doit toujours renvoyer la même chose, ou bien utiliser une autre sorte d'entrée (par exemple une information lue au clavier, la date et l'heure courante, ou encore un nombre généré aléatoirement). Une telle fonction ne correspond plus à la définition mathématique d'une fonction, mais est utile en pratique. On verra aussi la situation où la fonction peut utiliser comme entrée des variables globales (définies en dehors de la fonction)."
   ]
  },
  {
   "cell_type": "markdown",
   "metadata": {},
   "source": [
    "### Fonctions et blocs de code\n",
    "\n",
    "Ainsi qu'on l'a vu pour les blocs d'instructions dans le contexte des instructions conditionnelles et des boucles, le corps d'une fonction, délimité par des accolades, forme aussi un bloc de code avec des variables dont la portée est limitée à l'intérieur de la fonction.\n",
    "\n",
    "Prenons par exemple la variable ```resultat``` utilisée dans la fonction ```cube``` ci-dessus. Le fait qu'elle soit déclarée à l'intérieur de la fonction ```cube``` signifie qu'elle n'existe pas en dehors du corps de la fonction:"
   ]
  },
  {
   "cell_type": "code",
   "execution_count": 7,
   "metadata": {},
   "outputs": [
    {
     "ename": "CompilationException",
     "evalue": "",
     "output_type": "error",
     "traceback": [
      "\u001b[1m\u001b[30m|   \u001b[1m\u001b[30m\u001b[0m\u001b[1m\u001b[30m\u001b[41mresultat\u001b[0m\u001b[1m\u001b[30m\u001b[0m",
      "\u001b[1m\u001b[31mcannot find symbol\u001b[0m",
      "\u001b[1m\u001b[31m  symbol:   variable resultat\u001b[0m",
      ""
     ]
    }
   ],
   "source": [
    "resultat"
   ]
  },
  {
   "cell_type": "markdown",
   "metadata": {},
   "source": [
    "### Les fonctions ```void```\n",
    "\n",
    "Comme on a vu pour la fonction ```System.out.println()```, on veut parfois écrire des fonctions qui ne retournent pas de valeur. \n",
    "\n",
    "Pour spécifier une fonction qui ne retourne pas de valeur, on utilise le \"type\" de retour ```void```. Ce n'est pas à proprement parler un type et signifie à peu près \"rien\", mais s'utilise dans la déclaration du type de retour de la fonction:"
   ]
  },
  {
   "cell_type": "code",
   "execution_count": 8,
   "metadata": {},
   "outputs": [],
   "source": [
    "void saluer(String nom){\n",
    "    System.out.println(\"Bonjour, \" + nom +\"!\");\n",
    "}"
   ]
  },
  {
   "cell_type": "markdown",
   "metadata": {},
   "source": [
    "La fonction s'utilise alors comme une instruction, on ne peut pas placer le résultat dans une variable (de quel type déclarerait-on la variable?):"
   ]
  },
  {
   "cell_type": "code",
   "execution_count": 9,
   "metadata": {},
   "outputs": [
    {
     "name": "stdout",
     "output_type": "stream",
     "text": [
      "Bonjour, Jeanne!\n"
     ]
    }
   ],
   "source": [
    "saluer(\"Jeanne\");"
   ]
  },
  {
   "cell_type": "markdown",
   "metadata": {},
   "source": [
    "À noter que le corps de la fonction ne contient habituellement pas d'instruction ```return```, puisqu'elle ne retourne rien. On peut, cependant, utiliser ```return``` tout seul. Cela peut-être utile quand on veut interrompre l'exécution de la fonction: le ```return``` interrompt l'exécution de la fonction tout comme l'instruction ```break``` interrompt une boucle.\n",
    "\n",
    "On peut par exemple écrire une fonction qui affiche un compte à rebours depuis un nombre $n$ (un entier donné en entrée de la fonction):"
   ]
  },
  {
   "cell_type": "code",
   "execution_count": 10,
   "metadata": {},
   "outputs": [],
   "source": [
    "void compteARebours(int n){\n",
    "    if (n<0){   \n",
    "        return;   // dans le cas où on donne un nombre négatif, il n'y a pas de compte à rebours à faire\n",
    "    }\n",
    "    int compte = n;\n",
    "    while (compte>0){\n",
    "        System.out.println(compte+\" !\");\n",
    "        compte = compte -1;\n",
    "    }\n",
    "    System.out.println(\"ZERO !\");\n",
    "}"
   ]
  },
  {
   "cell_type": "code",
   "execution_count": 11,
   "metadata": {},
   "outputs": [],
   "source": [
    "compteARebours(-4);"
   ]
  },
  {
   "cell_type": "markdown",
   "metadata": {},
   "source": [
    "(il ne s'est rien passé, parce que l'exécution de la fonction s'est limitée au premier bloc ```if```, et s'est terminée avec le ```return```)"
   ]
  },
  {
   "cell_type": "code",
   "execution_count": 12,
   "metadata": {},
   "outputs": [
    {
     "name": "stdout",
     "output_type": "stream",
     "text": [
      "4 !\n",
      "3 !\n",
      "2 !\n",
      "1 !\n",
      "ZERO !\n"
     ]
    }
   ],
   "source": [
    "compteARebours(4);"
   ]
  },
  {
   "cell_type": "markdown",
   "metadata": {},
   "source": [
    "À noter qu'une fonction ```void``` n'a aucune utilité si elle n'a pas d'effets de bord, comme afficher une information à l'écran, ou l'écrire dans un fichier. \n",
    "\n",
    "Dans le contexte de la programmation orientée objet on verra comment une fonction ```void``` peut modifier une variable globale."
   ]
  },
  {
   "cell_type": "markdown",
   "metadata": {},
   "source": [
    "### Tous les chemins mènent à ```return```\n",
    "\n",
    "Une condition importante lorsqu'on définit une fonction (qui n'est pas ```void```) est que cette fonction doit *toujours* retourner une valeur, quelque soit la donnée d'entrée.\n",
    "\n",
    "Une erreur classique est de laisser un chemin possible d'exécution qui puisse ne pas aboutir à un ```return```. Le compilateur ne le laissera pas passer. Exemple:"
   ]
  },
  {
   "cell_type": "code",
   "execution_count": 13,
   "metadata": {},
   "outputs": [
    {
     "ename": "CompilationException",
     "evalue": "",
     "output_type": "error",
     "traceback": [
      "\u001b[1m\u001b[30m|   \u001b[1m\u001b[30mint valeurAbsolue2(int x)\u001b[0m\u001b[1m\u001b[30m\u001b[41m{\u001b[0m",
      "\u001b[1m\u001b[30m|   \u001b[1m\u001b[30m\u001b[41m    if (x<0){\u001b[0m",
      "\u001b[1m\u001b[30m|   \u001b[1m\u001b[30m\u001b[41m        return -1 * x;\u001b[0m",
      "\u001b[1m\u001b[30m|   \u001b[1m\u001b[30m\u001b[41m    } else if (x>0) {\u001b[0m",
      "\u001b[1m\u001b[30m|   \u001b[1m\u001b[30m\u001b[41m        return 1;\u001b[0m",
      "\u001b[1m\u001b[30m|   \u001b[1m\u001b[30m\u001b[41m    }\u001b[0m",
      "\u001b[1m\u001b[30m|   \u001b[1m\u001b[30m\u001b[41m}\u001b[0m",
      "\u001b[1m\u001b[31mmissing return statement\u001b[0m",
      ""
     ]
    }
   ],
   "source": [
    "int valeurAbsolue2(int x){\n",
    "    if (x<0){\n",
    "        return -1 * x;\n",
    "    } else if (x>0) {\n",
    "        return 1;\n",
    "    }\n",
    "}"
   ]
  },
  {
   "cell_type": "markdown",
   "metadata": {},
   "source": [
    "Ici pour la valeur d'entrée ```x = 0```, aucune des deux conditions ne sera vraie, et l'exécution arrive à la fin de la fonction sans rencontrer de ```return```: l'erreur nous indique que le ```return``` est manquant.\n",
    "\n",
    "Il est aussi possible d'écrire le code de telle manière qu'il soit impossible de passer au travers sans rencontrer de return, mais que le compilateur cause tout de même l'erreur. Par exemple:"
   ]
  },
  {
   "cell_type": "code",
   "execution_count": 14,
   "metadata": {},
   "outputs": [
    {
     "ename": "CompilationException",
     "evalue": "",
     "output_type": "error",
     "traceback": [
      "\u001b[1m\u001b[30m|   \u001b[1m\u001b[30mint valeurAbsolue2(int x)\u001b[0m\u001b[1m\u001b[30m\u001b[41m{\u001b[0m",
      "\u001b[1m\u001b[30m|   \u001b[1m\u001b[30m\u001b[41m    if (x<0){\u001b[0m",
      "\u001b[1m\u001b[30m|   \u001b[1m\u001b[30m\u001b[41m        return -1 * x;\u001b[0m",
      "\u001b[1m\u001b[30m|   \u001b[1m\u001b[30m\u001b[41m    } else if (x>=0) {\u001b[0m",
      "\u001b[1m\u001b[30m|   \u001b[1m\u001b[30m\u001b[41m        return 1;\u001b[0m",
      "\u001b[1m\u001b[30m|   \u001b[1m\u001b[30m\u001b[41m    }\u001b[0m",
      "\u001b[1m\u001b[30m|   \u001b[1m\u001b[30m\u001b[41m}\u001b[0m",
      "\u001b[1m\u001b[31mmissing return statement\u001b[0m",
      ""
     ]
    }
   ],
   "source": [
    "int valeurAbsolue2(int x){\n",
    "    if (x<0){\n",
    "        return -1 * x;\n",
    "    } else if (x>=0) {\n",
    "        return 1;\n",
    "    }\n",
    "}"
   ]
  },
  {
   "cell_type": "markdown",
   "metadata": {},
   "source": [
    "Ici au niveau de l'analyse de code, un humain comprend bien que x est nécessairement soit positif ou nul, soit négatif, mais le compilateur, lui, voit un ```if``` suivi d'un ```else if```: cette structure permettrait un chemin d'exécution où les deux conditions sont fausses (le compilateur ne fait pas l'analyse mathématique). Pour que ce code compile, il faudrait soit remplacer le ```else if``` par un ```else```, soit ajouter un ```return``` après le ```if - else if``` (ou dans un ```else```)."
   ]
  },
  {
   "cell_type": "markdown",
   "metadata": {},
   "source": [
    "## Tester une fonction\n",
    "\n",
    "Il est important de s'assurer que le code qu'on écrit fonctionne correctement. Les fonctions permettent de décomposer un programme en petits éléments que l'on écrit un par un, et qu'on va aussi tester un par un: si on découvre après 1000 lignes de code que notre programme ne fonctionne pas, il sera très difficile de trouver l'erreur. \n",
    "\n",
    "Pour vérifier que le code fonctionne comme prévu, on écrit des *tests*: un test est une exécution du code dont on connait le résultat *correct*, et qu'on compare avec le résultat *effectivement donné* par le programme.\n",
    "\n",
    "Par exemple, si on a écrit un programme qui calcule la racine carrée d'un nombre, on l'utilise pour calculer la racine carrée de 25, et on vérifie que l'on obtient 5.\n",
    "\n",
    "On peut voir que les fonctions sont des unités de code particulièrement appropriées pour des tests: une fonction associe des sorties à des entrées: pour la tester, on lui donne certaines entrées pour lesquelles on connait la sortie *attendue*, comme ci-dessus l'exemple de la racine carrée de 5.\n",
    "Un test pour une petite unité de code comme une fonction est appelé un *test unitaire*, et en Java la bibliothèque JUnit fournit des outils pour ces tests. \n",
    "\n",
    "Dans ce notebook cette bibliothèque n'est pas disponible, et on va montrer le principe des tests unitaires avec des outils ad-hocs conceptuellement similaires.\n",
    "\n",
    "L'outil de base d'un test est une fonction de vérification qui prend en entrée une condition booléenne qui exprime le fait que la fonction marche bien (la condition doit exprimer le fait que la sortie de la fonction est bien celle qu'on attend). Si la condition n'est pas remplie, on affiche une erreur (sinon on ne fait rien):"
   ]
  },
  {
   "cell_type": "code",
   "execution_count": 15,
   "metadata": {},
   "outputs": [],
   "source": [
    "void verifier(boolean condition, String messageDErreur){\n",
    "    if (!condition){\n",
    "        System.err.println(messageDErreur);\n",
    "    }\n",
    "}"
   ]
  },
  {
   "cell_type": "markdown",
   "metadata": {},
   "source": [
    "On peut maintenant tester la fonction ```cube``` qu'on a écrite ci-dessus:"
   ]
  },
  {
   "cell_type": "code",
   "execution_count": 16,
   "metadata": {},
   "outputs": [],
   "source": [
    "boolean correct= (cube(3)==27); //le cube de 3 doit être égal à 27 (3*3*3)\n",
    "verifier(correct, \"Erreur sur cube(3)\");"
   ]
  },
  {
   "cell_type": "markdown",
   "metadata": {},
   "source": [
    "Aucun message d'erreur n'a été affiché, ce qui montre que le test est passé. \n",
    "Le petit programme ci-dessus est *un cas de test*: il vérifie que la fonction marche correctement pour une entrée particulière. Il est évident qu'on ne peut pas vérifier toutes les entrées possibles (à moins qu'il y en ait seulement deux ou trois), alors on choisit quelques cas de test représentatifs des entrées possibles, et on espère que le programme fonctionnera aussi pour les autres entrées qu'on n'aura pas pu tester.\n",
    "\n",
    "Une manière de choisir les cas de test est de séparer les entrées en *classes d'équivalence*, pour lesquelles la fonction devrait se comporter de la même manière: on teste alors une valeur de chaque classe, et une valeur à la limite. Pour la fonction ```valeurAbsolue```, on peut observer que la définition d'une valeur absolue change selon si les nombres sont positifs ou négatifs. On pourra donc tester la fonction pour un nombre positif, un nombre négatif, et un nombre à la limite (zéro):"
   ]
  },
  {
   "cell_type": "code",
   "execution_count": 17,
   "metadata": {},
   "outputs": [],
   "source": [
    "verifier(valeurAbsolue(5)==5, \"Erreur sur un nombre positif\");\n",
    "verifier(valeurAbsolue(-5)==5, \"Erreur sur un nombre négatif\");\n",
    "verifier(valeurAbsolue(0)==0, \"Erreur sur zéro\");"
   ]
  },
  {
   "cell_type": "markdown",
   "metadata": {},
   "source": [
    "Notre code semble marcher correctement.\n",
    "\n",
    "Pour montrer ce qu'il se passe en cas d'échec, on va écrire une fonction avec une erreur. \n",
    "La fonction ```triple``` doit retourner le triple de la valeur prise en entrée:"
   ]
  },
  {
   "cell_type": "code",
   "execution_count": 18,
   "metadata": {},
   "outputs": [],
   "source": [
    "int triple(int x){\n",
    "    return x + 3;\n",
    "}"
   ]
  },
  {
   "cell_type": "code",
   "execution_count": 19,
   "metadata": {},
   "outputs": [
    {
     "name": "stderr",
     "output_type": "stream",
     "text": [
      "erreur sur 5\n"
     ]
    }
   ],
   "source": [
    "verifier(triple(5)==15, \"erreur sur 5\");"
   ]
  },
  {
   "cell_type": "markdown",
   "metadata": {},
   "source": [
    "Le test nous montre que la fonction ne nous donne pas le résultat attendu pour la valeur d'entrée 5; on va alors vérifier le code et comprendre qu'on a écrit ```+``` au lieu de ```*```. \n",
    "\n",
    "Évidemment, les tests sont utiles surtout pour du code un peu plus complexe."
   ]
  },
  {
   "cell_type": "markdown",
   "metadata": {},
   "source": [
    "#### Exercice 10\n",
    "\n",
    "On veut écrire une fonction ```croissant``` qui prend trois valeurs ```double``` en entrée, et retourne ```true``` s'ils sont triés dans l'ordre croissant. Écrire trois tests bien choisis pour cette fonction, en utilisant la fonction ```verifier```."
   ]
  },
  {
   "cell_type": "markdown",
   "metadata": {},
   "source": [
    "#### Exercice 11\n",
    "\n",
    "Écrire la fonction ```croissant``` et utiliser les tests pour vérifier qu'elle est correcte."
   ]
  },
  {
   "cell_type": "markdown",
   "metadata": {},
   "source": [
    "## Synthèse: comment écrire une fonction\n",
    "\n",
    "Pour écrire une fonction, il est recommandé de suivre la méthode suivante:\n",
    "1. Identifier les données d'entrée de la fonction, leur type\n",
    "2. Identifier la donnée de sortie de la fonction, son type\n",
    "3. Choisir le nom de la fonction\n",
    "    * Pour une fonction qui retourne une valeur numérique ou String, essayer de choisir un nom commun qui décrit ce que retourne la fonction (```racineCarrée```, ```triple```,...)\n",
    "    * Pour une fonction booléenne, utiliser un verbe d'état ou une locution avec un verbe d'état (e.g. ```estPair```, ```sontTriés```, ...)\n",
    "    * Pour une fonction ```void```, choisir plutôt un verbe d'action qui décrit le but de la fonction (e.g. ```sauvegarderDonnées```, ```afficherResultat```...)\n",
    "4. Écrire l'en-tête de la fonction avec ces informations.\n",
    "5. Pour trouver l'algorithme qui transforme l'entrée en la sortie, prendre un ou plusieurs exemples de données d'entrée et essayer d'écrire le calcul avec ces données. Expérimenter jusqu'à trouver un algorithme qui fonctionne pour tous les cas.\n",
    "6. Écrire l'algorithme en utilisant les paramètres de la fonction comme variables d'entrée\n",
    "7. Tester la fonction. Dans la méthode TDD (*test-driven development*, une méthode très utilisée dans l'industrie du logiciel), on écrit même les tests en premier, *avant* d'écrire la fonction.\n",
    "\n",
    "### Les fonctions dans un programme Java\n",
    "\n",
    "Pour finir, il est important de noter que les définitions ci-dessus sont écrites pour l'environnement JShell. Pour un programme Java complet, constitué d'une ou plusieurs classes, on devrait ajouter des ```modifieurs``` à la déclaration: en général, toutes les fonctions qu'on écrira avant d'aborder la programmation orientée-objet seront déclarées ```public static```:\n",
    "```java\n",
    "public static int cube(int x){\n",
    "    return x * x * x;\n",
    "}\n",
    "```"
   ]
  }
 ],
 "metadata": {
  "kernelspec": {
   "display_name": "Java",
   "language": "java",
   "name": "java"
  },
  "language_info": {
   "codemirror_mode": "java",
   "file_extension": ".jshell",
   "mimetype": "text/x-java-source",
   "name": "Java",
   "pygments_lexer": "java",
   "version": "14.0.1+7"
  }
 },
 "nbformat": 4,
 "nbformat_minor": 2
}
