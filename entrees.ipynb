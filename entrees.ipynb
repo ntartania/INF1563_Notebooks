{
 "cells": [
  {
   "cell_type": "markdown",
   "metadata": {},
   "source": [
    "# Entrée standard\n",
    "\n",
    "L'entrée standard est un peu plus complexe à utiliser. Le nom de l'entrée standard se devine facilement, au lieu de ```System.out``` c'est ```System.in```, mais la difficulté est qu'on ne peut pas juste appeler une seule fonction sur l'entrée standard. On utilise habituellement une bibliothèque appelée ```Scanner```, qu'on peut pour l'instant voir comme un \"adaptateur\" qui nous fournit des fonctions simples pour lire des informations au clavier.\n",
    "\n",
    "On doit d'abord *importer* la bibliothèque ```Scanner```:"
   ]
  },
  {
   "cell_type": "code",
   "execution_count": 2,
   "metadata": {},
   "outputs": [],
   "source": [
    "import java.util.Scanner;"
   ]
  },
  {
   "cell_type": "markdown",
   "metadata": {},
   "source": [
    "On doit ensuite *créer un nouvel objet* de type ```Scanner```, associé à l'entrée standard. On peut donner n'importe quel nom à cette variable, ici on va l'appeler \"clavier\": "
   ]
  },
  {
   "cell_type": "code",
   "execution_count": 3,
   "metadata": {},
   "outputs": [],
   "source": [
    "Scanner clavier = new Scanner(System.in);"
   ]
  },
  {
   "cell_type": "markdown",
   "metadata": {},
   "source": [
    "On peut remarquer que la syntaxe est similaire à celle de déclarer une variable numérique ou texte et y affecter une valeur; la seule différence est l'usage du mot-clé ```new```. Ona maintenant une variable de type ```Scanner```, et en utilisant une affectation on y a stocké une information complexe (un objet associé à la sortie standard). \n",
    "\n",
    "Il n'est pas nécessaire pour l'instant d'entrer dans des explications détaillées: pour l'instant retenons que cette ligne est nécessaire pour avoir un objet ```clavier``` à disposition, avec lequel on peut maintenant lire des informations au clavier.\n",
    "\n",
    "## Lire du texte\n",
    "\n",
    "La bibliothèque ```Scanner``` nous permet de lire du texte au clavier, et stocker les caractères lus dans une variable de type ```String```. On va d'abord déclarer la variable qui va recevoir cette information:"
   ]
  },
  {
   "cell_type": "code",
   "execution_count": 4,
   "metadata": {},
   "outputs": [],
   "source": [
    "String nom;"
   ]
  },
  {
   "cell_type": "markdown",
   "metadata": {},
   "source": [
    "On lit maintenant le texte au clavier, à l'aide de la fonction ```next()```: l'utilisateur tape du texte, et quand il tape *entrée*, le texte est retourné par la fonction. "
   ]
  },
  {
   "cell_type": "code",
   "execution_count": 22,
   "metadata": {},
   "outputs": [
    {
     "name": "stdout",
     "output_type": "stream",
     "text": [
      "Spartacus\n"
     ]
    }
   ],
   "source": [
    "nom = clavier.next();"
   ]
  },
  {
   "cell_type": "markdown",
   "metadata": {},
   "source": [
    "Cette instruction ressemble aux affectations qu'on a vu précedemment, avec à droite des expressions. Ici à la place d'une expression on a à droite un appel de fonction, qui va nous **renvoyer une valeur** (le texte qu'on aura tapé) de type String. Comme pour une expression, au moment de l'exécution la partie droite est **remplacée par une valeur**. Cette valeur est ensuite **copiée** dans la variable qui forme la partie gauche.\n",
    "\n",
    "La variable ```nom``` contient maintenant le texte entré:"
   ]
  },
  {
   "cell_type": "code",
   "execution_count": 23,
   "metadata": {},
   "outputs": [
    {
     "data": {
      "text/plain": [
       "Spartacus"
      ]
     },
     "execution_count": 23,
     "metadata": {},
     "output_type": "execute_result"
    }
   ],
   "source": [
    "nom"
   ]
  },
  {
   "cell_type": "markdown",
   "metadata": {},
   "source": [
    "Habituellement on affiche un message à l'utilisateur avant d'essayer de lire quelque chose au clavier, parce que dans une console ordinaire aucune boite de texte de n'affiche et on ne voit pas forcément qu'on doit taper quelque chose:"
   ]
  },
  {
   "cell_type": "code",
   "execution_count": 26,
   "metadata": {},
   "outputs": [
    {
     "name": "stdout",
     "output_type": "stream",
     "text": [
      "Entrer votre nom:\n",
      "Scoobydoo\n",
      "Bonjour, Scoobydoo!\n"
     ]
    }
   ],
   "source": [
    "System.out.println(\"Entrer votre nom:\");\n",
    "nom = clavier.next();\n",
    "System.out.println(\"Bonjour, \"+ nom + \"!\");"
   ]
  },
  {
   "cell_type": "markdown",
   "metadata": {},
   "source": [
    "#### Exercice 3\n",
    "\n",
    "Compléter le programme ci-dessous pour demander à l'utilisateur deux sortes de fruits, et les stocker dans les variables ```fruit1``` et ```fruit2```. Afficher ensuite le texte:\n",
    "``` \n",
    "J'ai 2 pommes et 3 bananes.\n",
    "``` \n",
    "En remplaçant *pomme* et *banane* par les fruits donnés par l'utilisateur."
   ]
  },
  {
   "cell_type": "code",
   "execution_count": 46,
   "metadata": {},
   "outputs": [
    {
     "name": "stdout",
     "output_type": "stream",
     "text": [
      "Donner une sorte de fruit:\n"
     ]
    }
   ],
   "source": [
    "String fruit1, fruit2;\n",
    "System.out.println(\"Donner une sorte de fruit:\");\n",
    "// ..."
   ]
  },
  {
   "cell_type": "markdown",
   "metadata": {},
   "source": [
    "### Espaces et séparateurs\n",
    "Dans l'exemple précédent, si on écrit un texte contenant un espace, seul le premier des deux mots est renvoyé par la fonction ```next()```:"
   ]
  },
  {
   "cell_type": "code",
   "execution_count": 27,
   "metadata": {},
   "outputs": [
    {
     "name": "stdout",
     "output_type": "stream",
     "text": [
      "Entrer votre nom:\n",
      "Daffy Duck\n",
      "Bonjour, Daffy!\n"
     ]
    }
   ],
   "source": [
    "System.out.println(\"Entrer votre nom:\");\n",
    "nom = clavier.next();\n",
    "System.out.println(\"Bonjour, \"+ nom + \"!\");"
   ]
  },
  {
   "cell_type": "markdown",
   "metadata": {},
   "source": [
    "Ici l'espace est pris comme séparateur, et l'appel de la fonction ```next()``` n'a pris que le premier mot. Le deuxième est toujours en mémoire de l'objet Scanner, et si on appelle ```next()``` à nouveau, on obtiendra le mot suivant (sans rien entrer de plus au clavier):"
   ]
  },
  {
   "cell_type": "code",
   "execution_count": 28,
   "metadata": {},
   "outputs": [],
   "source": [
    "String nom2 = clavier.next();"
   ]
  },
  {
   "cell_type": "markdown",
   "metadata": {},
   "source": [
    "Vérifions le contenu de ```nom2```:"
   ]
  },
  {
   "cell_type": "code",
   "execution_count": 29,
   "metadata": {},
   "outputs": [
    {
     "data": {
      "text/plain": [
       "Duck"
      ]
     },
     "execution_count": 29,
     "metadata": {},
     "output_type": "execute_result"
    }
   ],
   "source": [
    "nom2"
   ]
  },
  {
   "cell_type": "markdown",
   "metadata": {},
   "source": [
    "Si on veut lire du texte contenant des espaces, il faut utiliser la fonction ```nextLine()```:"
   ]
  },
  {
   "cell_type": "code",
   "execution_count": 32,
   "metadata": {},
   "outputs": [
    {
     "name": "stdout",
     "output_type": "stream",
     "text": [
      "Johnny B. Goode\n"
     ]
    }
   ],
   "source": [
    "String nomComplet = clavier.nextLine();"
   ]
  },
  {
   "cell_type": "code",
   "execution_count": 33,
   "metadata": {},
   "outputs": [
    {
     "data": {
      "text/plain": [
       "Johnny B. Goode"
      ]
     },
     "execution_count": 33,
     "metadata": {},
     "output_type": "execute_result"
    }
   ],
   "source": [
    "nomComplet"
   ]
  },
  {
   "cell_type": "markdown",
   "metadata": {},
   "source": [
    "#### Exercice 4\n",
    "Écrire un programme qui demande à l'utilisateur d'entrer son prénom suivi de son nom (en une seule fois), puis qui affiche \"Identité: Nom, Prénom\".\n",
    "\n",
    "Exemple:\n",
    "```\n",
    "Entrez votre prénom et votre nom:\n",
    "Ada Lovelace\n",
    "Identité: Lovelace, Ada\n",
    "```"
   ]
  },
  {
   "cell_type": "code",
   "execution_count": null,
   "metadata": {},
   "outputs": [],
   "source": []
  },
  {
   "cell_type": "markdown",
   "metadata": {},
   "source": [
    "## Lire des nombres\n",
    "Quand on veut lire une valeur numérique au clavier, on ne peut pas utiliser ```nextLine()``` parce que le nombre entré serait simplement interprété comme une séquence de caractères et non pas une valeur numérique. Essayer de le stocker dans une variable d'un type numérique (```int```, ```double```, etc.) causerait d'ailleurs une erreur:"
   ]
  },
  {
   "cell_type": "code",
   "execution_count": 15,
   "metadata": {},
   "outputs": [
    {
     "name": "stdout",
     "output_type": "stream",
     "text": [
      "Entrer votre age:\n"
     ]
    },
    {
     "ename": "CompilationException",
     "evalue": "",
     "output_type": "error",
     "traceback": [
      "\u001b[1m\u001b[30m|   \u001b[1m\u001b[30mint age = \u001b[0m\u001b[1m\u001b[30m\u001b[41mclavier.nextLine()\u001b[0m\u001b[1m\u001b[30m;\u001b[0m",
      "\u001b[1m\u001b[31mincompatible types: java.lang.String cannot be converted to int\u001b[0m",
      ""
     ]
    }
   ],
   "source": [
    "System.out.println(\"Entrer votre age:\");\n",
    "int age = clavier.nextLine();\n",
    "System.out.println(\"Vous etes bien jeune!\");"
   ]
  },
  {
   "cell_type": "markdown",
   "metadata": {},
   "source": [
    "Le message d'erreur indique que Java ne peut pas convertir automatiquement un ```String``` en ```int```. Remarquer que l'erreur a été détectée sans qu'on l'exécute (aucune valeur n'a été tapée au clavier). L'erreur a en fait été détectée à la *compilation*.\n",
    "\n",
    "Pour lire une valeur numérique, on dispose de deux autres fonctions, ```nextInt()``` et ```nextDouble()```, qui permettent de lire des entiers et des décimaux, respectivement:"
   ]
  },
  {
   "cell_type": "code",
   "execution_count": 8,
   "metadata": {},
   "outputs": [
    {
     "name": "stdout",
     "output_type": "stream",
     "text": [
      "Entrer votre age:\n",
      "74\n",
      "Vous etes bien jeune!\n"
     ]
    }
   ],
   "source": [
    "System.out.println(\"Entrer votre age:\");\n",
    "int age = clavier.nextInt();\n",
    "System.out.println(\"Vous etes bien jeune!\");"
   ]
  },
  {
   "cell_type": "code",
   "execution_count": 10,
   "metadata": {},
   "outputs": [
    {
     "name": "stdout",
     "output_type": "stream",
     "text": [
      "Entrer votre taille (en m):\n",
      "1.63\n",
      "Votre tête touche presque les nuages!\n"
     ]
    }
   ],
   "source": [
    "System.out.println(\"Entrer votre taille (en m):\");\n",
    "double taille = clavier.nextDouble();\n",
    "System.out.println(\"Votre tête touche presque les nuages!\");"
   ]
  },
  {
   "cell_type": "markdown",
   "metadata": {},
   "source": [
    "Les deux petits programmes ci-dessus ont lu des valeurs numériques au clavier et les ont stockées dans les variables ```age``` et ```taille```.\n",
    "\n",
    "On peut maintenant utiliser ces valeurs dans la suite du programme, et faire des calculs dessus comme n'importe quelles autres variables numériques:"
   ]
  },
  {
   "cell_type": "code",
   "execution_count": 11,
   "metadata": {},
   "outputs": [
    {
     "name": "stdout",
     "output_type": "stream",
     "text": [
      "Vous avez grandi en moyenne de 0.022027027027027024m par an!\n"
     ]
    }
   ],
   "source": [
    "double progression = taille / age;\n",
    "System.out.println(\"Vous avez grandi en moyenne de \"+ progression + \"m par an!\");"
   ]
  },
  {
   "cell_type": "markdown",
   "metadata": {},
   "source": [
    "#### Exercice 5\n",
    "Compléter le programme ci-dessous, qui demande à l'utilisateur d'entrer son poids en kg, puis sa taille en m, et enfin calcule le BMI (body mass index, indice de poinds corporel: poids divisé par la taille au carré) de la personne et l'affiche à l'écran.\n",
    "\n",
    "Exemple:\n",
    "```\n",
    "Entrez votre poids (en kg): \n",
    "72 \n",
    "Entrez votre taille (en m):\n",
    "1.68\n",
    "Votre BMI est de 25.510204\n",
    "\n",
    "```\n",
    "\n",
    "Remarque: pour élever un nombre au carré, le plus simple est de le multiplier par lui-même."
   ]
  },
  {
   "cell_type": "code",
   "execution_count": null,
   "metadata": {},
   "outputs": [],
   "source": [
    "int poids;\n",
    "double taille;\n",
    "double bmi;\n",
    "System.out.println(\"Entrez votre poids (en kg):\");\n",
    "//..."
   ]
  },
  {
   "cell_type": "markdown",
   "metadata": {},
   "source": [
    "### Lire plusieurs valeurs\n",
    "\n",
    "De même que la fonction ```next()``` découpe le texte en unités séparées par des espaces, les fonctions ```nextInt()``` et ```nextDouble()``` permettent aussi de lire plusieurs nombres, séparés par des espaces. Ici, il est évident que l'espace ne peut pas faire partie du nombre:"
   ]
  },
  {
   "cell_type": "code",
   "execution_count": 36,
   "metadata": {},
   "outputs": [
    {
     "name": "stdout",
     "output_type": "stream",
     "text": [
      "Entrez votre taille en pieds / pouces (un espace entre les deux valeurs)\n",
      "5 3\n",
      "Vous mesurez: 5'3\"soit 1.6002m.\n"
     ]
    }
   ],
   "source": [
    "System.out.println(\"Entrez votre taille en pieds / pouces (un espace entre les deux valeurs)\");\n",
    "int pieds = clavier.nextInt();\n",
    "int pouces = clavier.nextInt();\n",
    "System.out.print(\"Vous mesurez: \" + pieds + \"'\" + pouces + \"\\\"\");\n",
    "double cm = 2.54 * (12*pieds + pouces);\n",
    "System.out.println(\"soit \"+cm/100+\"m.\");"
   ]
  },
  {
   "cell_type": "markdown",
   "metadata": {},
   "source": [
    "L'intérêt ici est d'alléger l'interaction: au lieu de voir \"entrez le nombre de pieds\" suivi de \"entrez maintenant le nombre de pouces\", on ne dnne qu'une seule instruction à l'utilisateur."
   ]
  },
  {
   "cell_type": "markdown",
   "metadata": {},
   "source": [
    "#### Exemple d' utilisation\n",
    "\n",
    "En utilisant l'entrée et la sortie standard, on peut maintenant reprendre le programme qui sert à calculer la vitesse moyenne d'un marathonien, et en faire une version interactive. \n",
    "\n",
    "Note: pour que le programme soit complet, on a créé un nouvel l'objet Scanner, au lieu de réutiliser celui qui a été créé au-dessus:"
   ]
  },
  {
   "cell_type": "code",
   "execution_count": 38,
   "metadata": {},
   "outputs": [
    {
     "name": "stdout",
     "output_type": "stream",
     "text": [
      "Entrez le temps du coureur (heures, puis minutes, puis secondes, séparées par des espaces)\n",
      "2 09 33\n",
      "La vitesse moyenne du coureur était de 19.542261675028946km/h\n"
     ]
    }
   ],
   "source": [
    "Scanner clavier = new Scanner(System.in);\n",
    "int heures, minutes, secondes;\n",
    "System.out.println(\"Entrez le temps du coureur (heures, puis minutes, puis secondes, séparées par des espaces)\");\n",
    "heures = clavier.nextInt();\n",
    "minutes = clavier.nextInt();\n",
    "secondes = clavier.nextInt();\n",
    "\n",
    "int tempsTotal = 3600 * heures + 60 * minutes + secondes;\n",
    "double vitesseMS = 42195.0 / tempsTotal;\n",
    "double vitesseKMH = vitesseMS * 3.6;\n",
    "\n",
    "System.out.println(\"La vitesse moyenne du coureur était de \"+ vitesseKMH + \"km/h\");"
   ]
  },
  {
   "cell_type": "markdown",
   "metadata": {},
   "source": [
    "#### Exercice 6\n",
    "\n",
    "Écrire un programme qui lit une longueur donnée en pieds et pouces et la convertit en mètres.\n",
    "L'interaction doit suivre l'exemple ci-dessous:\n",
    "\n",
    "```\n",
    "Entrez la longueur en pieds et pouces (nombre de pieds suivi d'un espace puis nombre de pouces):\n",
    "7 3\n",
    "Ceci équivaut à 2.2098 m.\n",
    "```\n",
    "\n",
    "Note: un pied mesure 30.48 cm, un pouce mesure 2.54 cm. "
   ]
  },
  {
   "cell_type": "code",
   "execution_count": null,
   "metadata": {},
   "outputs": [],
   "source": [
    "int pieds, pouces;\n",
    "double metres;\n",
    "\n",
    "System.out.println(\"Entrez la longueur en pieds et pouces (nombre de pieds suivi d'un espace puis nombre de pouces):\");\n",
    "\n",
    "//..."
   ]
  }
 ],
 "metadata": {
  "kernelspec": {
   "display_name": "Java",
   "language": "java",
   "name": "java"
  },
  "language_info": {
   "codemirror_mode": "java",
   "file_extension": ".jshell",
   "mimetype": "text/x-java-source",
   "name": "Java",
   "pygments_lexer": "java",
   "version": "14.0.1+7"
  }
 },
 "nbformat": 4,
 "nbformat_minor": 2
}
