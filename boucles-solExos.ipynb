{
 "cells": [
  {
   "cell_type": "markdown",
   "metadata": {},
   "source": [
    "# Boucles: Solutions aux exercices"
   ]
  },
  {
   "cell_type": "markdown",
   "metadata": {},
   "source": [
    "#### Exercice 1: \n",
    "Modifier la boucle pour afficher 10 fois \"bonjour\"."
   ]
  },
  {
   "cell_type": "code",
   "execution_count": null,
   "metadata": {},
   "outputs": [],
   "source": [
    "for (int i=0; i<5; ++i){\n",
    "    System.out.println(\"Bonjour\");\n",
    "}"
   ]
  },
  {
   "cell_type": "markdown",
   "metadata": {},
   "source": [
    "*Solution* :"
   ]
  },
  {
   "cell_type": "code",
   "execution_count": 1,
   "metadata": {},
   "outputs": [
    {
     "name": "stdout",
     "output_type": "stream",
     "text": [
      "Bonjour\n",
      "Bonjour\n",
      "Bonjour\n",
      "Bonjour\n",
      "Bonjour\n",
      "Bonjour\n",
      "Bonjour\n",
      "Bonjour\n",
      "Bonjour\n",
      "Bonjour\n"
     ]
    }
   ],
   "source": [
    "for (int i=0; i<10; ++i){\n",
    "    System.out.println(\"Bonjour\");\n",
    "}"
   ]
  },
  {
   "cell_type": "markdown",
   "metadata": {},
   "source": [
    " \n",
    "#### Exercice 2: les carrés\n",
    "Modifier la boucle précédente pour que afficher les *carrés* des nombres de 1 à 10:\n",
    "\n",
    "1  \n",
    "4  \n",
    "9  \n",
    "16  \n",
    "...  \n",
    "100\n",
    "\n",
    "*Solution* :"
   ]
  },
  {
   "cell_type": "code",
   "execution_count": 2,
   "metadata": {},
   "outputs": [
    {
     "name": "stdout",
     "output_type": "stream",
     "text": [
      "1\n",
      "4\n",
      "9\n",
      "16\n",
      "25\n",
      "36\n",
      "49\n",
      "64\n",
      "81\n",
      "100\n"
     ]
    }
   ],
   "source": [
    "for (int i=1; i<=10; ++i){\n",
    "    System.out.println(i*i); \n",
    "}"
   ]
  },
  {
   "cell_type": "markdown",
   "metadata": {},
   "source": [
    "#### Exercice 3\n",
    "Pour afficher les nombres pairs entre 0 et 20, modifier la définition de la boucle pour que \n",
    "```i```commence à zéro et augmente de 2 en 2 jusqu'à 20."
   ]
  },
  {
   "cell_type": "markdown",
   "metadata": {},
   "source": [
    "for (int i=1; i<=10; ++i){\n",
    "    System.out.println(i);\n",
    "}"
   ]
  },
  {
   "cell_type": "markdown",
   "metadata": {},
   "source": [
    "*Solution* :"
   ]
  },
  {
   "cell_type": "code",
   "execution_count": 3,
   "metadata": {},
   "outputs": [
    {
     "name": "stdout",
     "output_type": "stream",
     "text": [
      "0\n",
      "2\n",
      "4\n",
      "6\n",
      "8\n",
      "10\n",
      "12\n",
      "14\n",
      "16\n",
      "18\n",
      "20\n"
     ]
    }
   ],
   "source": [
    "for (int i=0; i<=20; i=i+2){\n",
    "    System.out.println(i); \n",
    "}"
   ]
  },
  {
   "cell_type": "markdown",
   "metadata": {},
   "source": [
    "#### Exercice 4: traduire une boucle ```for``` en boucle ```while```:\n",
    "\n",
    "Soit la boucle ```for``` de l'exemple 3:\n",
    "```java\n",
    "for (int i=10; i>0; --i){\n",
    "    System.out.println(i); \n",
    "}\n",
    "```\n",
    "Écrire une boucle ```while``` équivalente.\n",
    "\n",
    "*Solution* :"
   ]
  },
  {
   "cell_type": "code",
   "execution_count": 4,
   "metadata": {},
   "outputs": [
    {
     "name": "stdout",
     "output_type": "stream",
     "text": [
      "10\n",
      "9\n",
      "8\n",
      "7\n",
      "6\n",
      "5\n",
      "4\n",
      "3\n",
      "2\n",
      "1\n"
     ]
    }
   ],
   "source": [
    "int i=10; \n",
    "while (i>0){\n",
    "    System.out.println(i); \n",
    "    --i;\n",
    "}"
   ]
  },
  {
   "cell_type": "markdown",
   "metadata": {},
   "source": [
    "#### Exercice 5: traduire une boucle ```for``` en boucle ```do while```:\n",
    "\n",
    "On continue à utiliser la boucle for de l'exemple 3.\n",
    "Écrire maintenant une boucle ```do while``` équivalente.\n"
   ]
  },
  {
   "cell_type": "code",
   "execution_count": 5,
   "metadata": {},
   "outputs": [
    {
     "name": "stdout",
     "output_type": "stream",
     "text": [
      "10\n",
      "9\n",
      "8\n",
      "7\n",
      "6\n",
      "5\n",
      "4\n",
      "3\n",
      "2\n",
      "1\n"
     ]
    }
   ],
   "source": [
    "int i=10; \n",
    "do{\n",
    "    System.out.println(i); \n",
    "    --i;\n",
    "} while (i>0);"
   ]
  },
  {
   "cell_type": "markdown",
   "metadata": {},
   "source": [
    "#### Exercice 6: Déterminer si un nombre est premier\n",
    "Comment détermine-t-on un si un nombre n est premier? On cherche dans l'intervalle [2, n/2 ] un diviseur de n. Si on en trouve un, alors on sait que n n'est pas premier. Si on en trouve un, alors on sait que n est premier.\n",
    "\n",
    "*Solution* :"
   ]
  },
  {
   "cell_type": "code",
   "execution_count": 6,
   "metadata": {},
   "outputs": [
    {
     "name": "stdout",
     "output_type": "stream",
     "text": [
      "Entrer un entier supérieur à 2 pour déterminer s'il est premier:\n",
      "43\n",
      "43 est premier\n"
     ]
    }
   ],
   "source": [
    "Scanner clavier = new Scanner(System.in);\n",
    "int nombre;\n",
    "do {\n",
    "    System.out.println(\"Entrer un entier supérieur à 2 pour déterminer s'il est premier:\");\n",
    "    nombre = clavier.nextInt();\n",
    "} while (nombre <=2); // pour s'assurer que le nombre est supérieur à 2\n",
    "\n",
    "boolean trouvéDiviseur = false;\n",
    "for ( int i =2; i<=nombre/2; i++){ // boucle pour chercher des diviseurs dans l'intervalle [2, nombre/2]\n",
    "    if (nombre%i==0){\n",
    "        trouvéDiviseur = true;\n",
    "    }\n",
    "}\n",
    "\n",
    "if (! trouvéDiviseur){ //le nombre est premier si on N'a PAS trouvé de diviseur\n",
    "    System.out.println(nombre + \" est premier\");\n",
    "} else {\n",
    "    System.out.println(nombre + \" n'est pas premier\");\n",
    "}"
   ]
  },
  {
   "cell_type": "markdown",
   "metadata": {},
   "source": [
    "#### Exercice 7: trouver la racine entière d'un nombre:\n",
    "\n",
    "On veut trouver la racine carrée d'un nombre *n*, si elle est entière. Pour ceci, on va simplement parcourir l'intervalle \\[0, n\\] et tester chaque nombre pour voir si il donne *n* quand on l'élève au carré. Si et quand on trouve la racine, il faut garder cette valeur pour l'afficher à la fin, comme dans l'exemple 7 quand on trouve le multiple de 41. Si on ne trouve pas de racine entière, on affichera un message indiquant cela. Utiliser le squelette de code suivant comme point de départ.\n",
    "\n",
    "*Solution* :"
   ]
  },
  {
   "cell_type": "code",
   "execution_count": 7,
   "metadata": {},
   "outputs": [
    {
     "name": "stdout",
     "output_type": "stream",
     "text": [
      "Entrer un entier positif pour obtenir sa racine carrée:\n",
      "144\n",
      "La racine carrée du nombre est 12\n"
     ]
    }
   ],
   "source": [
    "Scanner clavier = new Scanner(System.in);\n",
    "int nombre;\n",
    "do {\n",
    "    System.out.println(\"Entrer un entier positif pour obtenir sa racine carrée:\");\n",
    "    nombre = clavier.nextInt();\n",
    "} while (nombre <=0); // pour s'assurer que le nombre est positif (strictement)\n",
    "\n",
    "int racine = -1;\n",
    "for (int i=0; i<=nombre; i++ ){ // boucle pour chercher la racine dans l'intervalle [0, nombre]\n",
    "    if (i*i==nombre){\n",
    "        racine = i; // on enregistre la valeur\n",
    "        break;\n",
    "    }\n",
    "}\n",
    "\n",
    "if (racine == -1){\n",
    "    System.out.println(\"La racine carrée du nombre n'est pas entière\");\n",
    "} else {\n",
    "    System.out.println(\"La racine carrée du nombre est \"+ racine);\n",
    "}"
   ]
  },
  {
   "cell_type": "markdown",
   "metadata": {},
   "source": [
    "#### Exercice 8: les multiples de 3 qui se terminent par 1\n",
    "\n",
    "On considère tous les multiples de 3 inférieurs à 10000. Combien d'entre eux se terminent par le chiffre 1?\n",
    "Pour le savoir, énumérer les multiples de 3 à l'aide d'une boucle (commencer à zéro et aller de 3 en 3) et compter ceux qui se terminent par le chiffre 1. Pour connaitre le chiffre des unités, utiliser l'opération modulo. Exemple: 438 % 10 = 8.\n",
    "\n",
    "*Solution* :"
   ]
  },
  {
   "cell_type": "code",
   "execution_count": 8,
   "metadata": {},
   "outputs": [
    {
     "name": "stdout",
     "output_type": "stream",
     "text": [
      "Il y a 33 multiples de 3 inférieurs à 1000 qui se terminent par le chiffre 1\n"
     ]
    }
   ],
   "source": [
    "int compte = 0;\n",
    "for (int i =0; i<1000; i = i+3){ // énumérer les multiples de 3: 0, 3, 6, 9...\n",
    "    if (i%10==1){\n",
    "        compte = compte +1;\n",
    "    }\n",
    "}\n",
    "\n",
    "System.out.println(\"Il y a \"+compte+\" multiples de 3 inférieurs à 1000 qui se terminent par le chiffre 1\");"
   ]
  },
  {
   "cell_type": "markdown",
   "metadata": {},
   "source": [
    "#### Exercice 9: les multiples de 3 qui se terminent par 1 (bis)\n",
    "On considère toujours les multiples de 3 inférieurs à 10000. On voudrait savoir quelle *proportion* de ces nombres se termine par 1. Il faut maintenant compter les multiples de 3 et, à part, ceux qui se terminent par 1.\n",
    "\n",
    "*Solution* :\n"
   ]
  },
  {
   "cell_type": "code",
   "execution_count": 9,
   "metadata": {},
   "outputs": [
    {
     "name": "stdout",
     "output_type": "stream",
     "text": [
      "Parmi les multiples de 3 inférieurs à 1000, 10% d'entre eux se terminent par le chiffre 1"
     ]
    },
    {
     "data": {
      "text/plain": [
       "java.io.PrintStream@648a8f38"
      ]
     },
     "execution_count": 9,
     "metadata": {},
     "output_type": "execute_result"
    }
   ],
   "source": [
    "int compteMultiples = 0;\n",
    "int compte1 = 0;\n",
    "for (int i =0; i<1000; i = i+3){ // énumérer les multiples de 3: 0, 3, 6, 9...\n",
    "    compteMultiples = compteMultiples + 1; \n",
    "    if (i%10==1){\n",
    "        compte1 = compte1 +1;\n",
    "    }\n",
    "}\n",
    "\n",
    "//on a maintenant les deux totaux, on va les diviser pour obtenir la proportion\n",
    "\n",
    "double proportion = compte1 *1.0 / compteMultiples; //1.0 pour faire une division exacte\n",
    "proportion = proportion *100; // pourcentage\n",
    "\n",
    "System.out.printf(\"Parmi les multiples de 3 inférieurs à 1000, %.0f%% d'entre eux se terminent par le chiffre 1\",proportion);"
   ]
  },
  {
   "cell_type": "markdown",
   "metadata": {},
   "source": [
    "#### Exercice 10: Nombres parfaits\n",
    "Un nombre est dit *parfait* s'il est égal à la somme de ses diviseurs propres (propres = le nombre lui-même exclu). \n",
    "Par exemple, 6 est parfait: ses diviseurs propres sont 1,2, et 3, et 1+2+3=6.\n",
    "Remarquer qu'on inclut 1 comme diviseur.\n",
    "\n",
    "Comment déterminer si un nombre est parfait? On fait la somme de ses diviseurs et on compare avec le nombre lui-même.\n",
    "Pour cet exercice, on pourra adapter le code de l'exercice 6: au lieu de chercher un diviseur de *n*, cette fois on veut les lister tous et en faire la somme.\n",
    "\n",
    "**Attention**: pour un nombre parfait, on inclut 1 dans la somme, il faut donc commencer la boucle à 1 et non pas à 2.\n",
    "\n",
    "*Solution* :"
   ]
  },
  {
   "cell_type": "code",
   "execution_count": 10,
   "metadata": {},
   "outputs": [
    {
     "name": "stdout",
     "output_type": "stream",
     "text": [
      "Entrer un entier supérieur à 2 pour déterminer s'il est parfait:\n",
      "496\n",
      "496 est parfait\n"
     ]
    }
   ],
   "source": [
    "Scanner clavier = new Scanner(System.in);\n",
    "int nombre;\n",
    "do {\n",
    "    System.out.println(\"Entrer un entier supérieur à 2 pour déterminer s'il est parfait:\");\n",
    "    nombre = clavier.nextInt();\n",
    "} while (nombre <=2); // pour s'assurer que le nombre est supérieur à 2\n",
    "\n",
    "int sommeDiviseurs = 0; //variable pour la somme des diviseurs\n",
    "for ( int i =1; i<=nombre/2; i++){ // boucle pour chercher des diviseurs dans l'intervalle [1, nombre/2]\n",
    "    if (nombre%i==0){\n",
    "        sommeDiviseurs = sommeDiviseurs +i; // on rajoute i à la somme des diviseurs\n",
    "    }\n",
    "}\n",
    "\n",
    "if (sommeDiviseurs == nombre){ //définition d'un nombre parfait\n",
    "    System.out.println(nombre + \" est parfait\");\n",
    "} else {\n",
    "    System.out.println(nombre + \" n'est pas parfait\");\n",
    "}"
   ]
  },
  {
   "cell_type": "markdown",
   "metadata": {},
   "source": [
    "#### Exercice 11: Produit des diviseurs\n",
    "Sur le modèle de l'exercice 10, écrire du code pour calculer le *produit*  des diviseurs propres d'un nombre (lu au clavier). \n",
    "\n",
    "\n",
    "Note: ceci ne donne pas, en général, la décomposition du nombre en facteurs premiers."
   ]
  },
  {
   "cell_type": "code",
   "execution_count": 11,
   "metadata": {},
   "outputs": [
    {
     "name": "stdout",
     "output_type": "stream",
     "text": [
      "Entrer un entier supérieur à 2 pour calculer le produit de ses diviseurs propres:\n",
      "45\n",
      "Le produit des diviseurs de 45 vaut 2025\n"
     ]
    }
   ],
   "source": [
    "Scanner clavier = new Scanner(System.in);\n",
    "int nombre;\n",
    "do {\n",
    "    System.out.println(\"Entrer un entier supérieur à 2 pour calculer le produit de ses diviseurs propres:\");\n",
    "    nombre = clavier.nextInt();\n",
    "} while (nombre <=2); // pour s'assurer que le nombre est supérieur à 2\n",
    "\n",
    "int produitDiviseurs = 1; //variable pour le produit des diviseurs: il faut l'initialiser à 1 qui est l'élément neutre de la multiplication\n",
    "for ( int i =1; i<=nombre/2; i++){ // boucle pour chercher des diviseurs dans l'intervalle [1, nombre/2]\n",
    "    if (nombre%i==0){\n",
    "        produitDiviseurs = produitDiviseurs *i; // on multiplie le produit des diviseurs par i\n",
    "    }\n",
    "}\n",
    "\n",
    "System.out.println(\"Le produit des diviseurs de \"+ nombre + \" vaut \"+ produitDiviseurs);\n"
   ]
  }
 ],
 "metadata": {
  "kernelspec": {
   "display_name": "Java",
   "language": "java",
   "name": "java"
  },
  "language_info": {
   "codemirror_mode": "java",
   "file_extension": ".jshell",
   "mimetype": "text/x-java-source",
   "name": "Java",
   "pygments_lexer": "java",
   "version": "14.0.1+7"
  }
 },
 "nbformat": 4,
 "nbformat_minor": 4
}
