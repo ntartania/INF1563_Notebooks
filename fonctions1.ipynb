{
 "cells": [
  {
   "cell_type": "markdown",
   "metadata": {},
   "source": [
    "# Fonctions"
   ]
  },
  {
   "cell_type": "markdown",
   "metadata": {},
   "source": [
    "Les fonctions sont des éléments essentiels de langages de programmation modernes, qui permettent d'organiser et de réutiliser du code.\n",
    "\n",
    "Pour appeler une fonction, on écrit le nom de la fonction suivi de parenthèses, et éventuellement un ou plusieurs *arguments* dans les parenthèses, exactement comme en mathématiques. Il y cependant plusieurs différences importantes avec les fonction mathématiques, à commencer par le fait qu'en programmation on utilise généralement des noms plus longs et explicites que *f* ou *g*.\n",
    "\n",
    "Par exemple, en supposant qu'on aie une fonction $f$ de $\\mathcal{R}$ dans $\\mathcal{R}$ ($\\mathcal{R}$ l'ensemble des nombres réels), on écrirait en mathématiques des équations comme ```y = f(x)``` ou ```f(0) = 2```.\n",
    "\n",
    "En programmation on peut utiliser ```f(x)``` ou ```f(0)``` comme des *expressions*, c'est à dire que ce terme sera calculé au moment de l'exécution et remplacé par sa valeur. On peut donc l'utiliser dans la partie droite d'une affectation:\n",
    "\n",
    "```double z = f(3);```\n",
    "\n",
    "Ici on calcule $f(3)$ et on place le résultat dans la variable ```z```.\n",
    "\n",
    "Dans cette partie on a apprendre à *utiliser* des fonctions données, et dans la suivante on apprendra à *définir* nos propres fonctions."
   ]
  },
  {
   "cell_type": "markdown",
   "metadata": {},
   "source": [
    "## La bibliothèque ```Math```\n",
    "\n",
    "Une *bibliothèque*, en programmation, est un ensemble d'éléments de code qui nous est fourni, et qu'on peut directement utiliser. Une bibliothèque utile fournie avec toute distribution Java est la bibliothèque ```Math```, qui fournit des fonctions mathématiques comme la racine carrée, les fonctions trigonométriques, les logarithmes, etc. \n",
    "\n",
    "On va commencer notre étude des fonctions en explorant quelques fonctions de cette bibliothèque."
   ]
  },
  {
   "attachments": {
    "Screen%20Shot%202020-08-04%20at%205.00.26%20PM.png": {
     "image/png": "[encoded data removed]"
    }
   },
   "cell_type": "markdown",
   "metadata": {},
   "source": [
    "### La fonction ```abs```\n",
    "La bibliothèque ```Math``` contient un grand nombre de fonctions. Pour en avoir la liste, on peut regarder la [documentation](https://docs.oracle.com/javase/8/docs/api/java/lang/Math.html#method.summary).\n",
    "\n",
    "La première fonction listée est spécifiée comme suit:\n",
    "\n",
    "![Screen%20Shot%202020-08-04%20at%205.00.26%20PM.png](attachment:Screen%20Shot%202020-08-04%20at%205.00.26%20PM.png)\n",
    "\n",
    "Pour l'instant on ignore le modifieur ```static```; les autres informations pertinentes sont:\n",
    "* le *type de retour* (```double```, donné juste après ```static```), \n",
    "* le *nom* de la fonction (ici ```abs```), \n",
    "* la liste des *paramètres formels* (les informations dans les parenthèses): ici il y a un seul paramètre, son nom (qui n'a aucune importance) est ```a``` et son type est ```double```. \n",
    "* enfin, une courte spécification nous indique que la fonction renverra **la valeur absolue** du nombre passé en paramètre.\n",
    "\n",
    "Ces informations nous indiquent comment utiliser cette fonction: elles nous indiquent que si on donne en entrée à cette fonction une valeur de type ```double``` (le paramètre), elle nous renverra en sortie un autre ```double```, qui sera la valeur absolue de celle donnée en entrée.\n",
    "\n",
    "Supposons qu'on veuille calculer la valeur absolue du nombre $-13.7$, il faut simplement écrire:"
   ]
  },
  {
   "cell_type": "code",
   "execution_count": 1,
   "metadata": {
    "scrolled": true
   },
   "outputs": [
    {
     "data": {
      "text/plain": [
       "13.7"
      ]
     },
     "execution_count": 1,
     "metadata": {},
     "output_type": "execute_result"
    }
   ],
   "source": [
    "Math.abs(-13.7)"
   ]
  },
  {
   "cell_type": "markdown",
   "metadata": {},
   "source": [
    "On écrit ```Math.abs``` au lieu de seulement ```abs``` parce que la fonction est fournie par la bibliothèque ```Math```, et ainsi Java sait où trouver la fonction.\n",
    "\n",
    "Ici on a passé une valeur littérale (un nombre) en argument de la fonction. Remarque: quand on *utilise* la fonction, la valeur passée dans les parenthèses s'appelle l'*argument*, et dans la *définition* de la fonction (ci-dessus dans la documentation) cela s'appelle le *paramètre formel*. On reverra les paramètres formels quand on définira nos propres fonctions.\n",
    "\n",
    "En attendant, remarquer qu'on n'utilise pas du tout le nom ```a``` donné dans la documentation: on a passé un nombre en argument, et on peut remplacer ce nombre par n'importe quelle expression qui donne un ```double```:"
   ]
  },
  {
   "cell_type": "code",
   "execution_count": 2,
   "metadata": {},
   "outputs": [
    {
     "data": {
      "text/plain": [
       "44.0"
      ]
     },
     "execution_count": 2,
     "metadata": {},
     "output_type": "execute_result"
    }
   ],
   "source": [
    "double x = 12;\n",
    "Math.abs(100 - x*x);"
   ]
  },
  {
   "cell_type": "markdown",
   "metadata": {},
   "source": [
    "On a aussi simplement affiché le résultat, comme avec une calculatrice. Mais l'appel de fonction est en fait une expression qui peut être utilisée comme partie droite d'une affectation, ou même à l'intérieur d'une expression:"
   ]
  },
  {
   "cell_type": "code",
   "execution_count": 3,
   "metadata": {},
   "outputs": [],
   "source": [
    "double z = 1.0 + Math.abs(x / 5 - 12);"
   ]
  },
  {
   "cell_type": "code",
   "execution_count": 4,
   "metadata": {},
   "outputs": [
    {
     "data": {
      "text/plain": [
       "10.6"
      ]
     },
     "execution_count": 4,
     "metadata": {},
     "output_type": "execute_result"
    }
   ],
   "source": [
    "z"
   ]
  },
  {
   "cell_type": "markdown",
   "metadata": {},
   "source": [
    "Comme avec les expressions numériques vues précédemment, il est important de comprendre l'ordre d'exécution des opérations. \n",
    "\n",
    "Le calcul se fait comme suit:   \n",
    "$ z = 1.0 + abs(x/5 - 12)$    &emsp;&emsp; on calcule d'abord la valeur de l'argument (dans les parenthèses)  \n",
    "$ z = 1.0 + abs(8.4 - 12)$  \n",
    "$ z = 1.0 + abs(-3.6)$  \n",
    "$ z = 1.0 + |-3.6|$ &emsp; &emsp;&emsp;&emsp;&emsp;    ici on remplace ```abs()``` par sa définition  \n",
    "$ z = 1.0 + 3.6$  \n",
    "$ z = 4.6$\n",
    "\n",
    "La variable ```z``` prend donc la valeur 4.6."
   ]
  },
  {
   "cell_type": "markdown",
   "metadata": {},
   "source": [
    "#### Exercice 1\n",
    "\n",
    "Donner la valeur de ```x```, ```y```, et ```z``` après l'exécution du code suivant:"
   ]
  },
  {
   "cell_type": "code",
   "execution_count": 5,
   "metadata": {},
   "outputs": [],
   "source": [
    "double x, y, z;\n",
    "x = Math.abs(8.0);\n",
    "y = Math.abs(x - 10.0);\n",
    "z = Math.abs(y - x);"
   ]
  },
  {
   "cell_type": "markdown",
   "metadata": {},
   "source": [
    "#### Exercice 2\n",
    "\n",
    "On veut calculer la *distance* entre deux nombres ```a``` et ```b```, c'est à dire la valeur absolue de leur différence: 8 et 3.5 sont distants de 4.5, et -1 et 1 sont distants de 2.\n",
    "\n",
    "Compléter le code ci-dessous pour calculer cette distance, à l'aide de la fonction ```Math.abs()```."
   ]
  },
  {
   "cell_type": "code",
   "execution_count": null,
   "metadata": {},
   "outputs": [],
   "source": [
    "import java.util.Scanner;\n",
    "Scanner scan = new Scanner(System.in);\n",
    "\n",
    "System.out.println(\"Entrer deux nombres séparés par un espace:\");\n",
    "double a = scan.nextDouble();\n",
    "double b = scan.nextDouble();\n",
    "\n",
    "double distance = ...// à compléter\n",
    "\n",
    "System.out.println(\"Ces deux nombres sont distants de \"+ distance);"
   ]
  },
  {
   "cell_type": "markdown",
   "metadata": {},
   "source": [
    "#### Exercice 3\n",
    "\n",
    "On veut comparer deux nombres en valeur absolue: si on compare -12 et +5, -12 est le plus grand en valeur absolue, même si +5 > -12.\n",
    "\n",
    "Compléter la condition ci-dessous pour que le programme affiche le plus grand nombre entre ```a``` et ```b```, en valeur absolue."
   ]
  },
  {
   "cell_type": "code",
   "execution_count": null,
   "metadata": {},
   "outputs": [],
   "source": [
    "System.out.println(\"Entrer deux nombres séparés par un espace:\");\n",
    "a = scan.nextDouble();\n",
    "b = scan.nextDouble();\n",
    "\n",
    "double maxVA;\n",
    "if (...){ // compléter ici.\n",
    "    maxVA = a;\n",
    "} else {\n",
    "    maxVA = b;\n",
    "}\n",
    "\n",
    "System.out.println(\"Le plus grand en valeur absolue est:\" + maxVA);"
   ]
  },
  {
   "cell_type": "markdown",
   "metadata": {},
   "source": [
    "### D'autres fonctions d'un argument\n",
    "\n",
    "Une autre fonction utilse de la bibliothèque ```Math``` est la fonction racine carrée: ```sqrt``` (*square root*). Encore une fois, on ne pense pas forcément à la racine carrée comme une fonction, on la voit plutôt comme un opérateur, représenté par le symbole $\\sqrt{ }$.\n",
    "\n",
    "Pour l'utiliser on écrit ```Math.sqrt```:"
   ]
  },
  {
   "cell_type": "code",
   "execution_count": 8,
   "metadata": {},
   "outputs": [
    {
     "data": {
      "text/plain": [
       "1.4142135623730951"
      ]
     },
     "execution_count": 8,
     "metadata": {},
     "output_type": "execute_result"
    }
   ],
   "source": [
    "Math.sqrt(2);"
   ]
  },
  {
   "cell_type": "markdown",
   "metadata": {},
   "source": [
    "On dispose aussi des fonctions trigonométriques *sinus*, *cosinus*, *tangente*:```Math.sin```, ```Math.cos```, ```Math.tan```, ces fonctions s'utilisent toutes de la même manière: "
   ]
  },
  {
   "cell_type": "code",
   "execution_count": 9,
   "metadata": {},
   "outputs": [],
   "source": [
    "double s = Math.sin(0.0);\n",
    "double c = Math.cos(16.0 / 9);\n",
    "double t = 1 + Math.tan(3.03);"
   ]
  },
  {
   "cell_type": "markdown",
   "metadata": {},
   "source": [
    "#### Exercice 4\n",
    "\n",
    "À la suite des déclarations ci-dessous, écrire des expressions Java équivalentes aux expressions mathématiques suivantes:\n",
    "* $v = |t|$\n",
    "* $x = sin(v)$\n",
    "* $y = cos^2(v)$  \n",
    "* $z = tan(y + 1)$"
   ]
  },
  {
   "cell_type": "code",
   "execution_count": null,
   "metadata": {},
   "outputs": [],
   "source": [
    "double v, t=-0.4, x, y, z;\n"
   ]
  },
  {
   "cell_type": "markdown",
   "metadata": {},
   "source": [
    "### Combiner des fonctions\n",
    "Comme le résultat d'une exécution de fonction est une valeur double, on peut aussi utiliser cette valeur comme *argument* d'une fonction.\n",
    "\n",
    "Supposons par exemple qu'on veuille calculer la valeur absolue du sinus d'un angle:\n",
    "\n",
    "$z = |sin(v)|$\n",
    "\n",
    "On peut écrire le calcul en deux étapes (on prend pour l'exemple $v=-0.7$):"
   ]
  },
  {
   "cell_type": "code",
   "execution_count": 10,
   "metadata": {},
   "outputs": [],
   "source": [
    "double s = Math.sin(-0.7);\n",
    "double z = Math.abs(s);"
   ]
  },
  {
   "cell_type": "markdown",
   "metadata": {},
   "source": [
    "Cependant, on pouvait aussi directement passer le résultat de la fonction ```sin``` en argument de la fonction valeur ```abs```:"
   ]
  },
  {
   "cell_type": "code",
   "execution_count": 11,
   "metadata": {},
   "outputs": [],
   "source": [
    "double z2 = Math.abs(Math.sin(-0.7));"
   ]
  },
  {
   "cell_type": "markdown",
   "metadata": {},
   "source": [
    "On peut vérifier qu'on obtient la même chose:"
   ]
  },
  {
   "cell_type": "code",
   "execution_count": 12,
   "metadata": {},
   "outputs": [
    {
     "data": {
      "text/plain": [
       "0.644217687237691"
      ]
     },
     "execution_count": 12,
     "metadata": {},
     "output_type": "execute_result"
    }
   ],
   "source": [
    "z"
   ]
  },
  {
   "cell_type": "code",
   "execution_count": 13,
   "metadata": {},
   "outputs": [
    {
     "data": {
      "text/plain": [
       "0.644217687237691"
      ]
     },
     "execution_count": 13,
     "metadata": {},
     "output_type": "execute_result"
    }
   ],
   "source": [
    "z2"
   ]
  },
  {
   "cell_type": "markdown",
   "metadata": {},
   "source": [
    "#### Exercice 5\n",
    "\n",
    "Soit $x= 0.73$. Écrire le code Java pour calculer $v$ et $h$ tels que: \n",
    "* $v = \\sqrt{|x|}$\n",
    "* $h = \\sqrt{sin^2(x)+cos^2(x)}$"
   ]
  },
  {
   "cell_type": "code",
   "execution_count": null,
   "metadata": {},
   "outputs": [],
   "source": [
    "double x = 0.73;\n",
    "double v =        // compléter\n",
    "double h =        // compléter"
   ]
  },
  {
   "attachments": {
    "doc_cosinus.png": {
     "image/png": "[encoded data removed]"
    }
   },
   "cell_type": "markdown",
   "metadata": {},
   "source": [
    "### Aparté: degrés et radians\n",
    "Pour des fonctions qu'on ne connaît pas, il est toujours utile de bien lire la documentation détaillée. Par exemple, les fonctions trigonométriques ```Math.sin```, ```Math.cos``` et ```Math.tan``` prennent en entrée un angle exprimé en radians, et non pas en degrés: on peut le voir, par exemple, dans la [documentation détaillée de la fonction cosinus](https://docs.oracle.com/javase/8/docs/api/java/lang/Math.html#cos-double-):\n",
    "![doc_cosinus.png](attachment:doc_cosinus.png)\n",
    "\n",
    "En cherchant un peu, on peut aussi voir qu'il existe une fonction pour convertir les degrés en radians: ```Math.toRadians()```:"
   ]
  },
  {
   "cell_type": "code",
   "execution_count": 14,
   "metadata": {},
   "outputs": [
    {
     "data": {
      "text/plain": [
       "1.0471975511965976"
      ]
     },
     "execution_count": 14,
     "metadata": {},
     "output_type": "execute_result"
    }
   ],
   "source": [
    "int angle_degres = 60;\n",
    "double angle_radians = Math.toRadians(angle_degres);\n",
    "angle_radians "
   ]
  },
  {
   "cell_type": "markdown",
   "metadata": {},
   "source": [
    "On peut vérifier que cette valeur est bien $\\pi/3$:"
   ]
  },
  {
   "cell_type": "code",
   "execution_count": 15,
   "metadata": {},
   "outputs": [
    {
     "data": {
      "text/plain": [
       "3.141592653589793"
      ]
     },
     "execution_count": 15,
     "metadata": {},
     "output_type": "execute_result"
    }
   ],
   "source": [
    "angle_radians * 3"
   ]
  },
  {
   "cell_type": "markdown",
   "metadata": {},
   "source": [
    "#### Exercice 6\n",
    "Calculer le sinus et le cosinus de $\\pi/4$ (soit 45 degrés), en combinant les fonctions ```sin``` et ```cos``` avec la fonction ```toRadians```. "
   ]
  },
  {
   "cell_type": "code",
   "execution_count": null,
   "metadata": {},
   "outputs": [],
   "source": [
    "double sinus =       // compléter\n",
    "double cosinus =     // compléter"
   ]
  },
  {
   "attachments": {
    "Screen%20Shot%202020-08-06%20at%209.54.30%20AM.png": {
     "image/png": "[encoded data removed]"
    }
   },
   "cell_type": "markdown",
   "metadata": {},
   "source": [
    "## Fonctions de plusieurs arguments\n",
    "\n",
    "Toujours dans la bibliothèque ```Math```, on peut trouver les fonctions ```max``` et ```min```, qui calculent respectivement le maximum et le minimum de deux valeurs.\n",
    "\n",
    "Ces fonctions prennent deux arguments, comme on peut le voir dans la documentation de ```max```:\n",
    "![Screen%20Shot%202020-08-06%20at%209.54.30%20AM.png](attachment:Screen%20Shot%202020-08-06%20at%209.54.30%20AM.png)\n",
    "\n",
    "L'utilisation d'une fonction de deux paramètres est très similaire à celle d'une fonction d'un seul paramètre:"
   ]
  },
  {
   "cell_type": "code",
   "execution_count": 16,
   "metadata": {},
   "outputs": [
    {
     "data": {
      "text/plain": [
       "3"
      ]
     },
     "execution_count": 16,
     "metadata": {},
     "output_type": "execute_result"
    }
   ],
   "source": [
    "Math.min(3, 9);"
   ]
  },
  {
   "cell_type": "markdown",
   "metadata": {},
   "source": [
    "On peut les combiner entre elles:"
   ]
  },
  {
   "cell_type": "code",
   "execution_count": 17,
   "metadata": {},
   "outputs": [
    {
     "data": {
      "text/plain": [
       "0.9950041652780258"
      ]
     },
     "execution_count": 17,
     "metadata": {},
     "output_type": "execute_result"
    }
   ],
   "source": [
    "double x = 0.1;\n",
    "Math.max(Math.sin(x), Math.cos(x))"
   ]
  },
  {
   "cell_type": "markdown",
   "metadata": {},
   "source": [
    "Ce résultat est la valeur ```cos(x)```:"
   ]
  },
  {
   "cell_type": "code",
   "execution_count": 18,
   "metadata": {},
   "outputs": [
    {
     "data": {
      "text/plain": [
       "0.9950041652780258"
      ]
     },
     "execution_count": 18,
     "metadata": {},
     "output_type": "execute_result"
    }
   ],
   "source": [
    "Math.cos(x)"
   ]
  },
  {
   "cell_type": "markdown",
   "metadata": {},
   "source": [
    "#### Exercice 7\n",
    "\n",
    "Dans une application de pilotage automatique, on doit calculer des angles pour tourner le véhicule. Les capteurs nous donnent l'angle de la nouvelle direction à suivre (entre $-\\pi$ et $+\\pi$). Cependant, on ne peut pas tourner les roues à plus de 30 degrés, il faut donc limiter l'angle à l'intervalle $[-\\pi/6, +\\pi/6]$. Autrement dit, on nous donne un angle d'entrée ```angleObjectif```, et il faut calculer l'```angleVirage``` comme suit:\n",
    "* si ```angleObjectif``` est compris entre $-\\pi/6$ et $+\\pi/6$, l'```angleVirage``` est le même.\n",
    "* si ```angleObjectif``` est **inférieur à $-\\pi/6$**, alors ```angleVirage``` est $-\\pi/6$.\n",
    "* si ```angleObjectif``` est **supérieur à $+\\pi/6$**, alors ```angleVirage``` est $+\\pi/6$.\n",
    "\n",
    "**7.1** En utilisant ```Math.max```, écrire une expression qui donne ```angleObjectif``` si ```angleObjectif``` est **supérieur à $-\\pi/6$**, et $-\\pi/6$ sinon.\n",
    "\n",
    "**7.2** En utilisant ```Math.min```, écrire une expression qui donne ```angleObjectif``` si ```angleObjectif``` est **inférieur à $\\pi/6$**, et $\\pi/6$ sinon\n",
    "\n",
    "**7.3** En combinant ```Math.min``` et ```Math.max```, écrire une instruction qui calcule ```angleVirage``` à partir de ```angleObjectif```, en une seule ligne."
   ]
  },
  {
   "attachments": {
    "Screen%20Shot%202020-08-10%20at%2012.57.03%20PM.png": {
     "image/png": "[encoded data removed]"
    }
   },
   "cell_type": "markdown",
   "metadata": {},
   "source": [
    "Pour les fonctions ```Math.min``` et ```Math.max```, il y a deux arguments, et ils ont le même role, dans le sens où on peut écrire ```Math.min(x, y)``` ou ```Math.min(y, x)``` et obtenir le même résultat. \n",
    "\n",
    "Cependant, il y a des fonctions pour lesquelles les différents paramètres (ou arguments) ont des rôles différents. Prenons la fonction puissance ```Math.pow```:\n",
    "![Screen%20Shot%202020-08-10%20at%2012.57.03%20PM.png](attachment:Screen%20Shot%202020-08-10%20at%2012.57.03%20PM.png)\n",
    "\n",
    "Ici on voit que les paramètres ```a``` et ```b``` n'ont pas le même rôle: ```Mathpow(a, b)``` calcule $a^b$, ce qui est très différent de $b^a$ !\n",
    "\n",
    "Exemples:"
   ]
  },
  {
   "cell_type": "code",
   "execution_count": 19,
   "metadata": {},
   "outputs": [
    {
     "data": {
      "text/plain": [
       "8.0"
      ]
     },
     "execution_count": 19,
     "metadata": {},
     "output_type": "execute_result"
    }
   ],
   "source": [
    "Math.pow(2, 3)"
   ]
  },
  {
   "cell_type": "markdown",
   "metadata": {},
   "source": [
    "Ceci est bien $2^3$, alors que:"
   ]
  },
  {
   "cell_type": "code",
   "execution_count": 20,
   "metadata": {},
   "outputs": [
    {
     "data": {
      "text/plain": [
       "9.0"
      ]
     },
     "execution_count": 20,
     "metadata": {},
     "output_type": "execute_result"
    }
   ],
   "source": [
    "Math.pow(3, 2)"
   ]
  },
  {
   "cell_type": "markdown",
   "metadata": {},
   "source": [
    "Ce résultat est maintenant $3^2$. "
   ]
  },
  {
   "cell_type": "markdown",
   "metadata": {},
   "source": [
    "Attention: ce qui importe est la *position* des arguments, et non pas leur *nom*: ici on a passé des valeurs littérales, mais si on devait passer des variables, ce sont leurs valeur qui sont passées:"
   ]
  },
  {
   "cell_type": "code",
   "execution_count": 21,
   "metadata": {},
   "outputs": [
    {
     "data": {
      "text/plain": [
       "8.0"
      ]
     },
     "execution_count": 21,
     "metadata": {},
     "output_type": "execute_result"
    }
   ],
   "source": [
    "double a = 3, b = 2;\n",
    "Math.pow(b, a)"
   ]
  },
  {
   "cell_type": "markdown",
   "metadata": {},
   "source": [
    "Ici on obtient le premier argument (b=2) élevé à la puissance du deuxième (a=3), et non pas $a^b$: les noms ```a``` et ```b``` utilisés dans la documentation ou dans la spécification d'une fonction n'ont aucune importance et aucun lien avec les noms qu'on utilise dans un programme. "
   ]
  },
  {
   "cell_type": "markdown",
   "metadata": {},
   "source": [
    "## ```println``` et ```printf``` revisités\n",
    "\n",
    "À la lumière de ce qu'on vient d'apprendre sur les fonctions, on peut revoir les fonctions ```print``` et ```printf```, qu'on utilise depuis quelques temps pour afficher des informations à l'écran.\n",
    "\n",
    "Voici quelques lignes de code qui utilisent ces deux fonctions, que l'on va ensuite commenter:"
   ]
  },
  {
   "cell_type": "code",
   "execution_count": 22,
   "metadata": {},
   "outputs": [],
   "source": [
    "int x = 57;\n",
    "double s = Math.sin(Math.toRadians(x));\n",
    "double c = Math.cos(Math.toRadians(x));"
   ]
  },
  {
   "cell_type": "code",
   "execution_count": 23,
   "metadata": {},
   "outputs": [
    {
     "name": "stdout",
     "output_type": "stream",
     "text": [
      "Le sinus d'un angle de 57 degrés vaut 0.838670567945424 et le cosinus de cet angle vaut 0.5446390350150271.\n"
     ]
    }
   ],
   "source": [
    "System.out.println(\"Le sinus d'un angle de \" + x + \" degrés vaut \"+ s+\" et le cosinus de cet angle vaut \"+c+\".\");"
   ]
  },
  {
   "cell_type": "code",
   "execution_count": 24,
   "metadata": {},
   "outputs": [
    {
     "name": "stdout",
     "output_type": "stream",
     "text": [
      "Le sinus d'un angle de 57 degrés vaut 0.839 et le cosinus de cet angle vaut 0.545."
     ]
    },
    {
     "data": {
      "text/plain": [
       "java.io.PrintStream@7c8e7c98"
      ]
     },
     "execution_count": 24,
     "metadata": {},
     "output_type": "execute_result"
    }
   ],
   "source": [
    "System.out.printf(\"Le sinus d'un angle de %d degrés vaut %.3f et le cosinus de cet angle vaut %.3f.\", x, s, c);"
   ]
  },
  {
   "cell_type": "markdown",
   "metadata": {},
   "source": [
    "#### Quelques remarques:\n",
    "\n",
    "* Combien d'arguments prend la fonction ```println```? \n",
    "\n",
    "Réponse: un seul. Le contenu des parenthèses est une *expression*, ce qui est équivalent à une seule valeur. Si on essayait de séparer le texte des variables par des virgules, on obtiendrait une erreur, parce que ```println``` prend un seul argument:"
   ]
  },
  {
   "cell_type": "code",
   "execution_count": 25,
   "metadata": {},
   "outputs": [
    {
     "ename": "CompilationException",
     "evalue": "",
     "output_type": "error",
     "traceback": [
      "\u001b[1m\u001b[30m|   \u001b[1m\u001b[30m\u001b[0m\u001b[1m\u001b[30m\u001b[41mSystem.out.println\u001b[0m\u001b[1m\u001b[30m(\"Le sinus d'un angle de \", x, \" degrés vaut \", s, \" et le cosinus de cet angle vaut \", c, \".\");\u001b[0m",
      "\u001b[1m\u001b[31mno suitable method found for println(java.lang.String,int,java.lang.String,double,java.lang.String,double,java.lang.String)\u001b[0m",
      "\u001b[1m\u001b[31m    method java.io.PrintStream.println() is not applicable\u001b[0m",
      "\u001b[1m\u001b[31m      (actual and formal argument lists differ in length)\u001b[0m",
      "\u001b[1m\u001b[31m    method java.io.PrintStream.println(boolean) is not applicable\u001b[0m",
      "\u001b[1m\u001b[31m      (actual and formal argument lists differ in length)\u001b[0m",
      "\u001b[1m\u001b[31m    method java.io.PrintStream.println(char) is not applicable\u001b[0m",
      "\u001b[1m\u001b[31m      (actual and formal argument lists differ in length)\u001b[0m",
      "\u001b[1m\u001b[31m    method java.io.PrintStream.println(int) is not applicable\u001b[0m",
      "\u001b[1m\u001b[31m      (actual and formal argument lists differ in length)\u001b[0m",
      "\u001b[1m\u001b[31m    method java.io.PrintStream.println(long) is not applicable\u001b[0m",
      "\u001b[1m\u001b[31m      (actual and formal argument lists differ in length)\u001b[0m",
      "\u001b[1m\u001b[31m    method java.io.PrintStream.println(float) is not applicable\u001b[0m",
      "\u001b[1m\u001b[31m      (actual and formal argument lists differ in length)\u001b[0m",
      "\u001b[1m\u001b[31m    method java.io.PrintStream.println(double) is not applicable\u001b[0m",
      "\u001b[1m\u001b[31m      (actual and formal argument lists differ in length)\u001b[0m",
      "\u001b[1m\u001b[31m    method java.io.PrintStream.println(char[]) is not applicable\u001b[0m",
      "\u001b[1m\u001b[31m      (actual and formal argument lists differ in length)\u001b[0m",
      "\u001b[1m\u001b[31m    method java.io.PrintStream.println(java.lang.String) is not applicable\u001b[0m",
      "\u001b[1m\u001b[31m      (actual and formal argument lists differ in length)\u001b[0m",
      "\u001b[1m\u001b[31m    method java.io.PrintStream.println(java.lang.Object) is not applicable\u001b[0m",
      "\u001b[1m\u001b[31m      (actual and formal argument lists differ in length)\u001b[0m",
      ""
     ]
    }
   ],
   "source": [
    "System.out.println(\"Le sinus d'un angle de \", x, \" degrés vaut \", s, \" et le cosinus de cet angle vaut \", c, \".\");"
   ]
  },
  {
   "cell_type": "markdown",
   "metadata": {},
   "source": [
    "En fait il existe plusieurs fonctions ```println```, une pour chaque type primitif (```boolean```, ```char```, ```double```, etc.), une pour ```String``` et une pour ```Object```. Les messages d'erreur nous disent qu'aucune des fonctions ```println``` possibles ne peut être utilisée avec cette liste d'arguments: Java essaye de faire correspondre les arguments de ce programme avec les listes de paramètres spécifiées pour chaque fonction: leur nombre et types doivent correspondre, ce qui n'est pas le cas ici (```actual and formal argument lists differ in length```). Les specifications de ces fonctions ```println``` indiquent toutes un seul paramètre / argument, alors qu'on en a passé ici 7: trois variables et quatre chaines de caractères.\n",
    "\n",
    "* Combien d'arguments prend la fonction ```printf```? \n",
    "\n",
    "Réponse: au moins deux. ```printf``` a la particularité d'accepter un nombre variable d'arguments, dont le premier doit toujours être un String, et les suivants doivent correspondre aux symboles ```%d``` et autres utilisés dans ce String. Dans ce cours on n'écrira pas de fonctions qui peuvent prendre un nombre variable d'arguments. On pourra, en revanche, définir plusieurs fonctions avec le même nom, chacune avec une liste fixe de paramètres formels.\n"
   ]
  },
  {
   "cell_type": "markdown",
   "metadata": {},
   "source": [
    "* Quelle est la valeur de retour de ```println```?  de ```printf```?\n",
    "\n",
    "Réponse: respectivement aucune, et un objet de type ```java.io.PrintStream``` qu'on n'utilise pas.\n",
    "\n",
    "Avec le mécanisme interactif JShell qu'on utilise ici, la valeur de retour est donnée par le  ```Out[]```:"
   ]
  },
  {
   "cell_type": "code",
   "execution_count": 26,
   "metadata": {},
   "outputs": [
    {
     "data": {
      "text/plain": [
       "2.0"
      ]
     },
     "execution_count": 26,
     "metadata": {},
     "output_type": "execute_result"
    }
   ],
   "source": [
    "Math.sqrt(4.0)"
   ]
  },
  {
   "cell_type": "code",
   "execution_count": 27,
   "metadata": {},
   "outputs": [
    {
     "name": "stdout",
     "output_type": "stream",
     "text": [
      "hello\n"
     ]
    }
   ],
   "source": [
    "System.out.println(\"hello\");"
   ]
  },
  {
   "cell_type": "code",
   "execution_count": 28,
   "metadata": {},
   "outputs": [
    {
     "name": "stdout",
     "output_type": "stream",
     "text": [
      "Pi vaut 3.142."
     ]
    },
    {
     "data": {
      "text/plain": [
       "java.io.PrintStream@7c8e7c98"
      ]
     },
     "execution_count": 28,
     "metadata": {},
     "output_type": "execute_result"
    }
   ],
   "source": [
    "System.out.printf(\"Pi vaut %.3f.\", 3.1415962);"
   ]
  },
  {
   "cell_type": "markdown",
   "metadata": {},
   "source": [
    "On constate que ```Math.sqrt``` nous renvoie la valeur attendue, ```printf``` semble nous retourner quelque chose qu'on ne reconnait pas (```java.io.PrintStream@2a3e64dc```), alors que   ```println``` ne retourne rien (il n'y a pas de ```Out[]``` correspondant au code). On dit parfois que ```println``` est une *procédure* plutôt qu'une fonction, parce qu'elle ne retourne rien. On reparlera des procédures quand on définira nos propres fonctions. Enfin, pour ce qui est de la valeur de retour de ```printf```, cette valeur est donnée pour des raisons techniques obscures (c'est la représentation par défaut d'un *objet*, on en reparlera dans un autre chapitre) mais on n'en a pas besoin: dans nos programmes on l'ignorera donc.\n",
    "\n",
    "En fait, on utilise ces fonctions non pas pour obtenir une *valeur de retour*, mais pour produire un effet extérieur au programme (de l'information à l'écran). Un tel effet est appelé un *effet de bord*: cette notion est importante lorsqu'on raisonne sur la sémantique des programmes, et on l'abordera dans le contexte de la programmation orientée objet. Notons qu'il est en général bien vu de minimiser les effets de bord, et que certains langages de programmation ne permettent pas d'effets de bord du tout.\n",
    "\n",
    "Enfin, remarquons déjà (on le reverra aussi en écrivant nos propres fonctions) que la valeur de retour et une information éventuellement affichée à l'écran sont des choses bien différentes: avec le mode \"calculatrice\" qu'est JShell, on voit simplement apparaître ces informations de manière similaire; ce n'est pas le cas dans un programme Java ordinaire."
   ]
  }
 ],
 "metadata": {
  "kernelspec": {
   "display_name": "Java",
   "language": "java",
   "name": "java"
  },
  "language_info": {
   "codemirror_mode": "java",
   "file_extension": ".jshell",
   "mimetype": "text/x-java-source",
   "name": "Java",
   "pygments_lexer": "java",
   "version": "14.0.1+7"
  }
 },
 "nbformat": 4,
 "nbformat_minor": 2
}
