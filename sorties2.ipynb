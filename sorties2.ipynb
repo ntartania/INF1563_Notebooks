{
 "cells": [
  {
   "cell_type": "markdown",
   "metadata": {},
   "source": [
    "# Affichage formaté: ```printf```\n",
    "\n",
    "Dans les exemples précédents on a construit des \"messages\" à afficher en concaténant des parties du texte avec des variables, et donnant des expressions un peu compliquées (peu lisibles dans les programmes). On a aussi affiché les nombres en utilisant leur repréesentation \"par défaut\", et pour les valeurs décimales, parfois ceci nous donnait un grand nombre de chiffres après la virgule. Ces chiffres encombrent parfois l'interface, et peuvent aussi ne pas tous être significatifs.\n",
    "\n",
    "Java, comme la majorité des langages, fournit une méethode spéciale d'affichage à l'écran, ```printf```, qui permet de faire un affichage \"formaté\": quand on utilise cette fonction, on donne d'abord le texte complet à afficher, avec des \"placeholder\" pour les valeurs, puis on donne, dans l'ordre, toutes les valeurs qui doivent apparaître dans le texte. On utilise des *codes de formatage* qui indiquent comment les valeurs doivent être affichées, notamment le nombre de chiffres après la virgule pour les nombres décimaux.\n",
    "\n",
    "#### Exemple\n",
    "On reprend notre programme de calcul de vitesse:"
   ]
  },
  {
   "cell_type": "code",
   "execution_count": 1,
   "metadata": {},
   "outputs": [
    {
     "name": "stdout",
     "output_type": "stream",
     "text": [
      "Entrez le temps du coureur (heures, puis minutes, puis secondes, séparées par des espaces)\n",
      "2 9 55\n",
      "La vitesse moyenne du coureur était de 19.487107119948686km/h\n"
     ]
    }
   ],
   "source": [
    "Scanner clavier = new Scanner(System.in);\n",
    "int heures, minutes, secondes;\n",
    "System.out.println(\"Entrez le temps du coureur (heures, puis minutes, puis secondes, séparées par des espaces)\");\n",
    "heures = clavier.nextInt();\n",
    "minutes = clavier.nextInt();\n",
    "secondes = clavier.nextInt();\n",
    "\n",
    "int tempsTotal = 3600 * heures + 60 * minutes + secondes;\n",
    "double vitesseMS = 42195.0 / tempsTotal;\n",
    "double vitesseKMH = vitesseMS * 3.6;\n",
    "\n",
    "System.out.println(\"La vitesse moyenne du coureur était de \"+ vitesseKMH + \"km/h\");"
   ]
  },
  {
   "cell_type": "markdown",
   "metadata": {},
   "source": [
    "Il y a bien trop de chiffres après la virgule. \n",
    "\n",
    "On peut modifier la dernière ligne du programme, et afficher le résultat avec seulement deux chiffres après la virgule:"
   ]
  },
  {
   "cell_type": "code",
   "execution_count": 2,
   "metadata": {},
   "outputs": [
    {
     "name": "stdout",
     "output_type": "stream",
     "text": [
      "La vitesse moyenne du coureur était de 19.49 km/h"
     ]
    },
    {
     "data": {
      "text/plain": [
       "java.io.PrintStream@3b6ad8c2"
      ]
     },
     "execution_count": 2,
     "metadata": {},
     "output_type": "execute_result"
    }
   ],
   "source": [
    "System.out.printf(\"La vitesse moyenne du coureur était de %.2f km/h\", vitesseKMH);"
   ]
  },
  {
   "cell_type": "markdown",
   "metadata": {},
   "source": [
    "Le résultat est maintenant nettement plus visible (on peut ignorer la sortie suivant le ```Out[]```).\n",
    "\n",
    "Ici on a donc utilisé la fonction ```printf``` de la sortie standard, et dans les parenthèses on a deux arguments:\n",
    "* le premier est le texte complet à afficher, avec le code de formatage ```%.2f``` à la place de la valeur de la vitesse.\n",
    "* le second est la valeur qui sera à insérer à la place du code.\n",
    "\n",
    "Les codes de formatage pour la fonction ```printf``` commencent tous par ```%```, et se terminent par une lettre qui indique si on doit afficher un mombre, une chaine de caractères, ou d'autres types de valeurs. Ici, le ```f``` (pour \"float\" ) signifie qu'on affiche une valeur à virgule flottante. L'indication ```.2``` indique qu'on veut deux chiffres après la virgule (enfin... le point!). \n",
    "\n",
    "Les principaux codes de formatage qu'on utilisera sont:\n",
    "* ```%s``` pour les variables String\n",
    "* ```%d``` pour les nombres entiers\n",
    "* ```%.0f```, ```%.1f```, ```%.2f```, ```%.3f```, etc. pour les décimaux, arrondis à l'unité, à un chiffre après la virgule, à deux chiffres, à 3 chiffres, etc.\n",
    "\n",
    "À noter que pour les arrondis, la valeur est bien arrondie correctement (et non pas tronquée comme dans le cas d'un cast ```(int)```)."
   ]
  },
  {
   "cell_type": "markdown",
   "metadata": {},
   "source": [
    "#### Exercice 7\n",
    "\n",
    "On donne une valeur approchée de pi. Utiliser ```printf``` pour afficher cette valeur avec 4 chiffres après la virgule, comme ceci:\n",
    "\n",
    "```Pi vaut environ 3.1416.```\n",
    "\n",
    "(voir ci-dessus pour le code de formatage)\n"
   ]
  },
  {
   "cell_type": "code",
   "execution_count": null,
   "metadata": {},
   "outputs": [],
   "source": [
    "double pi = 3.141592653589793;\n",
    "System.out.printf(     );"
   ]
  },
  {
   "cell_type": "markdown",
   "metadata": {},
   "source": [
    "## Valeurs multiples\n",
    "\n",
    "La fonction ```printf``` est particulièrement utile quand on a plusieurs valeurs à insérer dans un texte. Elle accepte un nombre variable d'arguments.\n",
    "\n",
    "Par exemple:"
   ]
  },
  {
   "cell_type": "code",
   "execution_count": 3,
   "metadata": {},
   "outputs": [
    {
     "name": "stdout",
     "output_type": "stream",
     "text": [
      "L'aire de ce triangle (de base 13.40cm et de hauteur 7.56cm) est de 50.65cm2."
     ]
    },
    {
     "data": {
      "text/plain": [
       "java.io.PrintStream@3b6ad8c2"
      ]
     },
     "execution_count": 3,
     "metadata": {},
     "output_type": "execute_result"
    }
   ],
   "source": [
    "double base = 13.4;\n",
    "double hauteur = 7.56;\n",
    "double aire = base * hauteur / 2;\n",
    "System.out.printf(\"L'aire de ce triangle (de base %.2fcm et de hauteur %.2fcm) est de %.2fcm2.\", base, hauteur, aire);"
   ]
  },
  {
   "cell_type": "markdown",
   "metadata": {},
   "source": [
    "Remarquer que la fonction printf prend ici 4 arguments: le string (texte à afficher) plus les trois variables contenant les valeurs numériques à intégrer. Comme il y a trois valeurs à intégrer dans le texte, le string contient trois codes de formatage.\n",
    "\n",
    "On peut aussi afficher des valeurs de différents types dans un seul ```printf```:"
   ]
  },
  {
   "cell_type": "code",
   "execution_count": 7,
   "metadata": {},
   "outputs": [
    {
     "name": "stdout",
     "output_type": "stream",
     "text": [
      "Je suis un mouton, j'ai 4 pattes et je mesure environ 1.10m au garrot."
     ]
    },
    {
     "data": {
      "text/plain": [
       "java.io.PrintStream@3b6ad8c2"
      ]
     },
     "execution_count": 7,
     "metadata": {},
     "output_type": "execute_result"
    }
   ],
   "source": [
    "String animal = \"mouton\";\n",
    "int pattes = 4;\n",
    "double taille = 1.1;\n",
    "System.out.printf(\"Je suis un %s, j'ai %d pattes et je mesure environ %.2fm au garrot.\", animal, pattes, taille);"
   ]
  },
  {
   "cell_type": "markdown",
   "metadata": {},
   "source": [
    "#### Exercice 8\n",
    "On utilise les valeurs ci-dessous pour des variables ```a```, ```b```, et ```c```:"
   ]
  },
  {
   "cell_type": "code",
   "execution_count": 16,
   "metadata": {},
   "outputs": [],
   "source": [
    "double a = 3.5, b = 1.75, c = 7.0;"
   ]
  },
  {
   "cell_type": "markdown",
   "metadata": {},
   "source": [
    "Compléter les fonctions ```printf``` pour obtenir l'affichage indiqué:\n",
    "\n",
    "(1) ```Je divise 7.0 par deux et j'obtiens 3.5, en divisant encore par deux j'obtiens 1.75.```"
   ]
  },
  {
   "cell_type": "code",
   "execution_count": 13,
   "metadata": {},
   "outputs": [],
   "source": [
    "System.out.printf(\"Je divise %.1f par deux et j'obtiens %.1f, en divisant encore par deux j'obtiens %.2f.\",     );"
   ]
  },
  {
   "cell_type": "markdown",
   "metadata": {},
   "source": [
    "(2) ```Le quart de 7 vaut très précisément 1.750.```"
   ]
  },
  {
   "cell_type": "code",
   "execution_count": 14,
   "metadata": {},
   "outputs": [],
   "source": [
    "System.out.printf(\"Le quart .... \", c, b);"
   ]
  },
  {
   "cell_type": "markdown",
   "metadata": {},
   "source": [
    "(3) ```Les nombres 7, 7.0 et 7.00 sont en fait égaux.```"
   ]
  },
  {
   "cell_type": "code",
   "execution_count": 18,
   "metadata": {},
   "outputs": [],
   "source": [
    "System.out.printf(\"Les nombres %.0f, ...\", ...);"
   ]
  },
  {
   "cell_type": "markdown",
   "metadata": {},
   "source": [
    "Dans les exemples précédents, les arguments \"valeurs\" de ```printf``` étaient toujours des variables. En fait, à l'exécution cette variable est simplement remplacée par sa valeur: on peut donc mettre ici n'importe quelle expression qui sera ensuite remplacée par une valeur du type approprié.\n",
    "\n",
    "Exemple:"
   ]
  },
  {
   "cell_type": "code",
   "execution_count": 11,
   "metadata": {},
   "outputs": [
    {
     "name": "stdout",
     "output_type": "stream",
     "text": [
      "37 divisé par 5 donne 7 et il reste 2."
     ]
    },
    {
     "data": {
      "text/plain": [
       "java.io.PrintStream@3b6ad8c2"
      ]
     },
     "execution_count": 11,
     "metadata": {},
     "output_type": "execute_result"
    }
   ],
   "source": [
    "int nombre = 37;\n",
    "System.out.printf(\"%d divisé par %d donne %d et il reste %d.\", nombre, 5, nombre / 5, nombre % 5);"
   ]
  },
  {
   "cell_type": "markdown",
   "metadata": {},
   "source": [
    "## Caractères spéciaux\n",
    "\n",
    "Dans un texte affiché avec ```printf```, on peut insérer des caractères spéciaux (e.g. retours à la ligne).\n",
    "\n",
    "* Pour les retours à la ligne on peut utiliser ```\\n``` comme dans n'importe quel String, ou bien le code ```%n``` (spécifique à ```printf```). \n",
    "* Dabs le contexte spécifique du ```printf```, le symbole ```%``` est un caractère spécial (il introduit les codes de formatage). Si on veut afficher un pourcentage il faut le précéder d'un autre ```%```.\n",
    "* Pour les autres caractères spéciaux (```\"```,```\\```) il faut placer le ```\\``` avant (on obtient donc ```\\\"``` et ```\\\\```).\n",
    "\n",
    "Exemple:"
   ]
  },
  {
   "cell_type": "code",
   "execution_count": 4,
   "metadata": {},
   "outputs": [
    {
     "name": "stdout",
     "output_type": "stream",
     "text": [
      "La \n",
      "\"TVQ\"\n",
      "est \n",
      "d'environ \n",
      "15%."
     ]
    },
    {
     "data": {
      "text/plain": [
       "java.io.PrintStream@3b6ad8c2"
      ]
     },
     "execution_count": 4,
     "metadata": {},
     "output_type": "execute_result"
    }
   ],
   "source": [
    "System.out.printf(\"La \\n\\\"TVQ\\\"%nest %nd'environ %n%.0f%%.\", 14.975);"
   ]
  },
  {
   "cell_type": "markdown",
   "metadata": {},
   "source": [
    "#### Exercice 9\n",
    "\n",
    "On donne les valeurs des variables v1, v2, v3. Modifier le string pour que le ```printf``` donne le résultat ci-dessous:\n",
    "```\n",
    "Le prix de base de l'essence est de 1.124/L.\n",
    "Les taxes sont de 14.975%.\n",
    "Au total on paye $1.27/L.\n",
    "```"
   ]
  },
  {
   "cell_type": "code",
   "execution_count": 12,
   "metadata": {},
   "outputs": [],
   "source": [
    "double v1 = 1.124; \n",
    "double v2 = 14.975;\n",
    "double v3 =  v1 * 1+(v2/100);\n",
    "System.out.printf(\"        ...        \", v1, v2, v3);"
   ]
  }
 ],
 "metadata": {
  "kernelspec": {
   "display_name": "Java",
   "language": "java",
   "name": "java"
  },
  "language_info": {
   "codemirror_mode": "java",
   "file_extension": ".jshell",
   "mimetype": "text/x-java-source",
   "name": "Java",
   "pygments_lexer": "java",
   "version": "14.0.1+7"
  }
 },
 "nbformat": 4,
 "nbformat_minor": 2
}
