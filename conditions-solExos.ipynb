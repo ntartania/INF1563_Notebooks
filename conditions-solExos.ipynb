{
 "cells": [
  {
   "cell_type": "markdown",
   "metadata": {},
   "source": [
    "# Instructions Conditionnelles: solutions aux exercices"
   ]
  },
  {
   "cell_type": "markdown",
   "metadata": {},
   "source": [
    "#### Exercice 1\n",
    "\n",
    "Le code suivant permet à l'utilisateur d'entrer deux nombres. Ajouter une instruction conditionnelle ```if``` pour que le programme affiche ensuite **le plus grand des deux nombres**."
   ]
  },
  {
   "cell_type": "code",
   "execution_count": 2,
   "metadata": {},
   "outputs": [
    {
     "name": "stdout",
     "output_type": "stream",
     "text": [
      "Entrer deux nombres séparés d'un espace:\n",
      "32 -5\n",
      "Le plus grand des deux nombres est: 32.0\n"
     ]
    }
   ],
   "source": [
    "import java.util.Scanner;\n",
    "Scanner clavier = new Scanner(System.in);\n",
    "\n",
    "System.out.println(\"Entrer deux nombres séparés d'un espace:\");\n",
    "double n1 = clavier.nextDouble();\n",
    "double n2 = clavier.nextDouble();\n",
    "double max = 0;\n",
    "\n",
    "if (n1>n2){\n",
    "    max = n1;\n",
    "} else {\n",
    "    max = n2;\n",
    "}\n",
    "\n",
    "System.out.println(\"Le plus grand des deux nombres est: \" + max);\n"
   ]
  },
  {
   "cell_type": "markdown",
   "metadata": {},
   "source": [
    "#### Exercice 2\n",
    "\n",
    "Supposons qu'un autobus passe toutes les heures dans une certaine rue, 12 minutes après l'heure: 0h12, 1h12, 2h12, etc. \n",
    "\n",
    "Modifier le programme ci-dessous qui demande l'heure à l'utilisateur, puis affiche le nombre de minutes à attendre pour l'autobus.\n",
    "\n",
    "Indication: le calcul est différent selon si il est plus ou moins de 12 minutes après l'heure. "
   ]
  },
  {
   "cell_type": "code",
   "execution_count": 3,
   "metadata": {},
   "outputs": [
    {
     "name": "stdout",
     "output_type": "stream",
     "text": [
      "Quelle heure est-il? (heures puis minutes)\n",
      "16 17\n",
      "L'autobus arrive dans 55 minutes."
     ]
    },
    {
     "data": {
      "text/plain": [
       "java.io.PrintStream@67d84ce2"
      ]
     },
     "execution_count": 3,
     "metadata": {},
     "output_type": "execute_result"
    }
   ],
   "source": [
    "System.out.println(\"Quelle heure est-il? (heures puis minutes)\");\n",
    "int heures = clavier.nextInt();\n",
    "int minutes = clavier.nextInt();\n",
    "int temps = 0;\n",
    "if (minutes>12){\n",
    "    temps = 72 - minutes;\n",
    "} else {\n",
    "    temps = 12 - minutes;\n",
    "}\n",
    "System.out.printf(\"L'autobus arrive dans %d minutes.\", temps);"
   ]
  },
  {
   "cell_type": "markdown",
   "metadata": {},
   "source": [
    "#### Exercice 3"
   ]
  },
  {
   "cell_type": "code",
   "execution_count": null,
   "metadata": {},
   "outputs": [],
   "source": [
    "System.out.println(\"Entrer un nombre:\");\n",
    "double nombre = clavier.nextDouble();\n",
    "\n",
    "if (nombre >=0){\n",
    "    absolue = nombre;\n",
    "} else {\n",
    "    absolue = - nombre;\n",
    "}\n",
    "\n",
    "System.out.println(\"La valeur absolue du nombre est: \" + absolue);"
   ]
  },
  {
   "cell_type": "markdown",
   "metadata": {},
   "source": [
    "Ici le code est incomplet: la variable absolue n'a pas été déclarée. La question est: où la déclarer pour que le programme fonctionne correctement?\n",
    "\n",
    "Réponse:  \n",
    "**(a) ligne 3**  \n",
    "<s>(b) ligne 5</s>  \n",
    "<s>(c) ligne 5 et ligne 7</s>"
   ]
  },
  {
   "cell_type": "code",
   "execution_count": 4,
   "metadata": {},
   "outputs": [
    {
     "name": "stdout",
     "output_type": "stream",
     "text": [
      "Entrer un nombre:\n",
      "-12.12\n",
      "La valeur absolue du nombre est: 12.12\n"
     ]
    }
   ],
   "source": [
    "System.out.println(\"Entrer un nombre:\");\n",
    "double nombre = clavier.nextDouble();\n",
    "double absolue;\n",
    "if (nombre >=0){\n",
    "    absolue = nombre;\n",
    "} else {\n",
    "    absolue = - nombre;\n",
    "}\n",
    "\n",
    "System.out.println(\"La valeur absolue du nombre est: \" + absolue);"
   ]
  }
 ],
 "metadata": {
  "kernelspec": {
   "display_name": "Java",
   "language": "java",
   "name": "java"
  },
  "language_info": {
   "codemirror_mode": "java",
   "file_extension": ".jshell",
   "mimetype": "text/x-java-source",
   "name": "Java",
   "pygments_lexer": "java",
   "version": "14.0.1+7"
  }
 },
 "nbformat": 4,
 "nbformat_minor": 2
}
