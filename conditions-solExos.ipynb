{
 "cells": [
  {
   "cell_type": "markdown",
   "metadata": {},
   "source": [
    "# Instructions Conditionnelles: solutions aux exercices"
   ]
  },
  {
   "cell_type": "markdown",
   "metadata": {},
   "source": [
    "#### Exercice 1\n",
    "\n",
    "Le code suivant permet à l'utilisateur d'entrer deux nombres. Ajouter une instruction conditionnelle ```if``` pour que le programme affiche ensuite **le plus grand des deux nombres**."
   ]
  },
  {
   "cell_type": "code",
   "execution_count": 2,
   "metadata": {},
   "outputs": [
    {
     "name": "stdout",
     "output_type": "stream",
     "text": [
      "Entrer deux nombres séparés d'un espace:\n",
      "32 -5\n",
      "Le plus grand des deux nombres est: 32.0\n"
     ]
    }
   ],
   "source": [
    "import java.util.Scanner;\n",
    "Scanner clavier = new Scanner(System.in);\n",
    "\n",
    "System.out.println(\"Entrer deux nombres séparés d'un espace:\");\n",
    "double n1 = clavier.nextDouble();\n",
    "double n2 = clavier.nextDouble();\n",
    "double max = 0;\n",
    "\n",
    "if (n1>n2){\n",
    "    max = n1;\n",
    "} else {\n",
    "    max = n2;\n",
    "}\n",
    "\n",
    "System.out.println(\"Le plus grand des deux nombres est: \" + max);\n"
   ]
  },
  {
   "cell_type": "markdown",
   "metadata": {},
   "source": [
    "#### Exercice 2\n",
    "\n",
    "Supposons qu'un autobus passe toutes les heures dans une certaine rue, 12 minutes après l'heure: 0h12, 1h12, 2h12, etc. \n",
    "\n",
    "Modifier le programme ci-dessous qui demande l'heure à l'utilisateur, puis affiche le nombre de minutes à attendre pour l'autobus.\n",
    "\n",
    "Indication: le calcul est différent selon si il est plus ou moins de 12 minutes après l'heure. "
   ]
  },
  {
   "cell_type": "code",
   "execution_count": 3,
   "metadata": {},
   "outputs": [
    {
     "name": "stdout",
     "output_type": "stream",
     "text": [
      "Quelle heure est-il? (heures puis minutes)\n",
      "16 17\n",
      "L'autobus arrive dans 55 minutes."
     ]
    },
    {
     "data": {
      "text/plain": [
       "java.io.PrintStream@67d84ce2"
      ]
     },
     "execution_count": 3,
     "metadata": {},
     "output_type": "execute_result"
    }
   ],
   "source": [
    "System.out.println(\"Quelle heure est-il? (heures puis minutes)\");\n",
    "int heures = clavier.nextInt();\n",
    "int minutes = clavier.nextInt();\n",
    "int temps = 0;\n",
    "if (minutes>12){\n",
    "    temps = 72 - minutes;\n",
    "} else {\n",
    "    temps = 12 - minutes;\n",
    "}\n",
    "System.out.printf(\"L'autobus arrive dans %d minutes.\", temps);"
   ]
  },
  {
   "cell_type": "markdown",
   "metadata": {},
   "source": [
    "#### Exercice 3"
   ]
  },
  {
   "cell_type": "code",
   "execution_count": null,
   "metadata": {},
   "outputs": [],
   "source": [
    "System.out.println(\"Entrer un nombre:\");\n",
    "double nombre = clavier.nextDouble();\n",
    "\n",
    "if (nombre >=0){\n",
    "    absolue = nombre;\n",
    "} else {\n",
    "    absolue = - nombre;\n",
    "}\n",
    "\n",
    "System.out.println(\"La valeur absolue du nombre est: \" + absolue);"
   ]
  },
  {
   "cell_type": "markdown",
   "metadata": {},
   "source": [
    "Ici le code est incomplet: la variable absolue n'a pas été déclarée. La question est: où la déclarer pour que le programme fonctionne correctement?\n",
    "\n",
    "Réponse:  \n",
    "**(a) ligne 3**  \n",
    "<s>(b) ligne 5</s>  \n",
    "<s>(c) ligne 5 et ligne 7</s>"
   ]
  },
  {
   "cell_type": "code",
   "execution_count": 4,
   "metadata": {},
   "outputs": [
    {
     "name": "stdout",
     "output_type": "stream",
     "text": [
      "Entrer un nombre:\n",
      "-12.12\n",
      "La valeur absolue du nombre est: 12.12\n"
     ]
    }
   ],
   "source": [
    "System.out.println(\"Entrer un nombre:\");\n",
    "double nombre = clavier.nextDouble();\n",
    "double absolue;\n",
    "if (nombre >=0){\n",
    "    absolue = nombre;\n",
    "} else {\n",
    "    absolue = - nombre;\n",
    "}\n",
    "\n",
    "System.out.println(\"La valeur absolue du nombre est: \" + absolue);"
   ]
  },
  {
   "cell_type": "markdown",
   "metadata": {},
   "source": [
    "#### Exercice 4\n",
    "\n",
    "On souhaite diagnostiquer le risque lié à l'obésité selon le sexe et le tour de taille d'un patient.\n",
    "On a deux variables: ```sexe```: 'M' ou 'F' et ```tourDeTaille```: le tour de taille en cm.\n",
    "\n",
    "Le diagnostic est le suivant: pour un homme, on déclare la personne à risque si son tour de taille dépasse 102cm, et pour une femme, la limite est de 88cm.\n",
    "\n",
    "**Modifier** le programme suivant pour afficher l'un des deux messages \"Le patient est à risque\" ou \"Le patient n'est pas à risque\" selon son sexe et son tour de taille. Tel qu'il est, il diagnostique tous les hommes comme étant à risque.\n",
    "\n",
    "**Indication:** utiliser des ```if``` imbriqués: un ```if-else``` portant sur le sexe, et à l'intérieur de chaque bloc un nouveau ```if``` portant sur le tour de taille."
   ]
  },
  {
   "cell_type": "code",
   "execution_count": 7,
   "metadata": {},
   "outputs": [
    {
     "name": "stdout",
     "output_type": "stream",
     "text": [
      "Entrez le sexe (M ou F) du patient suivi de son tour de taille en cm:\n",
      "F 98\n",
      "La patiente est à risque\n"
     ]
    }
   ],
   "source": [
    "System.out.println(\"Entrez le sexe (M ou F) du patient suivi de son tour de taille en cm:\");\n",
    "char sexe = clavier.next().charAt(0); //cet appel de fonction renvoie le premier caractère du String lu au clavier\n",
    "int tourDeTaille = clavier.nextInt();\n",
    "\n",
    "if (sexe=='M'){     //------- hommes\n",
    "    if(tourDeTaille > 102){\n",
    "        System.out.println(\"Le patient est à risque\");\n",
    "    } else {\n",
    "        System.out.println(\"Le patient n'est pas à risque\");\n",
    "    }\n",
    "} else {            //------- femmes\n",
    "    if(tourDeTaille > 88){\n",
    "        System.out.println(\"La patiente est à risque\");\n",
    "    } else {\n",
    "        System.out.println(\"La patiente n'est pas à risque\");\n",
    "    }\n",
    "\n",
    "}\n"
   ]
  },
  {
   "cell_type": "markdown",
   "metadata": {},
   "source": [
    "#### Exercice 5\n",
    "\n",
    "Dans le programme suivant, l'utilisateur entre la température d'une eau de baignade, en degrés Celcius. Si cette température est inférieure à 0, le programme affiche un message \"l'eau est gelée!\". \n",
    "\n",
    "**Compléter le programme** pour afficher des messages différents selon la température. Si la température est entre 0 et 12, afficher un message \"l'eau est trop froide\", si elle est entre 12 et 20, afficher \"prenez votre combinaison pour vous baigner\", et enfin si la température est au-dessus de 20, afficher \"tous à l'eau!\"."
   ]
  },
  {
   "cell_type": "code",
   "execution_count": 5,
   "metadata": {},
   "outputs": [
    {
     "name": "stdout",
     "output_type": "stream",
     "text": [
      "Entrez la température de l'eau:\n",
      "17\n",
      "Prenez votre combinaison pour vous baigner.\n"
     ]
    }
   ],
   "source": [
    "System.out.println(\"Entrez la température de l'eau:\");\n",
    "int temperature = clavier.nextInt();\n",
    "\n",
    "if (temperature < 0){\n",
    "    System.out.println(\"L'eau est gelée\");\n",
    "} else if (temperature < 12) {\n",
    "    System.out.println(\"L'eau est trop froide.\");\n",
    "} else if (temperature < 20) {\n",
    "    System.out.println(\"Prenez votre combinaison pour vous baigner.\");\n",
    "} else {\n",
    "    System.out.println(\"Tous à l'eau !\");\n",
    "}"
   ]
  },
  {
   "cell_type": "markdown",
   "metadata": {},
   "source": [
    "Remarques:\n",
    "* l'énoncé ne précise pas suffisamment clairement les intervalles pour choisir entre inégalités structes et larges\n",
    "* chaque condition dans l'énoncé spécifie un intervalle, mais comme on est chaque fois dans le ```else``` du ```if``` précédent, on n'a pas besoin de spécifier le minimum de l'intervalle (par exemple pour l'intervalle 12 - 20 on spécifie seulement t < 20, parce que t >=12 est obtenu par le else précédent (t < 12 est faux)\n",
    "* le ```else``` final recouvre toutes les températures possibles qui ne rentre dans aucun des cas précédents"
   ]
  },
  {
   "cell_type": "markdown",
   "metadata": {},
   "source": [
    "#### Exercice 6 \n",
    "\n",
    "Dans le programme suivant, on a deux variables entières ```x``` et ```y```. Modifier les instructions conditionnelles avec des expressions booléennes correspondant aux conditions suivantes:\n",
    "1. ```x``` vaut 3 ou 5.\n",
    "2. ```x``` est négatif, ou bien ```x``` est égal à ```y```, mais pas les deux.\n",
    "3. ```y``` ne vaut ni ```x```, ni ```-x```.\n",
    "3. ```x``` est le maximum des trois nombres ```0```, ```x```, ```y```.\n",
    "3. Le point de coordonnées ```(x, y)``` (en pixels) se trouve dans les limites d'une fenêtre graphique de taille 800 pixels (horizontalement) par 600 pixels (verticalement).\n",
    "4. Le point de coordonnées ```(x, y)``` (en pixels) se trouve dans un rectangle de 100 pixels par 100 pixels en haut et au milieu (centré horizontalement) de l'écran. L'origine (0, 0) des coordonnées est le coin supérieur gauche de l'écran, et ```x``` augmente vers la droite alors que ```y``` augmente vers le bas."
   ]
  },
  {
   "cell_type": "code",
   "execution_count": 9,
   "metadata": {},
   "outputs": [
    {
     "name": "stdout",
     "output_type": "stream",
     "text": [
      "Entrer x, suivi d'un espace puis y\n",
      "-5 56\n",
      "La condition 1 est fausse.\n",
      "La condition 2 est vraie.\n",
      "La condition 3 est vraie.\n",
      "La condition 4 est fausse.\n",
      "La condition 5 est fausse.\n",
      "La condition 6 est fausse.\n"
     ]
    }
   ],
   "source": [
    "System.out.println(\"Entrer x, suivi d'un espace puis y\");\n",
    "int x = clavier.nextInt();\n",
    "int y = clavier.nextInt();\n",
    "\n",
    "if ( x==3 || x==5 ){ // condition 1\n",
    "    System.out.println(\"La condition 1 est vraie.\");\n",
    "} else {\n",
    "    System.out.println(\"La condition 1 est fausse.\");\n",
    "}\n",
    "\n",
    "if ( (x<0 && x!=y) || (x>=0 && x==y) ){ // condition 2\n",
    "    System.out.println(\"La condition 2 est vraie.\");\n",
    "} else {\n",
    "    System.out.println(\"La condition 2 est fausse.\");\n",
    "}\n",
    "\n",
    "if ( x!=y && y!=-x ){ // condition 3\n",
    "    System.out.println(\"La condition 3 est vraie.\");\n",
    "} else {\n",
    "    System.out.println(\"La condition 3 est fausse.\");\n",
    "}\n",
    "\n",
    "if ( x>0 && x>y ){ // condition 4\n",
    "    System.out.println(\"La condition 4 est vraie.\");\n",
    "} else {\n",
    "    System.out.println(\"La condition 4 est fausse.\");\n",
    "}\n",
    "\n",
    "if ( x>=0 && x<=800 && y>=0 && y<=600 ){ // condition 5\n",
    "    System.out.println(\"La condition 5 est vraie.\");\n",
    "} else {\n",
    "    System.out.println(\"La condition 5 est fausse.\");\n",
    "}\n",
    "\n",
    "if ( y>=0 && y<=100 && x>=350 && x<=450 ){ // condition 6\n",
    "    System.out.println(\"La condition 6 est vraie.\");\n",
    "} else {\n",
    "    System.out.println(\"La condition 6 est fausse.\");\n",
    "}\n"
   ]
  },
  {
   "cell_type": "markdown",
   "metadata": {},
   "source": [
    "#### Exercice 7\n",
    "\n",
    "Donner les valeurs de l'expression booléenne suivante, selon les valeurs de ```x``` et ```y``` données dans le tableau (la première ligne est donnée):\n",
    "\n",
    "Expression:\n",
    "```\n",
    "((x % 10 ==0) || (y%10 == 0)) && (x + y > 100)\n",
    "```\n",
    "| ```x```     | ```y``` | Expression|\n",
    "| ----------- | ------- | ----      |\n",
    "|     100     | 100    |  ```true``` |\n",
    "|     41      | 100    |   ```true```|\n",
    "|     10      | 10     |   ```false```|\n",
    "|     66      | 72     |   ```false```|\n"
   ]
  }
 ],
 "metadata": {
  "kernelspec": {
   "display_name": "Java",
   "language": "java",
   "name": "java"
  },
  "language_info": {
   "codemirror_mode": "java",
   "file_extension": ".jshell",
   "mimetype": "text/x-java-source",
   "name": "Java",
   "pygments_lexer": "java",
   "version": "14.0.1+7"
  }
 },
 "nbformat": 4,
 "nbformat_minor": 2
}
