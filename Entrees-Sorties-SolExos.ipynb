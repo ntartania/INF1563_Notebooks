{
 "cells": [
  {
   "cell_type": "markdown",
   "metadata": {},
   "source": [
    "# Entrées et sorties: Solutions des exercices"
   ]
  },
  {
   "cell_type": "markdown",
   "metadata": {},
   "source": [
    "#### Exercice 1\n",
    "\n",
    "Ajouter des instructions ```print``` ou ```println``` pour afficher la bannière suivante:\n",
    "\n",
    "```\n",
    "-----------------------------\n",
    "***** VIVE LE KETCHUP ! *****\n",
    "-----------------------------\n",
    "```"
   ]
  },
  {
   "cell_type": "code",
   "execution_count": 1,
   "metadata": {},
   "outputs": [
    {
     "name": "stdout",
     "output_type": "stream",
     "text": [
      "-----------------------------\n",
      "***** VIVE LE KETCHUP ! *****\n",
      "-----------------------------\n"
     ]
    }
   ],
   "source": [
    "System.out.println(\"-----------------------------\");\n",
    "System.out.print(\"***** \");\n",
    "System.out.print(\"VIVE LE KETCHUP !\");\n",
    "System.out.println(\" *****\");\n",
    "System.out.println(\"-----------------------------\");"
   ]
  },
  {
   "cell_type": "markdown",
   "metadata": {},
   "source": [
    "#### Exercice 2\n",
    "\n",
    "On donne les variables ```pommes``` et ```bananes```. Écrire une instruction ```println``` qui affiche le texte suivant:\n",
    "```\n",
    "J'ai 3 pommes et 2 bananes.\n",
    "```\n",
    "L'instruction doit utiliser les variables données."
   ]
  },
  {
   "cell_type": "code",
   "execution_count": 2,
   "metadata": {},
   "outputs": [
    {
     "name": "stdout",
     "output_type": "stream",
     "text": [
      "J'ai 3 pommes et 2 bananes\n"
     ]
    }
   ],
   "source": [
    "int pommes =3, bananes = 2;\n",
    "System.out.println(\"J'ai \"+pommes+ \" pommes et \"+ bananes+ \" bananes\");"
   ]
  },
  {
   "cell_type": "markdown",
   "metadata": {},
   "source": [
    "### Exercices sur l'entrée standard\n",
    "\n",
    "\\[Pour tous les exercices, on aura besoin d'un objet Scanner:\\]"
   ]
  },
  {
   "cell_type": "code",
   "execution_count": 3,
   "metadata": {},
   "outputs": [],
   "source": [
    "import java.util.Scanner;\n",
    "Scanner clavier = new Scanner(System.in);"
   ]
  },
  {
   "cell_type": "markdown",
   "metadata": {},
   "source": [
    "#### Exercice 3\n",
    "\n",
    "Compléter le programme ci-dessous pour demander à l'utilisateur deux sortes de fruits, et les stocker dans les variables ```fruit1``` et ```fruit2```. Afficher ensuite le texte:\n",
    "``` \n",
    "J'ai 2 pommes et 3 bananes.\n",
    "``` \n",
    "En remplaçant *pomme* et *banane* par les fruits donnés par l'utilisateur."
   ]
  },
  {
   "cell_type": "code",
   "execution_count": 4,
   "metadata": {},
   "outputs": [
    {
     "name": "stdout",
     "output_type": "stream",
     "text": [
      "Donner une sorte de fruit:\n",
      "fraise\n",
      "Donner une autre sorte de fruit:\n",
      "kiwi\n",
      "J'ai 2 fraises et 3 kiwis.\n"
     ]
    }
   ],
   "source": [
    "String fruit1, fruit2;\n",
    "System.out.println(\"Donner une sorte de fruit:\");\n",
    "String fruit1 = clavier.next();\n",
    "System.out.println(\"Donner une autre sorte de fruit:\");\n",
    "String fruit2 = clavier.next();\n",
    "System.out.println(\"J'ai 2 \" + fruit1 + \"s et 3 \"+fruit2+ \"s.\");"
   ]
  },
  {
   "cell_type": "markdown",
   "metadata": {},
   "source": [
    "#### Exercice 4\n",
    "Écrire un programme qui demande à l'utilisateur d'entrer son prénom suivi de son nom (en une seule fois), puis qui affiche \"Identité: Nom, Prénom\".\n",
    "\n",
    "Exemple:\n",
    "```\n",
    "Entrez votre prénom et votre nom:\n",
    "Ada Lovelace\n",
    "Identité: Lovelace, Ada\n",
    "```"
   ]
  },
  {
   "cell_type": "code",
   "execution_count": 5,
   "metadata": {},
   "outputs": [
    {
     "name": "stdout",
     "output_type": "stream",
     "text": [
      "Entrez votre prénom et votre nom:\n",
      "Albert Einstein\n",
      "Identité: Einstein, Albert\n"
     ]
    }
   ],
   "source": [
    "System.out.println(\"Entrez votre prénom et votre nom:\");\n",
    "String prenom = clavier.next();\n",
    "String nom = clavier.next();\n",
    "System.out.println(\"Identité: \"+ nom + \", \"+prenom);"
   ]
  },
  {
   "cell_type": "markdown",
   "metadata": {},
   "source": [
    "#### Exercice 5\n",
    "Compléter le programme ci-dessous, qui demande à l'utilisateur d'entrer son poids en kg, puis sa taille en m, et enfin calcule le BMI (*body mass index*, indice de poids corporel: poids divisé par la taille au carré) de la personne et l'affiche à l'écran.\n",
    "\n",
    "Exemple:\n",
    "```\n",
    "Entrez votre poids (en kg): \n",
    "72 \n",
    "Entrez votre taille (en m):\n",
    "1.68\n",
    "Votre BMI est de 25.510204\n",
    "\n",
    "```\n",
    "\n",
    "Remarque: pour élever un nombre au carré, le plus simple est de le multiplier par lui-même."
   ]
  },
  {
   "cell_type": "code",
   "execution_count": 6,
   "metadata": {},
   "outputs": [
    {
     "name": "stdout",
     "output_type": "stream",
     "text": [
      "Entrez votre poids (en kg):\n",
      "49\n",
      "Entrez votre taille (en m):\n",
      "1.59\n",
      "Votre BMI est de 19.382144693643447\n"
     ]
    }
   ],
   "source": [
    "int poids;\n",
    "double taille;\n",
    "double bmi;\n",
    "System.out.println(\"Entrez votre poids (en kg):\");\n",
    "poids = clavier.nextInt();\n",
    "System.out.println(\"Entrez votre taille (en m):\");\n",
    "taille = clavier.nextDouble();\n",
    "\n",
    "double bmi = poids / (taille*taille);\n",
    "System.out.println(\"Votre BMI est de \"+ bmi);"
   ]
  },
  {
   "cell_type": "markdown",
   "metadata": {},
   "source": [
    "#### Exercice 6\n",
    "\n",
    "Écrire un programme qui lit une longueur donnée en pieds et pouces et la convertit en mètres.\n",
    "L'interaction doit suivre l'exemple ci-dessous:\n",
    "\n",
    "```\n",
    "Entrez la longueur en pieds et pouces (nombre de pieds suivi d'un espace puis nombre de pouces):\n",
    "7 3\n",
    "Ceci équivaut à 2.2098 m.\n",
    "```\n",
    "\n",
    "Note: un pied mesure 30.48 cm, un pouce mesure 2.54 cm. "
   ]
  },
  {
   "cell_type": "code",
   "execution_count": 7,
   "metadata": {},
   "outputs": [
    {
     "name": "stdout",
     "output_type": "stream",
     "text": [
      "Entrez la longueur en pieds et pouces (nombre de pieds suivi d'un espace puis nombre de pouces):\n",
      "8 2\n",
      "Ceci équivaut à 2.4892000000000003 m\n"
     ]
    }
   ],
   "source": [
    "int pieds, pouces;\n",
    "double metres;\n",
    "\n",
    "System.out.println(\"Entrez la longueur en pieds et pouces (nombre de pieds suivi d'un espace puis nombre de pouces):\");\n",
    "pieds = clavier.nextInt();\n",
    "pouces = clavier.nextInt();\n",
    "metres = 0.3048*pieds + 0.0254*pouces;\n",
    "System.out.println(\"Ceci équivaut à \" + metres+\" m\");"
   ]
  },
  {
   "cell_type": "markdown",
   "metadata": {},
   "source": [
    "#### Exercice 7\n",
    "\n",
    "On donne une valeur approchée de pi. Utiliser ```printf``` pour afficher cette valeur avec 4 chiffres après la virgule, comme ceci:\n",
    "\n",
    "```Pi vaut environ 3.1416.```\n",
    "\n",
    "(voir ci-dessus pour le code de formatage)\n"
   ]
  },
  {
   "cell_type": "code",
   "execution_count": 8,
   "metadata": {},
   "outputs": [
    {
     "name": "stdout",
     "output_type": "stream",
     "text": [
      "Pi vaut environ 3.1416."
     ]
    },
    {
     "data": {
      "text/plain": [
       "java.io.PrintStream@74f2a700"
      ]
     },
     "execution_count": 8,
     "metadata": {},
     "output_type": "execute_result"
    }
   ],
   "source": [
    "double pi = 3.141592653589793;\n",
    "System.out.printf(\"Pi vaut environ %.4f.\", pi);"
   ]
  },
  {
   "cell_type": "markdown",
   "metadata": {},
   "source": [
    "#### Exercice 8\n",
    "On utilise les valeurs ci-dessous pour des variables ```a```, ```b```, et ```c```:"
   ]
  },
  {
   "cell_type": "code",
   "execution_count": 9,
   "metadata": {},
   "outputs": [],
   "source": [
    "double a = 3.5, b = 1.75, c = 7.0;"
   ]
  },
  {
   "cell_type": "markdown",
   "metadata": {},
   "source": [
    "Compléter les fonctions ```printf``` pour obtenir l'affichage indiqué:\n",
    "\n",
    "(1) ```Je divise 7.0 par deux et j'obtiens 3.5, en divisant encore par deux j'obtiens 1.75.```"
   ]
  },
  {
   "cell_type": "code",
   "execution_count": 10,
   "metadata": {},
   "outputs": [
    {
     "name": "stdout",
     "output_type": "stream",
     "text": [
      "Je divise 7.0 par deux et j'obtiens 3.5, en divisant encore par deux j'obtiens 1.75."
     ]
    },
    {
     "data": {
      "text/plain": [
       "java.io.PrintStream@74f2a700"
      ]
     },
     "execution_count": 10,
     "metadata": {},
     "output_type": "execute_result"
    }
   ],
   "source": [
    "System.out.printf(\"Je divise %.1f par deux et j'obtiens %.1f, en divisant encore par deux j'obtiens %.2f.\", c, a, b);"
   ]
  },
  {
   "cell_type": "markdown",
   "metadata": {},
   "source": [
    "(2) ```Le quart de 7 vaut très précisément 1.750.```"
   ]
  },
  {
   "cell_type": "code",
   "execution_count": 11,
   "metadata": {},
   "outputs": [
    {
     "name": "stdout",
     "output_type": "stream",
     "text": [
      "Le quart de 7 vaut très précisément 1.750."
     ]
    },
    {
     "data": {
      "text/plain": [
       "java.io.PrintStream@74f2a700"
      ]
     },
     "execution_count": 11,
     "metadata": {},
     "output_type": "execute_result"
    }
   ],
   "source": [
    "System.out.printf(\"Le quart de %.0f vaut très précisément %.3f.\", c, b);"
   ]
  },
  {
   "cell_type": "markdown",
   "metadata": {},
   "source": [
    "(3) ```Les nombres 7, 7.0 et 7.00 sont en fait égaux.```"
   ]
  },
  {
   "cell_type": "code",
   "execution_count": 12,
   "metadata": {},
   "outputs": [
    {
     "name": "stdout",
     "output_type": "stream",
     "text": [
      "Les nombres 7, 7.0 et 7.00 sont en fait égaux."
     ]
    },
    {
     "data": {
      "text/plain": [
       "java.io.PrintStream@74f2a700"
      ]
     },
     "execution_count": 12,
     "metadata": {},
     "output_type": "execute_result"
    }
   ],
   "source": [
    "System.out.printf(\"Les nombres %.0f, %.1f et %.2f sont en fait égaux.\", c, c, c);"
   ]
  },
  {
   "cell_type": "markdown",
   "metadata": {},
   "source": [
    "#### Exercice 9\n",
    "\n",
    "On donne les valeurs des variables v1, v2, v3. Modifier le string pour que le ```printf``` donne le résultat ci-dessous:\n",
    "```\n",
    "Le prix de base de l'essence est de 1.124/L.\n",
    "Les taxes sont de 14.975%.\n",
    "Au total on paye $1.27/L.\n",
    "```"
   ]
  },
  {
   "cell_type": "code",
   "execution_count": 13,
   "metadata": {},
   "outputs": [
    {
     "name": "stdout",
     "output_type": "stream",
     "text": [
      "Le prix de base de l'essence est de 1.124/L.\n",
      "les taxes sont de 14.975%.\n",
      "Au total on paye $1.27/L."
     ]
    },
    {
     "data": {
      "text/plain": [
       "java.io.PrintStream@74f2a700"
      ]
     },
     "execution_count": 13,
     "metadata": {},
     "output_type": "execute_result"
    }
   ],
   "source": [
    "double v1 = 1.124; \n",
    "double v2 = 14.975;\n",
    "double v3 =  v1 * 1+(v2/100);\n",
    "System.out.printf(\"Le prix de base de l'essence est de %.3f/L.%nles taxes sont de %.3f%%.%nAu total on paye $%.2f/L.\", v1, v2, v3);"
   ]
  }
 ],
 "metadata": {
  "kernelspec": {
   "display_name": "Java",
   "language": "java",
   "name": "java"
  },
  "language_info": {
   "codemirror_mode": "java",
   "file_extension": ".jshell",
   "mimetype": "text/x-java-source",
   "name": "Java",
   "pygments_lexer": "java",
   "version": "14.0.1+7"
  }
 },
 "nbformat": 4,
 "nbformat_minor": 2
}
