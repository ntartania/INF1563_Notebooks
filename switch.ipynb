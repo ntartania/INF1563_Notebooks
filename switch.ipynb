{
 "cells": [
  {
   "cell_type": "markdown",
   "id": "located-diagnosis",
   "metadata": {},
   "source": [
    "# Instructions conditionnelles avec ```switch```\n",
    "\n",
    "Dans les notebooks précédents, on a écrit des programmes où les branchements conditionnels se faisaient selon des conditions booléennes, c'est à dire vraies ou fausses. On avait donc toujours un comportement binaire: aller à droite où à gauche. On a vu qu'on pouvait imbriquer les ```if``` pour obtenir un plus grand nombre de choix possibles, mais il fallait écrire une nouvelle conditions booléennes pour chacuns de ces choix. \n",
    "\n",
    "Ici on va présenter l'instruction ```switch```, qui permet de faire des branchement conditionnels avec un plus grand nombre de choix, selon la valeur d'une expression non pas booléenne mais numérique ou bien de texte.\n",
    "\n",
    "Prenons par exemple une variable ```notelettre``` de type ```char``` qui pourrait prendre les cinq valeurs possibles ```A```, ```B```, ```C```, ```D```, ou ```E```.\n",
    "\n",
    "Si on voulait exprimer une appréciation à un(e) étudiant(e) selon sa note, on pourrait le faire avec une séquence de ```if```...```else if```... ```else```:"
   ]
  },
  {
   "cell_type": "code",
   "execution_count": 2,
   "id": "simple-appeal",
   "metadata": {},
   "outputs": [
    {
     "name": "stdout",
     "output_type": "stream",
     "text": [
      "C'est bien.\n"
     ]
    }
   ],
   "source": [
    "char noteLettre = 'C';\n",
    "\n",
    "if(noteLettre=='A'){\n",
    "    System.out.println(\"C'est excellent!\");\n",
    "} else if (noteLettre=='B'){\n",
    "    System.out.println(\"C'est très bien!\");\n",
    "} else if (noteLettre=='C'){\n",
    "    System.out.println(\"C'est bien.\");\n",
    "} else if (noteLettre=='D'){\n",
    "    System.out.println(\"Passable.\");\n",
    "} else if (noteLettre=='E'){\n",
    "    System.out.println(\"C'est malheureusement un échec.\");\n",
    "} else {\n",
    "    System.out.println(\"Note incorrecte:\"+noteLettre);\n",
    "}\n"
   ]
  },
  {
   "cell_type": "markdown",
   "id": "funny-laundry",
   "metadata": {},
   "source": [
    "L'instruction conditionnelle ```switch``` permet d'exprimer la même chose en énumérant simplement les valeurs possibles de la note:"
   ]
  },
  {
   "cell_type": "code",
   "execution_count": 3,
   "id": "moving-philosophy",
   "metadata": {},
   "outputs": [
    {
     "name": "stdout",
     "output_type": "stream",
     "text": [
      "C'est bien.\n"
     ]
    }
   ],
   "source": [
    "switch(noteLettre){\n",
    "    case 'A':\n",
    "        System.out.println(\"C'est excellent!\");\n",
    "        break;\n",
    "    case 'B':\n",
    "        System.out.println(\"C'est très bien!\");\n",
    "        break;\n",
    "    case 'C':\n",
    "        System.out.println(\"C'est bien.\");\n",
    "        break;\n",
    "    case 'D':\n",
    "        System.out.println(\"Passable.\");\n",
    "        break;\n",
    "    case 'E':\n",
    "        System.out.println(\"C'est malheureusement un échec.\");\n",
    "        break;\n",
    "    default:\n",
    "        System.out.println(\"Note incorrecte:\"+noteLettre);\n",
    "}"
   ]
  },
  {
   "cell_type": "markdown",
   "id": "anonymous-november",
   "metadata": {},
   "source": [
    "On voit que le code obtenu est plus léger et lisible. \n",
    "La syntaxe générale d'un ```switch``` est la suivante:\n",
    "\n",
    "```\n",
    "switch(expression){\n",
    "    case valeur1:\n",
    "        bloc d'instructions 1\n",
    "        break;\n",
    "    case valeur2:\n",
    "        bloc d'instructions 2\n",
    "        break;\n",
    "    case valeur3:\n",
    "        bloc d'instructions 3\n",
    "        break;\n",
    "    ...\n",
    "    case valeur n:\n",
    "        bloc d'instructions n\n",
    "        break;\n",
    "    default:\n",
    "        bloc d'instruction n+1\n",
    "}\n",
    "```\n",
    "* Dans les parenthèses suivant le mot-clé ```switch``` trouve *l'expression de contrôle*: cette expression peut être une variable comme dans l'exemple, mais elle peut aussi être une expression quelconque, du moment que le type de l'expression est ```int``` (ou un autre type numérique entier comme ```short```, etc.), ```char```,  ```String```. On peut aussi utiliser une variable d'un *type énuméré*: on verra plus loin ce qu'est un type énuméré.\n",
    "* chaque ```case``` correspond à une des valeurs possibles de l'expression de contrôle: à la suite de la valeur on écrit un ```:```, et ensuite le bloc d'instruction à exécuter quand l'expression de contrôle prend cette valeur. Le bloc d'instruction n'est pas délimité par des accolades et se termine par le mot-clé ```break```: cette instruction quitte la structure ```switch```. On verra ci-dessous quelques cas où on ne met pas de ```break```.\n",
    "* en plus des valeurs associées aux différents ```case```, on peut mettre un bloc ```default```, qui correspondra à toutes les autres valeurs: c'est l'équivalent d'un ```else``` après une séquence de ```if``` ... ```else if```. S'il n'y a pas de bloc ```default```, alors dans le cas d'une valeur \"autre\", aucun des blocs n'est exécuté et le programme continue après le bloc ```switch``` (après l'accolade finale)."
   ]
  }
 ],
 "metadata": {
  "kernelspec": {
   "display_name": "Java",
   "language": "java",
   "name": "java"
  },
  "language_info": {
   "codemirror_mode": "java",
   "file_extension": ".jshell",
   "mimetype": "text/x-java-source",
   "name": "Java",
   "pygments_lexer": "java",
   "version": "14.0.1+7"
  }
 },
 "nbformat": 4,
 "nbformat_minor": 5
}
