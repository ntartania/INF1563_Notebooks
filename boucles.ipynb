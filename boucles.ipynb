{
 "cells": [
  {
   "cell_type": "markdown",
   "metadata": {},
   "source": [
    "# Boucles en Java\n",
    "\n",
    "Les boucles sont un élément très important de tout langage de programmation, qui sert à répéter des instructions, généralement tant qu'une condition est vraie.\n",
    "Un langage avec des instructions conditionnelles et des boucles est capable d'implémenter n'importe quel algorithme.\n",
    "\n",
    "### À quoi sert une boucle?\n",
    "\n",
    "À répéter des actions... tant qu'une condition est vraie, ou jusqu'à ce qu'une condition soit vraie. \n",
    "\n",
    "*Mais pourquoi faire?*\n",
    "\n",
    "Ceci nous permet de faire plusieurs choses:\n",
    "  * Juste répéter quelque chose un nombre fixe de fois (dessiner 5 triangles, ou jouer 10000 fois à la roulette pour trouver la probabilité d'être ruiné)\n",
    "  * Parcourir un intervalle de nombres pour faire quelque chose chaque nombre (exemple: on peut parcourir l'intervalle [0, 100] de la fin vers le début, et afficher chaque nombre; pour faire un compte à rebours)\n",
    "  * Parcourir un intervalle de nombres pour en faire la somme, le produit, ou une autre opération mathématique qui peut se faire sur de nombreux éléments\n",
    "  * Parcourir une liste d'éléments pour en faire quelque chose, tout comme on a parlé de parcourir un intervalle de nombres\n",
    "  * Trouver un élément dans une liste (le premier nombre dans un intervalle qui soit multiple de 47, par exemple)\n",
    "  * Vérifier que tous les éléments d'une liste ont une propriété \n",
    "  * ...\n",
    "\n",
    "Voyons ça avec des exemples.\n",
    "\n",
    "### La boucle for: répétition inconditionnelle\n",
    "\n",
    "La répétition *inconditionnelle* consiste à répéter *n* fois le contenu de la boucle: on connait à l'avance le nombre de répétitions.\n",
    "\n",
    "#### Exemple 1: afficher 5 fois  \"Bonjour\""
   ]
  },
  {
   "cell_type": "code",
   "execution_count": 15,
   "metadata": {},
   "outputs": [
    {
     "name": "stdout",
     "output_type": "stream",
     "text": [
      "Bonjour\n",
      "Bonjour\n",
      "Bonjour\n",
      "Bonjour\n",
      "Bonjour\n"
     ]
    }
   ],
   "source": [
    "System.out.println(\"Bonjour\");\n",
    "System.out.println(\"Bonjour\");\n",
    "System.out.println(\"Bonjour\");\n",
    "System.out.println(\"Bonjour\");\n",
    "System.out.println(\"Bonjour\");"
   ]
  },
  {
   "cell_type": "markdown",
   "metadata": {},
   "source": [
    "Ce code peut-être écrit de façon beaucoup plus efficace avec une boucle:"
   ]
  },
  {
   "cell_type": "code",
   "execution_count": 3,
   "metadata": {},
   "outputs": [
    {
     "name": "stdout",
     "output_type": "stream",
     "text": [
      "Bonjour\n",
      "Bonjour\n",
      "Bonjour\n",
      "Bonjour\n",
      "Bonjour\n"
     ]
    }
   ],
   "source": [
    "for (int i=0; i<5; ++i){\n",
    "    System.out.println(\"Bonjour\");\n",
    "}"
   ]
  },
  {
   "cell_type": "markdown",
   "metadata": {},
   "source": [
    "#### Comment ça marche? \n",
    "Une boucle ```for``` est déclarée avec trois arguments dans les parenthèses:\n",
    "```java\n",
    "for (instruction1; condition; instruction2){\n",
    "        bloc-instructions\n",
    "}\n",
    "```\n",
    "Elle est ensuite exécutée selon le schema suivant:\n",
    "\n",
    "```\n",
    "instruction1\n",
    "tant que (condition est vraie) répéter:\n",
    "    bloc-instructions\n",
    "    instruction2\n",
    "```\n",
    "Dans notre cas, on exécute d'abord:\n",
    "```java\n",
    "int i = 0;\n",
    "```\n",
    "Ensuite tant que ```i<5``` est vrai on répète:\n",
    "```java\n",
    "System.out.println(\"Bonjour\");\n",
    "++i\n",
    "```\n",
    "Note: ```++i```est un raccourci pour écrire ```i = i+1``` (```i++``` est un autre raccourci, on verra plus tard la différence)\n",
    "\n",
    "En détail, ça donne:"
   ]
  },
  {
   "cell_type": "code",
   "execution_count": 7,
   "metadata": {},
   "outputs": [
    {
     "name": "stdout",
     "output_type": "stream",
     "text": [
      "Bonjour\n",
      "Bonjour\n",
      "Bonjour\n",
      "Bonjour\n",
      "Bonjour\n"
     ]
    },
    {
     "data": {
      "text/plain": [
       "5"
      ]
     },
     "execution_count": 7,
     "metadata": {},
     "output_type": "execute_result"
    }
   ],
   "source": [
    "int i = 0;\n",
    "System.out.println(\"Bonjour\");\n",
    "++i;                             //i vaut ensuite 1, la condition i<5 est vraie, on répète\n",
    "System.out.println(\"Bonjour\");\n",
    "++i;                             //i vaut ensuite 2\n",
    "System.out.println(\"Bonjour\");\n",
    "++i;                             //i vaut ensuite 3\n",
    "System.out.println(\"Bonjour\");\n",
    "++i;                             //i vaut ensuite 4\n",
    "System.out.println(\"Bonjour\");\n",
    "++i;                             //i vaut ensuite 5, et maintenant la condition i<5 est fausse, on ne répète donc plus."
   ]
  },
  {
   "cell_type": "markdown",
   "metadata": {},
   "source": [
    "#### Exercice: \n",
    "Modifier la boucle pour afficher 10 fois \"bonjour\"."
   ]
  },
  {
   "cell_type": "code",
   "execution_count": null,
   "metadata": {},
   "outputs": [],
   "source": [
    "for (int i=0; i<5; ++i){\n",
    "    System.out.println(\"Bonjour\");\n",
    "}"
   ]
  },
  {
   "cell_type": "markdown",
   "metadata": {},
   "source": [
    "#### Exemple 2: afficher les nombres de 1 à 10\n",
    "Dans l'exemple précédent on utilisait la variable ```i``` seulement pour compter les répétitions.\\\n",
    "On peut aussi utiliser sa valeur à l'intérieur de la boucle, comme pour afficher les nombres de 1 à 10.\n",
    "\n",
    "Sans boucle, ça donne:"
   ]
  },
  {
   "cell_type": "code",
   "execution_count": 8,
   "metadata": {},
   "outputs": [
    {
     "name": "stdout",
     "output_type": "stream",
     "text": [
      "1\n",
      "2\n",
      "3\n",
      "4\n",
      "5\n",
      "6\n",
      "7\n",
      "8\n",
      "9\n",
      "10\n"
     ]
    }
   ],
   "source": [
    "System.out.println(1);\n",
    "System.out.println(2);\n",
    "System.out.println(3);\n",
    "System.out.println(4);\n",
    "System.out.println(5);\n",
    "System.out.println(6);\n",
    "System.out.println(7);\n",
    "System.out.println(8);\n",
    "System.out.println(9);\n",
    "System.out.println(10);"
   ]
  },
  {
   "cell_type": "markdown",
   "metadata": {},
   "source": [
    "On peut évidemment simplifier ce code avec une boucle ```for```:"
   ]
  },
  {
   "cell_type": "code",
   "execution_count": 9,
   "metadata": {},
   "outputs": [
    {
     "name": "stdout",
     "output_type": "stream",
     "text": [
      "1\n",
      "2\n",
      "3\n",
      "4\n",
      "5\n",
      "6\n",
      "7\n",
      "8\n",
      "9\n",
      "10\n"
     ]
    }
   ],
   "source": [
    "for (int i=1; i<=10; ++i){\n",
    "    System.out.println(i); \n",
    "}"
   ]
  },
  {
   "cell_type": "markdown",
   "metadata": {},
   "source": [
    "Par rapport à l'exemple précédent, on a fait deux modifications:\n",
    "  * On utilise la valeur de ```i```à l'intérieur de la boucle (on affiche sa valeur)\n",
    "  * On a modifié la définition du ```for``` pour que ```i``` commence à 1 (au lieu de zéro) et se termine à 10 \n",
    "  \n",
    "  #### Exercice: les carrés\n",
    "Modifier la boucle précédente pour que afficher les *carrés* des nombres de 1 à 10:\n",
    "\n",
    "1\\\n",
    "4\\\n",
    "9\\\n",
    "16\\\n",
    "...\\\n",
    "100"
   ]
  },
  {
   "cell_type": "code",
   "execution_count": null,
   "metadata": {},
   "outputs": [],
   "source": [
    "for (int i=1; i<=10; ++i){\n",
    "    System.out.println(i); \n",
    "}"
   ]
  },
  {
   "cell_type": "markdown",
   "metadata": {},
   "source": [
    "#### Exemple 3: compte à rebours\n",
    "\n",
    "On peut aussi modifier la définition du ```for``` pour parcourir l'intervalle de 10 à 1 plutôt que de 1 à 10.\n"
   ]
  },
  {
   "cell_type": "code",
   "execution_count": 12,
   "metadata": {},
   "outputs": [
    {
     "name": "stdout",
     "output_type": "stream",
     "text": [
      "10\n",
      "9\n",
      "8\n",
      "7\n",
      "6\n",
      "5\n",
      "4\n",
      "3\n",
      "2\n",
      "1\n",
      "ZÉRO!!\n"
     ]
    }
   ],
   "source": [
    "for (int i=10; i>0; --i){\n",
    "    System.out.println(i); \n",
    "}\n",
    "System.out.println(\"ZÉRO!!\");"
   ]
  },
  {
   "cell_type": "markdown",
   "metadata": {},
   "source": [
    "#### Comment ça marche?\n",
    "\n",
    "Comme précédemment, on a une définition de la forme:\n",
    "```java\n",
    "for (instruction1; condition; instruction2){\n",
    "        bloc_instructions\n",
    "}\n",
    "```\n",
    "Sauf que cette fois on initialise ```i``` à 10 avec l'```instruction1```, \n",
    "on écrit l'```instruction2``` pour *décrémenter* ```i``` au lieu de l'incrémenter,\n",
    "et on écrit la condition pour que le contenu soit répété tant que ```i``` est supérieur à zéro.\n",
    "\n",
    "Le résultat est que ```i``` vaudra 10, 9, 8, ... puis 1. Quand ```i``` vaut zéro, la condition \n",
    "est fausse et on sort de la boucle.\n",
    "\n",
    "#### Exercice\n",
    "Pour afficher les nombres pairs entre 0 et 20, modifier la définition de la boucle pour que \n",
    "```i```commence à zéro et augmente de 2 en 2 jusqu'à 20."
   ]
  },
  {
   "cell_type": "code",
   "execution_count": null,
   "metadata": {},
   "outputs": [],
   "source": [
    "for (int i=1; i<=10; ++i){\n",
    "    System.out.println(i); \n",
    "}"
   ]
  },
  {
   "cell_type": "markdown",
   "metadata": {},
   "source": [
    "### Boucles conditionnelles: while\n",
    "\n",
    "Dans les exempels précédents, on savait à l'avance combien de fois on voulait répéter le code, et plus précisément on utilisait une variable pour parcourir un intervalle de nombres. \n",
    "\n",
    "On va maintenant voir une autre sorte de boucle, où on veut faire une répétition *conditionnelle*, c'est à dire qu'on veut répéter une action jusqu'à ce qu'une certaine condition soit vraie... habituellement on ne sait pas à l'avance combien de répétitions ça va prendre.\n",
    "\n",
    "#### Exemple 4: entrer un nombre entre 1 et 10\n",
    "On voudrait que l'utilisateur tape au clavier un nombre entre 1 et 10. Si il tape autre chose, on lui lui demande à nouveau. On va alors répéter les actions \"afficher à l'écran 'veuillez afficher un nombre entre 1 et 10'\" et \"lire un nombre au clavier\" **tant que** le nombre lu au clavier n'est pas entre 1 et 10. L'utilisateur entrera peut-être le nombre 3 au premier coup (et il n'y aura alors aucune répétition), ou il pourrait aussi taper 100 fois le nombre 35, auquel cas on répètera 100 fois ces actions.\n",
    "\n",
    "Pour cet exemple on va juste créer un objet ```Scanner``` pour lire des données au clavier:"
   ]
  },
  {
   "cell_type": "code",
   "execution_count": 17,
   "metadata": {},
   "outputs": [],
   "source": [
    "import java.util.Scanner;\n",
    "Scanner clavier = new Scanner(System.in);"
   ]
  },
  {
   "cell_type": "markdown",
   "metadata": {},
   "source": [
    "Et maintenant le code de l'exemple ci-dessus:"
   ]
  },
  {
   "cell_type": "code",
   "execution_count": 18,
   "metadata": {},
   "outputs": [
    {
     "name": "stdout",
     "output_type": "stream",
     "text": [
      "Veuillez entrer un nombre entre 1 et 10\n",
      "43\n",
      "Veuillez entrer un nombre entre 1 et 10\n",
      "3\n",
      "Bravo!\n"
     ]
    }
   ],
   "source": [
    "int n =0;\n",
    "while (n<1 || n>10){\n",
    "    System.out.println(\"Veuillez entrer un nombre entre 1 et 10\");\n",
    "    n=clavier.nextInt();\n",
    "}\n",
    "System.out.println(\"Bravo!\");"
   ]
  },
  {
   "cell_type": "markdown",
   "metadata": {},
   "source": [
    "### Équivalence des boucles for et while\n",
    "On peut remarquer qu'une boucle ```for```, dans son exécution, est elle aussi dans un certain sens conditionnelle: \n",
    "en définissant une boucle\n",
    "```java\n",
    "for (instruction1; condition; instruction2)\n",
    "```\n",
    "on fixe une ```condition```, et on répète le contenu de la boucle (+ l'```instruction2```) tant que la condition est vraie. \n",
    "\n",
    "On peut donc exprimer n'importe quelle boucle ```for``` par une boucle ```while```.\n",
    "\n",
    "#### Exemple 5: traduire une boucle ```for``` en boucle ```while```:\n",
    "\n",
    "Soit la boucle ```for``` de l'exemple 2:\n",
    "```java\n",
    "for (int i=1; i<=10; ++i){\n",
    "    System.out.println(i); \n",
    "}\n",
    "```\n",
    "Avec une boucle ```while``` on peut obtenir exactement la même chose:"
   ]
  },
  {
   "cell_type": "code",
   "execution_count": 21,
   "metadata": {},
   "outputs": [
    {
     "name": "stdout",
     "output_type": "stream",
     "text": [
      "1\n",
      "2\n",
      "3\n",
      "4\n",
      "5\n",
      "6\n",
      "7\n",
      "8\n",
      "9\n",
      "10\n"
     ]
    }
   ],
   "source": [
    "int i=1;\n",
    "while(i<=10){\n",
    "    System.out.println(i);\n",
    "    ++i;\n",
    "}"
   ]
  },
  {
   "cell_type": "markdown",
   "metadata": {},
   "source": [
    "Dans cette boucle, la variable ```i```doit être déclarée avant la boucle, et incrémentée à l'intérieur de la boucle. Une raison de préférer le ```for( ... ; ... ; ...)``` est que les parenthèses fournissent des emplacements naturels pour placer ces instructions: on est certain de ne pas les oublier.\n",
    "\n",
    "#### Exercice: traduire une boucle ```for``` en boucle ```while```:\n",
    "\n",
    "Soit la boucle ```for``` de l'exemple 3:\n",
    "```java\n",
    "for (int i=10; i>0; --i){\n",
    "    System.out.println(i); \n",
    "}\n",
    "```\n",
    "Écrire une boucle ```while``` équivalente."
   ]
  },
  {
   "cell_type": "code",
   "execution_count": null,
   "metadata": {},
   "outputs": [],
   "source": []
  },
  {
   "cell_type": "markdown",
   "metadata": {},
   "source": [
    "#### Traduire une boucle while en boucle for?\n",
    "\n",
    "Il est possible en général de faire l'exercice inverse, c'est à dire de remplacer une boucle ```while``` par une boucle ```for```. Mais le fait que ce soit possible n'en fait pas une bonne idée. Il est techniquement possible de planter un clou en le frappant à l'aide d'un tournevis, mais un marteau est plus approprié pour cette tâche.\n",
    "\n",
    "De même, la boucle ```for``` est faite pour exprimer des instructions répétitives avec une structure particulière, utilisant une variable de boucle qu'on incrémente ou décrémente. Ce motif permet de résoudre bien des problèmes et avec de l'expérience on mémorise ce \"motif\" et on l'utilise comme une phrase toute faite. \n"
   ]
  },
  {
   "cell_type": "code",
   "execution_count": null,
   "metadata": {},
   "outputs": [],
   "source": []
  }
 ],
 "metadata": {
  "kernelspec": {
   "display_name": "Java",
   "language": "java",
   "name": "java"
  },
  "language_info": {
   "codemirror_mode": "java",
   "file_extension": ".jshell",
   "mimetype": "text/x-java-source",
   "name": "Java",
   "pygments_lexer": "java",
   "version": "14.0.1+7"
  }
 },
 "nbformat": 4,
 "nbformat_minor": 4
}
