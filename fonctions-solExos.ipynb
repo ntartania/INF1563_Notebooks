{
 "cells": [
  {
   "cell_type": "markdown",
   "metadata": {},
   "source": [
    "# Fonctions: solutions des exercices"
   ]
  },
  {
   "cell_type": "markdown",
   "metadata": {},
   "source": [
    "#### Exercice 1\n",
    "\n",
    "Donner la valeur de ```x```, ```y```, et ```z``` après l'exécution du code suivant:"
   ]
  },
  {
   "cell_type": "code",
   "execution_count": 1,
   "metadata": {},
   "outputs": [],
   "source": [
    "double x, y, z;\n",
    "x = Math.abs(8.0);\n",
    "y = Math.abs(x - 10.0);\n",
    "z = Math.abs(y - x);"
   ]
  },
  {
   "cell_type": "markdown",
   "metadata": {},
   "source": [
    "**Solution**:"
   ]
  },
  {
   "cell_type": "markdown",
   "metadata": {},
   "source": [
    "```x``` = 8.0\n",
    "\n",
    "```y``` = 2.0\n",
    "\n",
    "```z``` = 6.0"
   ]
  },
  {
   "cell_type": "markdown",
   "metadata": {},
   "source": [
    "#### Exercice 2\n",
    "\n",
    "On veut calculer la *distance* entre deux nombres ```a``` et ```b```, c'est à dire la valeur absolue de leur différence: 8 et 3.5 sont distants de 4.5, et -1 et 1 sont distants de 2.\n",
    "\n",
    "Compléter le code ci-dessous pour calculer cette distance, à l'aide de la fonction ```Math.abs()```."
   ]
  },
  {
   "cell_type": "code",
   "execution_count": 8,
   "metadata": {},
   "outputs": [
    {
     "name": "stdout",
     "output_type": "stream",
     "text": [
      "Entrer deux nombres séparés par un espace:\n",
      "3 7\n",
      "Ces deux nombres sont distants de 4.0\n"
     ]
    }
   ],
   "source": [
    "import java.util.Scanner;\n",
    "Scanner scan = new Scanner(System.in);\n",
    "\n",
    "System.out.println(\"Entrer deux nombres séparés par un espace:\");\n",
    "double a = scan.nextDouble();\n",
    "double b = scan.nextDouble();\n",
    "\n",
    "double distance = Math.abs(a-b); // ou bien: Math.abs(b-a);\n",
    "\n",
    "System.out.println(\"Ces deux nombres sont distants de \"+ distance);"
   ]
  },
  {
   "cell_type": "markdown",
   "metadata": {},
   "source": [
    "#### Exercice 3\n",
    "\n",
    "On veut comparer deux nombres en valeur absolue: si on compare -12 et +5, -12 est le plus grand en valeur absolue, même si +5 > -12.\n",
    "\n",
    "Compléter la condition ci-dessous pour que le programme affiche le plus grand nombre entre ```a``` et ```b```, en valeur absolue."
   ]
  },
  {
   "cell_type": "code",
   "execution_count": 9,
   "metadata": {},
   "outputs": [
    {
     "name": "stdout",
     "output_type": "stream",
     "text": [
      "Entrer deux nombres séparés par un espace:\n",
      "-8.0 -5.5\n",
      "Le plus grand en valeur absolue est:-8.0\n"
     ]
    }
   ],
   "source": [
    "System.out.println(\"Entrer deux nombres séparés par un espace:\");\n",
    "a = scan.nextDouble();\n",
    "b = scan.nextDouble();\n",
    "\n",
    "double maxVA;\n",
    "if (Math.abs(a) > Math.abs(b)){ // compléter ici.\n",
    "    maxVA = a;\n",
    "} else {\n",
    "    maxVA = b;\n",
    "}\n",
    "\n",
    "System.out.println(\"Le plus grand en valeur absolue est:\" + maxVA);"
   ]
  },
  {
   "cell_type": "markdown",
   "metadata": {},
   "source": [
    "#### Exercice 4\n",
    "\n",
    "À la suite des déclarations ci-dessous, écrire des expressions Java équivalentes aux expressions mathématiques suivantes:\n",
    "* $v = |t|$\n",
    "* $x = sin(v)$\n",
    "* $y = cos^2(v)$  \n",
    "* $z = tan(y + 1)$"
   ]
  },
  {
   "cell_type": "code",
   "execution_count": 10,
   "metadata": {},
   "outputs": [],
   "source": [
    "double v, t=-0.4, x, y, z;\n",
    "\n",
    "v = Math.abs(t);\n",
    "x = Math.sin(v);\n",
    "y = Math.cos(v) * Math.cos(v);\n",
    "z = Math.tan(y +1);"
   ]
  },
  {
   "cell_type": "markdown",
   "metadata": {},
   "source": [
    "#### Exercice 5\n",
    "\n",
    "Soit $x= 0.73$. Écrire le code Java pour calculer $v$ et $h$ tels que: \n",
    "* $v = \\sqrt{|x|}$\n",
    "* $h = \\sqrt{sin^2(x)+cos^2(x)}$"
   ]
  },
  {
   "cell_type": "code",
   "execution_count": 11,
   "metadata": {},
   "outputs": [],
   "source": [
    "double x = 0.73;\n",
    "double v = Math.sqrt(Math.abs(x));\n",
    "double h = Math.sqrt(Math.sin(x)*Math.sin(x) + Math.cos(x)*Math.cos(x));"
   ]
  },
  {
   "cell_type": "markdown",
   "metadata": {},
   "source": [
    "#### Exercice 6\n",
    "Calculer le sinus et le cosinus de $\\pi/4$ (soit 45 degrés), en combinant les fonctions ```sin``` et ```cos``` avec la fonction ```toRadians```. "
   ]
  },
  {
   "cell_type": "code",
   "execution_count": 12,
   "metadata": {},
   "outputs": [],
   "source": [
    "double sinus = Math.sin(Math.toRadians(45));   \n",
    "double cosinus =  Math.cos(Math.toRadians(45));"
   ]
  },
  {
   "cell_type": "markdown",
   "metadata": {},
   "source": [
    "#### Exercice 7\n",
    "\n",
    "Dans une application de pilotage automatique, on doit calculer des angles pour tourner le véhicule. Les capteurs nous donnent l'angle de la nouvelle direction à suivre (entre $-\\pi$ et $+\\pi$). Cependant, on ne peut pas tourner les roues à plus de 30 degrés, il faut donc limiter l'angle à l'intervalle $[-\\pi/6, +\\pi/6]$. Autrement dit, on nous donne un angle d'entrée ```angleObjectif```, et il faut calculer l'```angleVirage``` comme suit:\n",
    "* si ```angleObjectif``` est compris entre $-\\pi/6$ et $+\\pi/6$, l'```angleVirage``` est le même.\n",
    "* si ```angleObjectif``` est **inférieur à $-\\pi/6$**, alors ```angleVirage``` est $-\\pi/6$.\n",
    "* si ```angleObjectif``` est **supérieur à $+\\pi/6$**, alors ```angleVirage``` est $+\\pi/6$.\n",
    "\n",
    "**7.1** En utilisant ```Math.max```, écrire une expression qui donne ```angleObjectif``` si ```angleObjectif``` est **supérieur à $-\\pi/6$**, et $-\\pi/6$ sinon.\n",
    "\n",
    "**Solution:** ```Math.max(-1*Math.toRadians(30), angleObjectif)```"
   ]
  },
  {
   "cell_type": "markdown",
   "metadata": {},
   "source": [
    "**7.2** En utilisant ```Math.min```, écrire une expression qui donne ```angleObjectif``` si ```angleObjectif``` est **inférieur à $\\pi/6$**, et $\\pi/6$ sinon.\n",
    "\n",
    "**Solution**: ```Math.min(Math.toRadians(30), angleObjectif)```\n",
    "\n",
    "**7.3** En combinant ```Math.min``` et ```Math.max```, écrire une instruction qui calcule ```angleVirage``` à partir de ```angleObjectif```, en une seule ligne.\n",
    "\n",
    "**Solution**: \n",
    "```\n",
    "angleVirage = Math.max(-1*Math.toRadians(30), Math.min(Math.toRadians(30), angleObjectif));\n",
    "```"
   ]
  },
  {
   "cell_type": "markdown",
   "metadata": {},
   "source": [
    "#### Exercice 8\n",
    "\n",
    "Écrire **les en-têtes (seulement)** des fonctions spécifiées ci-dessous:\n",
    "* Une fonction ```longueur``` qui prend en entrée une chaine de caractères renvoie la longueur (nombre de caractères) de cette chaîne de caractères.\n",
    "\n",
    "```java\n",
    "int longueur(String chaine)\n",
    "```\n",
    "(le nom du paramètre n'a aucune importance)\n",
    "\n",
    "* Une fonction ```estPair``` qui prend en entrée un entier et retourne ```true``` si ce nombre est pair, sinon ```false```.\n",
    "\n",
    "```java\n",
    "boolean estPair(int nombre)\n",
    "```\n",
    "\n",
    "* Une fonction ```minimum``` qui prend en entrée deux nombres quelconques et renvoie le minimum des différentes valeurs.\n",
    "\n",
    "```java\n",
    "double minimum(double nbr1, double nbr2)\n",
    "```"
   ]
  },
  {
   "cell_type": "markdown",
   "metadata": {},
   "source": [
    "#### Exercice 9\n",
    "\n",
    "Compléter la déclaration de fonction suivante, qui prend un entier (```int```) en entrée et renvoie en sortie la moitié de ce nombre (attention à la division entière: on veut que le résultat soit exact):"
   ]
  },
  {
   "cell_type": "code",
   "execution_count": 13,
   "metadata": {},
   "outputs": [],
   "source": [
    "double moitie(int nbr){\n",
    "    return nbr *1.0 /2;\n",
    "}"
   ]
  },
  {
   "cell_type": "markdown",
   "metadata": {},
   "source": [
    "#### Exercice 10\n",
    "\n",
    "On veut écrire une fonction ```croissant``` qui prend trois valeurs ```double``` en entrée, et retourne ```true``` s'ils sont triés dans l'ordre croissant. Écrire trois tests bien choisis pour cette fonction, en utilisant la fonction ```verifier```."
   ]
  },
  {
   "cell_type": "code",
   "execution_count": null,
   "metadata": {},
   "outputs": [],
   "source": [
    "verifier(croissant(1,2,3)==true, \"erreur: croissants stricts\");\n",
    "verifier(croissant(1,2,2)==true, \"erreur: croissants au sens large\");\n",
    "verifier(croissant(4,3,5)==false, \"erreur: non croissants\");"
   ]
  },
  {
   "cell_type": "markdown",
   "metadata": {},
   "source": [
    "Ces tests n'étaient pas les seuls possibles, mais l'idée était de vérifier que la fonction marche pour une suite strictement croissante, une suite croissante avec des nombres égaux, et une suite non croissante."
   ]
  },
  {
   "cell_type": "markdown",
   "metadata": {},
   "source": [
    "#### Exercice 11\n",
    "\n",
    "Écrire la fonction ```croissant``` et utiliser les tests pour vérifier qu'elle est correcte."
   ]
  },
  {
   "cell_type": "code",
   "execution_count": 16,
   "metadata": {},
   "outputs": [],
   "source": [
    "boolean croissant(double v1, double v2, double v3){\n",
    "    if(v2>=v1 && v3>= v2){\n",
    "        return true;\n",
    "    } else {\n",
    "        return false;\n",
    "    }\n",
    "}"
   ]
  },
  {
   "cell_type": "code",
   "execution_count": 18,
   "metadata": {},
   "outputs": [],
   "source": [
    "void verifier(boolean condition, String messageDErreur){\n",
    "    if (!condition){\n",
    "        System.err.println(messageDErreur);\n",
    "    }\n",
    "}\n",
    "verifier(croissant(1,2,3)==true, \"erreur: croissants stricts\");\n",
    "verifier(croissant(1,2,2)==true, \"erreur: croissants au sens large\");\n",
    "verifier(croissant(4,3,5)==false, \"erreur: non croissants\");"
   ]
  },
  {
   "cell_type": "markdown",
   "metadata": {},
   "source": [
    "Succès!"
   ]
  }
 ],
 "metadata": {
  "kernelspec": {
   "display_name": "Java",
   "language": "java",
   "name": "java"
  },
  "language_info": {
   "codemirror_mode": "java",
   "file_extension": ".jshell",
   "mimetype": "text/x-java-source",
   "name": "Java",
   "pygments_lexer": "java",
   "version": "14.0.1+7"
  }
 },
 "nbformat": 4,
 "nbformat_minor": 2
}
