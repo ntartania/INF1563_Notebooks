{
 "cells": [
  {
   "cell_type": "markdown",
   "metadata": {},
   "source": [
    "# Boucles en Java: Algorithmique\n",
    "\n",
    "Dans le notebook précédent on a vu comment parcourir un intervalle de nombres, et afficher les nombres.\n",
    "\n",
    "On a aussi vu des boucles conditionnelles très simples.\n",
    "\n",
    "Ici on va voir des cas d'utilisation plus pratiques des boucles inconditionnelles: trouver un élément, compter des éléments, faire une somme ou un produit.\n",
    "\n",
    "## Trouver un élément dans une liste\n",
    "\n",
    "Le problème général de trouver un élément dans une liste est très répandu, et sujet à une erreur très classique.\n",
    "\n",
    "Pour l'instant, comme \"liste\" on va simplement prendre un intervalle de nombres, qu'on sait maintenant parcourir avec une boucle ```for```.\n",
    "\n",
    "**Question** : Y a-t-il un multiple de 41 dans l'intervalle \\[191, 207\\]?\n",
    "\n",
    "Pour répondre à cette question, on va parcourir l'intervalle et chercher un nombre qui répond à cette condition.\n",
    "\n",
    "La boucle for pour parcourir l'intervalle (on va juste afficher les nombres):"
   ]
  },
  {
   "cell_type": "code",
   "execution_count": 6,
   "metadata": {},
   "outputs": [
    {
     "name": "stdout",
     "output_type": "stream",
     "text": [
      "191\n",
      "192\n",
      "193\n",
      "194\n",
      "195\n",
      "196\n",
      "197\n",
      "198\n",
      "199\n",
      "200\n",
      "201\n",
      "202\n",
      "203\n",
      "204\n",
      "205\n",
      "206\n",
      "207\n"
     ]
    }
   ],
   "source": [
    "for (int i=191; i<=207; i++){\n",
    "    System.out.println(i);\n",
    "}"
   ]
  },
  {
   "cell_type": "markdown",
   "metadata": {},
   "source": [
    "Ok, on a maintenant la liste de nombres. Maintenant dans cette liste on va voir s'il y a un multiple de 43. Pour savoir si un nombre est multiple de 41, on utilise l'opérateur modulo: si on divise un nombre par 43 et que le reste est zéro, alors le nombre est multiple de 41. \n",
    "\n",
    "Voici le code pour lire un nombre au clavier et tester si il est multiple de 41:"
   ]
  },
  {
   "cell_type": "code",
   "execution_count": 2,
   "metadata": {},
   "outputs": [],
   "source": [
    "import java.util.Scanner;\n",
    "Scanner clavier = new Scanner(System.in);"
   ]
  },
  {
   "cell_type": "code",
   "execution_count": 3,
   "metadata": {},
   "outputs": [
    {
     "name": "stdout",
     "output_type": "stream",
     "text": [
      "Entrer un nombre:\n",
      "534\n",
      "534 n'est pas multiple de 41\n"
     ]
    }
   ],
   "source": [
    "System.out.println(\"Entrer un nombre:\");\n",
    "int nombre = clavier.nextInt();\n",
    "if (nombre%41==0){\n",
    "    System.out.println(nombre +\" est multiple de 41\");\n",
    "} else {\n",
    "    System.out.println(nombre +\" n'est pas multiple de 41\");\n",
    "}"
   ]
  },
  {
   "cell_type": "markdown",
   "metadata": {},
   "source": [
    "Pour savoir si un nombre dans la liste au dessus est multiple de 41, on peut tous les tester. Pour cela, on place le test à l'intérieur de la boucle, et on remplace le ```nombre``` dans le test par ```i```, qui prend successivement toutes les valeurs qu'on veut tester:"
   ]
  },
  {
   "cell_type": "code",
   "execution_count": 5,
   "metadata": {},
   "outputs": [
    {
     "name": "stdout",
     "output_type": "stream",
     "text": [
      "191 n'est pas multiple de 41\n",
      "192 n'est pas multiple de 41\n",
      "193 n'est pas multiple de 41\n",
      "194 n'est pas multiple de 41\n",
      "195 n'est pas multiple de 41\n",
      "196 n'est pas multiple de 41\n",
      "197 n'est pas multiple de 41\n",
      "198 n'est pas multiple de 41\n",
      "199 n'est pas multiple de 41\n",
      "200 n'est pas multiple de 41\n",
      "201 n'est pas multiple de 41\n",
      "202 n'est pas multiple de 41\n",
      "203 n'est pas multiple de 41\n",
      "204 n'est pas multiple de 41\n",
      "205 est multiple de 41\n",
      "206 n'est pas multiple de 41\n",
      "207 n'est pas multiple de 41\n"
     ]
    }
   ],
   "source": [
    "for (int i=191; i<=207; i++){\n",
    "    if (i%41==0){\n",
    "        System.out.println(i +\" est multiple de 41\");\n",
    "    } else {\n",
    "        System.out.println(i +\" n'est pas multiple de 41\");\n",
    "    }\n",
    "}"
   ]
  },
  {
   "cell_type": "markdown",
   "metadata": {},
   "source": [
    "En lisant ces résultats à l'écran, on peut voir qu'un nombre dans l'intervalle (205) est multiple de 41. Mais dans le contexte d'un programme plus long, on voudrait pouvoir faire d'autres calculs en utilisant ces informations: soit l'information que oui, l'intervalle contient bien un multiple de 41 (information de type booléenne) ou bien l'information que l'élément de la liste qui correspond à la condition est le nombre 205 (information de type numérique).\n",
    "\n",
    "La première est celle qui a tendance a causer des erreurs.  On définit donc une variable booléenne ```trouvé```, et on voudrait qu'après la boucle ```trouvé``` soit ```true``` si l'intervalle contient un multiple de 41. La première intuition est d'assigner le résultat du \"test\" dans la boucle à la variable:"
   ]
  },
  {
   "cell_type": "code",
   "execution_count": 8,
   "metadata": {},
   "outputs": [
    {
     "name": "stdout",
     "output_type": "stream",
     "text": [
      "L'intervalle ne contient pas de multiple de 41!\n"
     ]
    }
   ],
   "source": [
    "boolean trouvé;\n",
    "for (int i=191; i<=207; i++){\n",
    "    if (i%41==0){\n",
    "        trouvé=true;\n",
    "    } else {\n",
    "        trouvé=false;\n",
    "    }\n",
    "}\n",
    "\n",
    "if (trouvé){\n",
    "    System.out.println(\"L'intervalle contient bien un multiple de 41!\");\n",
    "} else {\n",
    "    System.out.println(\"L'intervalle ne contient pas de multiple de 41!\");\n",
    "}"
   ]
  },
  {
   "cell_type": "markdown",
   "metadata": {},
   "source": [
    "Que se passe-t-il?\n",
    "\n",
    "En fait si on détaille bien ce qui se passe, pour chaque valeur de i on effectue le test et on assigne un valeur à ```trouvé```. La valeur de ```trouvé``` après la boucle est donc la valeur obtenue lors du *dernier* test (pour ```i = 207```. Et comme 207 n'est pas multiple de 41, la valeur de ```trouvé``` est ```false```.\n",
    "\n",
    "La solution ici est la suivante:\n",
    "Il faut initialiser ```trouvé``` à ```false``` (avant la boucle) et seulement modifier ```trouvé``` *si on trouve ce qu'on cherche*, c'est à dire ici, si un des nombres de l'intervalle est multiple de 41.\n",
    "\n"
   ]
  },
  {
   "cell_type": "code",
   "execution_count": 9,
   "metadata": {},
   "outputs": [
    {
     "name": "stdout",
     "output_type": "stream",
     "text": [
      "L'intervalle contient bien un multiple de 41!\n"
     ]
    }
   ],
   "source": [
    "boolean trouvé=false;\n",
    "for (int i=191; i<=207; i++){\n",
    "    if (i%41==0){\n",
    "        trouvé=true;\n",
    "    } \n",
    "    // on ne met pas de clause else!\n",
    "}\n",
    "\n",
    "if (trouvé){\n",
    "    System.out.println(\"L'intervalle contient bien un multiple de 41!\");\n",
    "} else {\n",
    "    System.out.println(\"L'intervalle ne contient pas de multiple de 41!\");\n",
    "}"
   ]
  },
  {
   "cell_type": "markdown",
   "metadata": {},
   "source": [
    "Cette fois, ça fonctionne correctement. Par souci d'efficacité, on peut aussi quitter la boucle une fois que le nombre est trouvé: continuer à parcourir l'intervalle ne changera rien. \n",
    "\n",
    "Note: Ceci serait surtout utile si on parcourait une liste très longue; ici on ne verra pas de différence. \n",
    "\n",
    "Pour quitter la boucle, on utilise une instruction ```break```:"
   ]
  },
  {
   "cell_type": "code",
   "execution_count": 10,
   "metadata": {},
   "outputs": [
    {
     "name": "stdout",
     "output_type": "stream",
     "text": [
      "L'intervalle contient bien un multiple de 41!\n"
     ]
    }
   ],
   "source": [
    "boolean trouvé=false;\n",
    "for (int i=191; i<=207; i++){\n",
    "    if (i%41==0){\n",
    "        trouvé=true;\n",
    "        break; // ça y est, on l'a trouvé! on peut quitter la boucle.\n",
    "    } \n",
    "    // on ne met pas de clause else!\n",
    "}\n",
    "\n",
    "if (trouvé){\n",
    "    System.out.println(\"L'intervalle contient bien un multiple de 41!\");\n",
    "} else {\n",
    "    System.out.println(\"L'intervalle ne contient pas de multiple de 41!\");\n",
    "}"
   ]
  },
  {
   "cell_type": "markdown",
   "metadata": {},
   "source": [
    "Quelques erreurs classiques:\n",
    "    * la clause ```else```, comme montré au dessus\n",
    "    * mettre le ```break``` en dehors du ```if```: on quitte alors la boucle dès le premier passage dans la boucle.\n",
    "\n",
    "On peut maintenant voir comment récupérer la valeur du nombre multiple de 41. Comme pour l'information \"trouvé\", on va créer une variable pour la recevoir (cette fois un entier), et lui donner une valeur dans la condition ```if``` qui indique qu'une valeur appropriée a été trouvée. Ici on nomme cette variable ```multiple```. La seule difficulté est de donner une valeur initiale à ```multiple```: si on ne trouve pas de multiple, alors la variable ne veut rien dire. Ici on l'initialise à 0. Comme on garde aussi la variable ```trouvé```, on n'aura pas de difficulté à interpréter la variable ```multiple```."
   ]
  },
  {
   "cell_type": "code",
   "execution_count": 12,
   "metadata": {},
   "outputs": [
    {
     "name": "stdout",
     "output_type": "stream",
     "text": [
      "L'intervalle contient bien un multiple de 41: 205\n"
     ]
    }
   ],
   "source": [
    "boolean trouvé=false;\n",
    "int multiple =0;\n",
    "for (int i=191; i<=207; i++){\n",
    "    if (i%41==0){\n",
    "        trouvé = true;\n",
    "        multiple = i;\n",
    "        break; // ça y est, on l'a trouvé! on peut quitter la boucle.\n",
    "    } \n",
    "    // on ne met pas de clause else!\n",
    "}\n",
    "\n",
    "if (trouvé){\n",
    "    System.out.println(\"L'intervalle contient bien un multiple de 41: \"+ multiple);\n",
    "} else {\n",
    "    System.out.println(\"L'intervalle ne contient pas de multiple de 41!\");\n",
    "}"
   ]
  },
  {
   "cell_type": "markdown",
   "metadata": {},
   "source": [
    "Parfois, pour simplifier le code (ou dans le contexte d'une fonction, qu'on verra plus tard), on utilise une seule variable pour obtenir la valeur de l'élément cherché, et on utilise une valeur particulière pour le cas où on ne trouve pas d'élément:"
   ]
  },
  {
   "cell_type": "code",
   "execution_count": 13,
   "metadata": {},
   "outputs": [
    {
     "name": "stdout",
     "output_type": "stream",
     "text": [
      "L'intervalle contient bien un multiple de 41: 205\n"
     ]
    }
   ],
   "source": [
    "int multiple =0;\n",
    "for (int i=191; i<=207; i++){\n",
    "    if (i%41==0){\n",
    "        multiple = i;\n",
    "        break; // ça y est, on l'a trouvé! on peut quitter la boucle.\n",
    "    } \n",
    "    // on ne met pas de clause else!\n",
    "}\n",
    "\n",
    "if (multiple!=0){\n",
    "    System.out.println(\"L'intervalle contient bien un multiple de 41: \"+ multiple);\n",
    "} else {\n",
    "    System.out.println(\"L'intervalle ne contient pas de multiple de 41!\");\n",
    "}"
   ]
  },
  {
   "cell_type": "markdown",
   "metadata": {},
   "source": [
    "Ici on initialise ```multiple``` à zéro, et si cette valeur n'a pas changé on suppose que l'élément cherché n'a pas été trouvé. Mais il faut faire attention: 0 est en fait multiple de 41, et si on cherchait des multiples de 41 dans l'intervalle \\[-10, 10\\], la valeur 0 serait la valeur du multiple trouvé, et non pas une indication qu'on l'a trouvé. Il faudrait alors utiliser une autre valeur initiale, ou simplement utiliser une deuxième variable comme au-dessus."
   ]
  },
  {
   "cell_type": "markdown",
   "metadata": {},
   "source": [
    "### Exercice 5: trouver la racine entière d'un nombre\n",
    "\n",
    "On veut trouver la racine carrée d'un nombre *n*, si elle est entière. Pour ceci, on va simplement parcourir l'intervalle \\[0, n\\] et tester chaque nombre pour voir si il donne *n* quand on l'élève au carré. Si on ne trouve pas de racine entière, on affichera un message indiquant cela. Utiliser le squelette de code suivant comme point de départ:"
   ]
  },
  {
   "cell_type": "code",
   "execution_count": null,
   "metadata": {},
   "outputs": [],
   "source": [
    "Scanner clavier = new Scanner(System.in);\n",
    "int nombre;\n",
    "do {\n",
    "    System.out.println(\"Entrer un entier positif pour obtenir sa racine carrée:\");\n",
    "    nombre = clavier.nextInt();\n",
    "} while (...); // pour s'assurer que le nombre est positif\n",
    "\n",
    "int racine = ...;\n",
    "for ( ... ){ // boucle pour chercher la racine dans l'intervalle [0, nombre]\n",
    "    \n",
    "}\n",
    "\n",
    "if (racine == ...){\n",
    "    System.out.println(\"La racine du nombre n'est pas entière\");\n",
    "} else {\n",
    "    System.out.println(\"La racine du nombre est \"+ racine);\n",
    "}"
   ]
  }
 ],
 "metadata": {
  "kernelspec": {
   "display_name": "Java",
   "language": "java",
   "name": "java"
  },
  "language_info": {
   "codemirror_mode": "java",
   "file_extension": ".jshell",
   "mimetype": "text/x-java-source",
   "name": "Java",
   "pygments_lexer": "java",
   "version": "14.0.1+7"
  }
 },
 "nbformat": 4,
 "nbformat_minor": 2
}
